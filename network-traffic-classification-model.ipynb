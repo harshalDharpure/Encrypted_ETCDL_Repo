{
 "cells": [
  {
   "cell_type": "markdown",
   "id": "7c2a147d",
   "metadata": {
    "papermill": {
     "duration": 0.018007,
     "end_time": "2025-03-06T13:01:14.336195",
     "exception": false,
     "start_time": "2025-03-06T13:01:14.318188",
     "status": "completed"
    },
    "tags": []
   },
   "source": [
    "# Network Traffic Recognition Model\n",
    "\n",
    "## Project Overview\n",
    "This notebook is part of a larger project on network traffic analysis at Ariel University. It focuses on classifying different types of network traffic based on their characteristic network patterns, even when the traffic is encrypted. By identifying traffic types without inspecting payload content, we can develop tools for network optimization and security monitoring while preserving user privacy.\n",
    "\n",
    "## Problem Statement\n",
    "Modern internet traffic is predominantly encrypted, making traditional deep packet inspection techniques ineffective for traffic classification. However, despite encryption, traffic still contains patterns and metadata that can reveal the underlying application. This notebook demonstrates how machine learning models can effectively identify application types solely from observable network traffic patterns without decrypting the content.\n",
    "\n",
    "## Dataset Description\n",
    "The `HTTPS-clf-dataset.csv` contains network flow features extracted from various applications' traffic captures. This dataset was specifically designed for encrypted traffic classification research and is available on [Kaggle](https://www.kaggle.com/datasets/inhngcn/https-traffic-classification/data).\n",
    "\n",
    "Our target variable is the `TYPE` column, which categorizes network traffic into six distinct classes:\n",
    "- `L` - Live Video Streaming\n",
    "- `P` - Video Player\n",
    "- `M` - Music Player\n",
    "- `U` - File Upload\n",
    "- `D` - File Download\n",
    "- `W` - Website and other traffic\n",
    "\n",
    "The dataset includes numerous features that characterize network flows without revealing content:\n",
    "- Packet size statistics (mean, variance, max, min)\n",
    "- Timing information (inter-arrival times)\n",
    "- Flow duration and throughput metrics\n",
    "- Burst analysis (number of bursts, bytes per burst, burst duration)\n",
    "- Traffic direction metrics (upstream vs. downstream)\n",
    "\n",
    "These features preserve user privacy (no content is inspected) while still containing distinctive patterns that characterize different applications. The patterns emerge from the inherent requirements of each application type - for example, video streaming requires different packet timing and sizes than file downloads or web browsing.\n",
    "\n",
    "## Methodology\n",
    "Our approach involves:\n",
    "1. **Data Preprocessing**: Cleaning the dataset, handling missing values, and normalizing features\n",
    "2. **Exploratory Data Analysis**: Understanding feature distributions and correlations\n",
    "3. **Feature Selection**: Identifying the most discriminative features\n",
    "4. **Model Training**: Implementing and optimizing multiple classification models (Random Forest, XGBoost, Neural Networks)\n",
    "5. **Performance Evaluation**: Comparing models using cross-validation and various metrics\n",
    "6. **Interpretation**: Analyzing feature importance to understand what makes different applications distinguishable\n",
    "\n",
    "This notebook demonstrates that encrypted traffic analysis can accurately identify application types, with important implications for network management, security monitoring, and privacy research. Understanding these classification techniques is crucial for both network optimization and for developing more privacy-preserving communication methods."
   ]
  },
  {
   "cell_type": "markdown",
   "id": "e2dbf97d",
   "metadata": {
    "papermill": {
     "duration": 0.017031,
     "end_time": "2025-03-06T13:01:14.370760",
     "exception": false,
     "start_time": "2025-03-06T13:01:14.353729",
     "status": "completed"
    },
    "tags": []
   },
   "source": [
    "# Notice 🚨\n",
    "\n",
    "Some of the cells in this notebook are commented out due to their long runtime ⏳. If you want to see the complete calculations, you will need to uncomment these cells and run them.\n",
    "\n",
    "To uncomment a cell, simply remove the `#` or `\"\"\"` symbols at the beginning and end of the cell.\n",
    "\n",
    "Please be aware that uncommenting and running these cells may take a significant amount of time, depending on the complexity of the calculations and the performance of your system 🖥️."
   ]
  },
  {
   "cell_type": "markdown",
   "id": "1142405b",
   "metadata": {
    "papermill": {
     "duration": 0.016389,
     "end_time": "2025-03-06T13:01:14.404514",
     "exception": false,
     "start_time": "2025-03-06T13:01:14.388125",
     "status": "completed"
    },
    "tags": []
   },
   "source": [
    "## Load the data"
   ]
  },
  {
   "cell_type": "code",
   "execution_count": 1,
   "id": "30e2b541",
   "metadata": {
    "ExecuteTime": {
     "end_time": "2025-03-04T15:28:13.556072Z",
     "start_time": "2025-03-04T15:28:13.541065Z"
    },
    "execution": {
     "iopub.execute_input": "2025-03-06T13:01:14.439735Z",
     "iopub.status.busy": "2025-03-06T13:01:14.439229Z",
     "iopub.status.idle": "2025-03-06T13:01:17.471777Z",
     "shell.execute_reply": "2025-03-06T13:01:17.470504Z"
    },
    "papermill": {
     "duration": 3.052681,
     "end_time": "2025-03-06T13:01:17.474177",
     "exception": false,
     "start_time": "2025-03-06T13:01:14.421496",
     "status": "completed"
    },
    "tags": []
   },
   "outputs": [],
   "source": [
    "import pandas as pd\n",
    "import numpy as np\n",
    "import matplotlib.pyplot as plt\n",
    "import seaborn as sns\n",
    "RANDOM_SEED=42"
   ]
  },
  {
   "cell_type": "code",
   "execution_count": 2,
   "id": "31b91f98",
   "metadata": {
    "ExecuteTime": {
     "end_time": "2025-03-04T21:35:19.763550Z",
     "start_time": "2025-03-04T21:35:18.720661Z"
    },
    "execution": {
     "iopub.execute_input": "2025-03-06T13:01:17.514796Z",
     "iopub.status.busy": "2025-03-06T13:01:17.514249Z",
     "iopub.status.idle": "2025-03-06T13:01:23.292665Z",
     "shell.execute_reply": "2025-03-06T13:01:23.291294Z"
    },
    "papermill": {
     "duration": 5.79976,
     "end_time": "2025-03-06T13:01:23.294895",
     "exception": false,
     "start_time": "2025-03-06T13:01:17.495135",
     "status": "completed"
    },
    "tags": []
   },
   "outputs": [
    {
     "data": {
      "text/html": [
       "<div>\n",
       "<style scoped>\n",
       "    .dataframe tbody tr th:only-of-type {\n",
       "        vertical-align: middle;\n",
       "    }\n",
       "\n",
       "    .dataframe tbody tr th {\n",
       "        vertical-align: top;\n",
       "    }\n",
       "\n",
       "    .dataframe thead th {\n",
       "        text-align: right;\n",
       "    }\n",
       "</style>\n",
       "<table border=\"1\" class=\"dataframe\">\n",
       "  <thead>\n",
       "    <tr style=\"text-align: right;\">\n",
       "      <th></th>\n",
       "      <th>BYTES</th>\n",
       "      <th>BYTES_REV</th>\n",
       "      <th>PACKETS</th>\n",
       "      <th>PACKETS_REV</th>\n",
       "      <th>TYPE</th>\n",
       "      <th>DBI_BRST_BYTES</th>\n",
       "      <th>DBI_BRST_PACKETS</th>\n",
       "      <th>PKT_LENGTHS</th>\n",
       "      <th>PPI_PKT_DIRECTIONS</th>\n",
       "      <th>BRST_COUNT</th>\n",
       "      <th>...</th>\n",
       "      <th>BRST_PACKETS_0</th>\n",
       "      <th>BRST_PACKETS_1</th>\n",
       "      <th>BRST_PACKETS_2</th>\n",
       "      <th>BRST_PACKETS_3</th>\n",
       "      <th>BRST_PACKETS_4</th>\n",
       "      <th>BRST_PACKETS_5</th>\n",
       "      <th>BRST_PACKETS_6</th>\n",
       "      <th>BRST_PACKETS_7</th>\n",
       "      <th>BRST_PACKETS_8</th>\n",
       "      <th>BRST_PACKETS_9</th>\n",
       "    </tr>\n",
       "  </thead>\n",
       "  <tbody>\n",
       "    <tr>\n",
       "      <th>0</th>\n",
       "      <td>57363.0</td>\n",
       "      <td>12066294.0</td>\n",
       "      <td>1199.0</td>\n",
       "      <td>9548.0</td>\n",
       "      <td>L</td>\n",
       "      <td>[11684362]</td>\n",
       "      <td>[9543]</td>\n",
       "      <td>[ 517 1300 1300  906   64 1300  178  200   30 ...</td>\n",
       "      <td>[ 1 -1 -1 -1  1  1  1 -1 -1 -1 -1 -1 -1 -1 -1 ...</td>\n",
       "      <td>1</td>\n",
       "      <td>...</td>\n",
       "      <td>9543</td>\n",
       "      <td>0</td>\n",
       "      <td>0</td>\n",
       "      <td>0</td>\n",
       "      <td>0</td>\n",
       "      <td>0</td>\n",
       "      <td>0</td>\n",
       "      <td>0</td>\n",
       "      <td>0</td>\n",
       "      <td>0</td>\n",
       "    </tr>\n",
       "    <tr>\n",
       "      <th>1</th>\n",
       "      <td>779698.0</td>\n",
       "      <td>38492555.0</td>\n",
       "      <td>14539.0</td>\n",
       "      <td>28466.0</td>\n",
       "      <td>L</td>\n",
       "      <td>[37012315]</td>\n",
       "      <td>[28446]</td>\n",
       "      <td>[ 203 1368 1368  469   93  195 1166  207 1368 ...</td>\n",
       "      <td>[ 1 -1 -1 -1  1 -1  1 -1 -1 -1 -1 -1 -1 -1 -1 ...</td>\n",
       "      <td>1</td>\n",
       "      <td>...</td>\n",
       "      <td>28446</td>\n",
       "      <td>0</td>\n",
       "      <td>0</td>\n",
       "      <td>0</td>\n",
       "      <td>0</td>\n",
       "      <td>0</td>\n",
       "      <td>0</td>\n",
       "      <td>0</td>\n",
       "      <td>0</td>\n",
       "      <td>0</td>\n",
       "    </tr>\n",
       "    <tr>\n",
       "      <th>2</th>\n",
       "      <td>278099.0</td>\n",
       "      <td>43349394.0</td>\n",
       "      <td>4624.0</td>\n",
       "      <td>28939.0</td>\n",
       "      <td>L</td>\n",
       "      <td>[25835232  3228530  1571739  3201768  1601221 ...</td>\n",
       "      <td>[17863  2232  1087  2214  1107  2224  1096  1109]</td>\n",
       "      <td>[ 517 1448 1448  610   64 1315  197 1448 1448 ...</td>\n",
       "      <td>[ 1 -1 -1 -1  1  1 -1 -1 -1 -1 -1 -1 -1 -1 -1 ...</td>\n",
       "      <td>8</td>\n",
       "      <td>...</td>\n",
       "      <td>17863</td>\n",
       "      <td>2232</td>\n",
       "      <td>1087</td>\n",
       "      <td>2214</td>\n",
       "      <td>1107</td>\n",
       "      <td>2224</td>\n",
       "      <td>1096</td>\n",
       "      <td>1109</td>\n",
       "      <td>0</td>\n",
       "      <td>0</td>\n",
       "    </tr>\n",
       "    <tr>\n",
       "      <th>3</th>\n",
       "      <td>143766.0</td>\n",
       "      <td>16941036.0</td>\n",
       "      <td>2252.0</td>\n",
       "      <td>11364.0</td>\n",
       "      <td>L</td>\n",
       "      <td>[1719683  864661  861008  854885  898346  8198...</td>\n",
       "      <td>[1205  599  598  592  623  569  592  600  591 ...</td>\n",
       "      <td>[ 517 1448 1448  305   93   51 1302 1302  207 ...</td>\n",
       "      <td>[ 1 -1 -1 -1  1 -1  1  1 -1 -1 -1 -1 -1 -1 -1 ...</td>\n",
       "      <td>15</td>\n",
       "      <td>...</td>\n",
       "      <td>1205</td>\n",
       "      <td>599</td>\n",
       "      <td>598</td>\n",
       "      <td>592</td>\n",
       "      <td>623</td>\n",
       "      <td>569</td>\n",
       "      <td>592</td>\n",
       "      <td>600</td>\n",
       "      <td>591</td>\n",
       "      <td>597</td>\n",
       "    </tr>\n",
       "    <tr>\n",
       "      <th>4</th>\n",
       "      <td>1790845.0</td>\n",
       "      <td>115404196.0</td>\n",
       "      <td>37979.0</td>\n",
       "      <td>77255.0</td>\n",
       "      <td>L</td>\n",
       "      <td>[1003845  649254  763458  781127  742554  7589...</td>\n",
       "      <td>[691 446 524 537 511 522 552 461 509 537 492 5...</td>\n",
       "      <td>[ 517 1460 1460  586   64 1378  200 1460 1460 ...</td>\n",
       "      <td>[ 1 -1 -1 -1  1  1 -1 -1 -1 -1 -1 -1 -1 -1 -1 ...</td>\n",
       "      <td>15</td>\n",
       "      <td>...</td>\n",
       "      <td>691</td>\n",
       "      <td>446</td>\n",
       "      <td>524</td>\n",
       "      <td>537</td>\n",
       "      <td>511</td>\n",
       "      <td>522</td>\n",
       "      <td>552</td>\n",
       "      <td>461</td>\n",
       "      <td>509</td>\n",
       "      <td>537</td>\n",
       "    </tr>\n",
       "    <tr>\n",
       "      <th>...</th>\n",
       "      <td>...</td>\n",
       "      <td>...</td>\n",
       "      <td>...</td>\n",
       "      <td>...</td>\n",
       "      <td>...</td>\n",
       "      <td>...</td>\n",
       "      <td>...</td>\n",
       "      <td>...</td>\n",
       "      <td>...</td>\n",
       "      <td>...</td>\n",
       "      <td>...</td>\n",
       "      <td>...</td>\n",
       "      <td>...</td>\n",
       "      <td>...</td>\n",
       "      <td>...</td>\n",
       "      <td>...</td>\n",
       "      <td>...</td>\n",
       "      <td>...</td>\n",
       "      <td>...</td>\n",
       "      <td>...</td>\n",
       "      <td>...</td>\n",
       "    </tr>\n",
       "    <tr>\n",
       "      <th>145666</th>\n",
       "      <td>160.0</td>\n",
       "      <td>224.0</td>\n",
       "      <td>4.0</td>\n",
       "      <td>5.0</td>\n",
       "      <td>W</td>\n",
       "      <td>[4277]</td>\n",
       "      <td>[5]</td>\n",
       "      <td>[40 40 40 40 64 40 40 40 40]</td>\n",
       "      <td>[ 1 -1  1 -1 -1  1 -1  1 -1]</td>\n",
       "      <td>1</td>\n",
       "      <td>...</td>\n",
       "      <td>5</td>\n",
       "      <td>0</td>\n",
       "      <td>0</td>\n",
       "      <td>0</td>\n",
       "      <td>0</td>\n",
       "      <td>0</td>\n",
       "      <td>0</td>\n",
       "      <td>0</td>\n",
       "      <td>0</td>\n",
       "      <td>0</td>\n",
       "    </tr>\n",
       "    <tr>\n",
       "      <th>145667</th>\n",
       "      <td>12443.0</td>\n",
       "      <td>101681.0</td>\n",
       "      <td>267.0</td>\n",
       "      <td>266.0</td>\n",
       "      <td>W</td>\n",
       "      <td>[ 1095 38442  5645  2784  2259  6235  2103  15...</td>\n",
       "      <td>[ 3 96 15  7  6 15  5  4  8  7 39  7  6]</td>\n",
       "      <td>[ 60  44  40 557  40 177  40  91  40 914  40 2...</td>\n",
       "      <td>[ 1 -1  1  1 -1 -1  1  1 -1  1 -1 -1  1  1 -1 ...</td>\n",
       "      <td>13</td>\n",
       "      <td>...</td>\n",
       "      <td>3</td>\n",
       "      <td>96</td>\n",
       "      <td>15</td>\n",
       "      <td>7</td>\n",
       "      <td>6</td>\n",
       "      <td>15</td>\n",
       "      <td>5</td>\n",
       "      <td>4</td>\n",
       "      <td>8</td>\n",
       "      <td>7</td>\n",
       "    </tr>\n",
       "    <tr>\n",
       "      <th>145668</th>\n",
       "      <td>133271.0</td>\n",
       "      <td>882577.0</td>\n",
       "      <td>1053.0</td>\n",
       "      <td>1064.0</td>\n",
       "      <td>W</td>\n",
       "      <td>[27211 40883 13826 13743 27390 13792 13810 137...</td>\n",
       "      <td>[22 44 17 15 34 18 17 15 17 17 18 16 12 17 17]</td>\n",
       "      <td>[  60   44   40  557   40  177   40   91   40 ...</td>\n",
       "      <td>[ 1 -1  1  1 -1 -1  1  1 -1  1 -1 -1  1 -1  1 ...</td>\n",
       "      <td>15</td>\n",
       "      <td>...</td>\n",
       "      <td>22</td>\n",
       "      <td>44</td>\n",
       "      <td>17</td>\n",
       "      <td>15</td>\n",
       "      <td>34</td>\n",
       "      <td>18</td>\n",
       "      <td>17</td>\n",
       "      <td>15</td>\n",
       "      <td>17</td>\n",
       "      <td>17</td>\n",
       "    </tr>\n",
       "    <tr>\n",
       "      <th>145669</th>\n",
       "      <td>1153975.0</td>\n",
       "      <td>84044865.0</td>\n",
       "      <td>23406.0</td>\n",
       "      <td>93051.0</td>\n",
       "      <td>L</td>\n",
       "      <td>[25798570   902241   903738   865790   883368 ...</td>\n",
       "      <td>[25933   903  1070   967   963 63051]</td>\n",
       "      <td>[  60   44   40  557   40 1460   40   72   40 ...</td>\n",
       "      <td>[ 1 -1  1  1 -1 -1  1 -1  1 -1  1 -1  1 -1  1 ...</td>\n",
       "      <td>6</td>\n",
       "      <td>...</td>\n",
       "      <td>25933</td>\n",
       "      <td>903</td>\n",
       "      <td>1070</td>\n",
       "      <td>967</td>\n",
       "      <td>963</td>\n",
       "      <td>63051</td>\n",
       "      <td>0</td>\n",
       "      <td>0</td>\n",
       "      <td>0</td>\n",
       "      <td>0</td>\n",
       "    </tr>\n",
       "    <tr>\n",
       "      <th>145670</th>\n",
       "      <td>15006.0</td>\n",
       "      <td>23867.0</td>\n",
       "      <td>132.0</td>\n",
       "      <td>131.0</td>\n",
       "      <td>W</td>\n",
       "      <td>[6111  864  864 1089 1003  432  432  720  864 ...</td>\n",
       "      <td>[9 6 6 6 5 3 3 5 6 3 4]</td>\n",
       "      <td>[  60   44   40  557   40 1460   40   72   40 ...</td>\n",
       "      <td>[ 1 -1  1  1 -1 -1  1 -1  1 -1  1 -1  1 -1  1 ...</td>\n",
       "      <td>11</td>\n",
       "      <td>...</td>\n",
       "      <td>9</td>\n",
       "      <td>6</td>\n",
       "      <td>6</td>\n",
       "      <td>6</td>\n",
       "      <td>5</td>\n",
       "      <td>3</td>\n",
       "      <td>3</td>\n",
       "      <td>5</td>\n",
       "      <td>6</td>\n",
       "      <td>3</td>\n",
       "    </tr>\n",
       "  </tbody>\n",
       "</table>\n",
       "<p>145671 rows × 87 columns</p>\n",
       "</div>"
      ],
      "text/plain": [
       "            BYTES    BYTES_REV  PACKETS  PACKETS_REV TYPE  \\\n",
       "0         57363.0   12066294.0   1199.0       9548.0    L   \n",
       "1        779698.0   38492555.0  14539.0      28466.0    L   \n",
       "2        278099.0   43349394.0   4624.0      28939.0    L   \n",
       "3        143766.0   16941036.0   2252.0      11364.0    L   \n",
       "4       1790845.0  115404196.0  37979.0      77255.0    L   \n",
       "...           ...          ...      ...          ...  ...   \n",
       "145666      160.0        224.0      4.0          5.0    W   \n",
       "145667    12443.0     101681.0    267.0        266.0    W   \n",
       "145668   133271.0     882577.0   1053.0       1064.0    W   \n",
       "145669  1153975.0   84044865.0  23406.0      93051.0    L   \n",
       "145670    15006.0      23867.0    132.0        131.0    W   \n",
       "\n",
       "                                           DBI_BRST_BYTES  \\\n",
       "0                                              [11684362]   \n",
       "1                                              [37012315]   \n",
       "2       [25835232  3228530  1571739  3201768  1601221 ...   \n",
       "3       [1719683  864661  861008  854885  898346  8198...   \n",
       "4       [1003845  649254  763458  781127  742554  7589...   \n",
       "...                                                   ...   \n",
       "145666                                             [4277]   \n",
       "145667  [ 1095 38442  5645  2784  2259  6235  2103  15...   \n",
       "145668  [27211 40883 13826 13743 27390 13792 13810 137...   \n",
       "145669  [25798570   902241   903738   865790   883368 ...   \n",
       "145670  [6111  864  864 1089 1003  432  432  720  864 ...   \n",
       "\n",
       "                                         DBI_BRST_PACKETS  \\\n",
       "0                                                  [9543]   \n",
       "1                                                 [28446]   \n",
       "2       [17863  2232  1087  2214  1107  2224  1096  1109]   \n",
       "3       [1205  599  598  592  623  569  592  600  591 ...   \n",
       "4       [691 446 524 537 511 522 552 461 509 537 492 5...   \n",
       "...                                                   ...   \n",
       "145666                                                [5]   \n",
       "145667           [ 3 96 15  7  6 15  5  4  8  7 39  7  6]   \n",
       "145668     [22 44 17 15 34 18 17 15 17 17 18 16 12 17 17]   \n",
       "145669              [25933   903  1070   967   963 63051]   \n",
       "145670                            [9 6 6 6 5 3 3 5 6 3 4]   \n",
       "\n",
       "                                              PKT_LENGTHS  \\\n",
       "0       [ 517 1300 1300  906   64 1300  178  200   30 ...   \n",
       "1       [ 203 1368 1368  469   93  195 1166  207 1368 ...   \n",
       "2       [ 517 1448 1448  610   64 1315  197 1448 1448 ...   \n",
       "3       [ 517 1448 1448  305   93   51 1302 1302  207 ...   \n",
       "4       [ 517 1460 1460  586   64 1378  200 1460 1460 ...   \n",
       "...                                                   ...   \n",
       "145666                       [40 40 40 40 64 40 40 40 40]   \n",
       "145667  [ 60  44  40 557  40 177  40  91  40 914  40 2...   \n",
       "145668  [  60   44   40  557   40  177   40   91   40 ...   \n",
       "145669  [  60   44   40  557   40 1460   40   72   40 ...   \n",
       "145670  [  60   44   40  557   40 1460   40   72   40 ...   \n",
       "\n",
       "                                       PPI_PKT_DIRECTIONS  BRST_COUNT  ...  \\\n",
       "0       [ 1 -1 -1 -1  1  1  1 -1 -1 -1 -1 -1 -1 -1 -1 ...           1  ...   \n",
       "1       [ 1 -1 -1 -1  1 -1  1 -1 -1 -1 -1 -1 -1 -1 -1 ...           1  ...   \n",
       "2       [ 1 -1 -1 -1  1  1 -1 -1 -1 -1 -1 -1 -1 -1 -1 ...           8  ...   \n",
       "3       [ 1 -1 -1 -1  1 -1  1  1 -1 -1 -1 -1 -1 -1 -1 ...          15  ...   \n",
       "4       [ 1 -1 -1 -1  1  1 -1 -1 -1 -1 -1 -1 -1 -1 -1 ...          15  ...   \n",
       "...                                                   ...         ...  ...   \n",
       "145666                       [ 1 -1  1 -1 -1  1 -1  1 -1]           1  ...   \n",
       "145667  [ 1 -1  1  1 -1 -1  1  1 -1  1 -1 -1  1  1 -1 ...          13  ...   \n",
       "145668  [ 1 -1  1  1 -1 -1  1  1 -1  1 -1 -1  1 -1  1 ...          15  ...   \n",
       "145669  [ 1 -1  1  1 -1 -1  1 -1  1 -1  1 -1  1 -1  1 ...           6  ...   \n",
       "145670  [ 1 -1  1  1 -1 -1  1 -1  1 -1  1 -1  1 -1  1 ...          11  ...   \n",
       "\n",
       "        BRST_PACKETS_0 BRST_PACKETS_1 BRST_PACKETS_2 BRST_PACKETS_3  \\\n",
       "0                 9543              0              0              0   \n",
       "1                28446              0              0              0   \n",
       "2                17863           2232           1087           2214   \n",
       "3                 1205            599            598            592   \n",
       "4                  691            446            524            537   \n",
       "...                ...            ...            ...            ...   \n",
       "145666               5              0              0              0   \n",
       "145667               3             96             15              7   \n",
       "145668              22             44             17             15   \n",
       "145669           25933            903           1070            967   \n",
       "145670               9              6              6              6   \n",
       "\n",
       "       BRST_PACKETS_4 BRST_PACKETS_5  BRST_PACKETS_6  BRST_PACKETS_7  \\\n",
       "0                   0              0               0               0   \n",
       "1                   0              0               0               0   \n",
       "2                1107           2224            1096            1109   \n",
       "3                 623            569             592             600   \n",
       "4                 511            522             552             461   \n",
       "...               ...            ...             ...             ...   \n",
       "145666              0              0               0               0   \n",
       "145667              6             15               5               4   \n",
       "145668             34             18              17              15   \n",
       "145669            963          63051               0               0   \n",
       "145670              5              3               3               5   \n",
       "\n",
       "        BRST_PACKETS_8  BRST_PACKETS_9  \n",
       "0                    0               0  \n",
       "1                    0               0  \n",
       "2                    0               0  \n",
       "3                  591             597  \n",
       "4                  509             537  \n",
       "...                ...             ...  \n",
       "145666               0               0  \n",
       "145667               8               7  \n",
       "145668              17              17  \n",
       "145669               0               0  \n",
       "145670               6               3  \n",
       "\n",
       "[145671 rows x 87 columns]"
      ]
     },
     "execution_count": 2,
     "metadata": {},
     "output_type": "execute_result"
    }
   ],
   "source": [
    "df = pd.read_csv(\"/kaggle/input/https-traffic-classification/HTTPS-clf-dataset.csv\", index_col=0)\n",
    "\n",
    "df"
   ]
  },
  {
   "cell_type": "markdown",
   "id": "3ba1d1f0",
   "metadata": {
    "papermill": {
     "duration": 0.017614,
     "end_time": "2025-03-06T13:01:23.330652",
     "exception": false,
     "start_time": "2025-03-06T13:01:23.313038",
     "status": "completed"
    },
    "tags": []
   },
   "source": [
    "Notice that all the data is information about bytes per packet or overall, that's the data any attacker can get from the network, and we can use this data to classify the network traffic type. The only column that is not numeric is the `TYPE` column, which is our target variable."
   ]
  },
  {
   "cell_type": "markdown",
   "id": "4fb19a6c",
   "metadata": {
    "papermill": {
     "duration": 0.01821,
     "end_time": "2025-03-06T13:01:23.369139",
     "exception": false,
     "start_time": "2025-03-06T13:01:23.350929",
     "status": "completed"
    },
    "tags": []
   },
   "source": [
    "## Data Preprocessing"
   ]
  },
  {
   "cell_type": "markdown",
   "id": "2bb98b17",
   "metadata": {
    "papermill": {
     "duration": 0.017078,
     "end_time": "2025-03-06T13:01:23.404320",
     "exception": false,
     "start_time": "2025-03-06T13:01:23.387242",
     "status": "completed"
    },
    "tags": []
   },
   "source": [
    "We convert the `TYPE` column to categorical data and then to numerical data for easy processing."
   ]
  },
  {
   "cell_type": "code",
   "execution_count": 3,
   "id": "e2cc0587",
   "metadata": {
    "ExecuteTime": {
     "end_time": "2025-03-04T21:35:31.586845Z",
     "start_time": "2025-03-04T21:35:31.523899Z"
    },
    "execution": {
     "iopub.execute_input": "2025-03-06T13:01:23.443947Z",
     "iopub.status.busy": "2025-03-06T13:01:23.443508Z",
     "iopub.status.idle": "2025-03-06T13:01:23.524754Z",
     "shell.execute_reply": "2025-03-06T13:01:23.523586Z"
    },
    "papermill": {
     "duration": 0.103891,
     "end_time": "2025-03-06T13:01:23.527099",
     "exception": false,
     "start_time": "2025-03-06T13:01:23.423208",
     "status": "completed"
    },
    "tags": []
   },
   "outputs": [
    {
     "data": {
      "text/html": [
       "<div>\n",
       "<style scoped>\n",
       "    .dataframe tbody tr th:only-of-type {\n",
       "        vertical-align: middle;\n",
       "    }\n",
       "\n",
       "    .dataframe tbody tr th {\n",
       "        vertical-align: top;\n",
       "    }\n",
       "\n",
       "    .dataframe thead th {\n",
       "        text-align: right;\n",
       "    }\n",
       "</style>\n",
       "<table border=\"1\" class=\"dataframe\">\n",
       "  <thead>\n",
       "    <tr style=\"text-align: right;\">\n",
       "      <th></th>\n",
       "      <th>BYTES</th>\n",
       "      <th>BYTES_REV</th>\n",
       "      <th>PACKETS</th>\n",
       "      <th>PACKETS_REV</th>\n",
       "      <th>TYPE</th>\n",
       "      <th>DBI_BRST_BYTES</th>\n",
       "      <th>DBI_BRST_PACKETS</th>\n",
       "      <th>PKT_LENGTHS</th>\n",
       "      <th>PPI_PKT_DIRECTIONS</th>\n",
       "      <th>BRST_COUNT</th>\n",
       "      <th>...</th>\n",
       "      <th>BRST_PACKETS_0</th>\n",
       "      <th>BRST_PACKETS_1</th>\n",
       "      <th>BRST_PACKETS_2</th>\n",
       "      <th>BRST_PACKETS_3</th>\n",
       "      <th>BRST_PACKETS_4</th>\n",
       "      <th>BRST_PACKETS_5</th>\n",
       "      <th>BRST_PACKETS_6</th>\n",
       "      <th>BRST_PACKETS_7</th>\n",
       "      <th>BRST_PACKETS_8</th>\n",
       "      <th>BRST_PACKETS_9</th>\n",
       "    </tr>\n",
       "  </thead>\n",
       "  <tbody>\n",
       "    <tr>\n",
       "      <th>0</th>\n",
       "      <td>57363.0</td>\n",
       "      <td>12066294.0</td>\n",
       "      <td>1199.0</td>\n",
       "      <td>9548.0</td>\n",
       "      <td>1</td>\n",
       "      <td>[11684362]</td>\n",
       "      <td>[9543]</td>\n",
       "      <td>[ 517 1300 1300  906   64 1300  178  200   30 ...</td>\n",
       "      <td>[ 1 -1 -1 -1  1  1  1 -1 -1 -1 -1 -1 -1 -1 -1 ...</td>\n",
       "      <td>1</td>\n",
       "      <td>...</td>\n",
       "      <td>9543</td>\n",
       "      <td>0</td>\n",
       "      <td>0</td>\n",
       "      <td>0</td>\n",
       "      <td>0</td>\n",
       "      <td>0</td>\n",
       "      <td>0</td>\n",
       "      <td>0</td>\n",
       "      <td>0</td>\n",
       "      <td>0</td>\n",
       "    </tr>\n",
       "    <tr>\n",
       "      <th>1</th>\n",
       "      <td>779698.0</td>\n",
       "      <td>38492555.0</td>\n",
       "      <td>14539.0</td>\n",
       "      <td>28466.0</td>\n",
       "      <td>1</td>\n",
       "      <td>[37012315]</td>\n",
       "      <td>[28446]</td>\n",
       "      <td>[ 203 1368 1368  469   93  195 1166  207 1368 ...</td>\n",
       "      <td>[ 1 -1 -1 -1  1 -1  1 -1 -1 -1 -1 -1 -1 -1 -1 ...</td>\n",
       "      <td>1</td>\n",
       "      <td>...</td>\n",
       "      <td>28446</td>\n",
       "      <td>0</td>\n",
       "      <td>0</td>\n",
       "      <td>0</td>\n",
       "      <td>0</td>\n",
       "      <td>0</td>\n",
       "      <td>0</td>\n",
       "      <td>0</td>\n",
       "      <td>0</td>\n",
       "      <td>0</td>\n",
       "    </tr>\n",
       "    <tr>\n",
       "      <th>2</th>\n",
       "      <td>278099.0</td>\n",
       "      <td>43349394.0</td>\n",
       "      <td>4624.0</td>\n",
       "      <td>28939.0</td>\n",
       "      <td>1</td>\n",
       "      <td>[25835232  3228530  1571739  3201768  1601221 ...</td>\n",
       "      <td>[17863  2232  1087  2214  1107  2224  1096  1109]</td>\n",
       "      <td>[ 517 1448 1448  610   64 1315  197 1448 1448 ...</td>\n",
       "      <td>[ 1 -1 -1 -1  1  1 -1 -1 -1 -1 -1 -1 -1 -1 -1 ...</td>\n",
       "      <td>8</td>\n",
       "      <td>...</td>\n",
       "      <td>17863</td>\n",
       "      <td>2232</td>\n",
       "      <td>1087</td>\n",
       "      <td>2214</td>\n",
       "      <td>1107</td>\n",
       "      <td>2224</td>\n",
       "      <td>1096</td>\n",
       "      <td>1109</td>\n",
       "      <td>0</td>\n",
       "      <td>0</td>\n",
       "    </tr>\n",
       "    <tr>\n",
       "      <th>3</th>\n",
       "      <td>143766.0</td>\n",
       "      <td>16941036.0</td>\n",
       "      <td>2252.0</td>\n",
       "      <td>11364.0</td>\n",
       "      <td>1</td>\n",
       "      <td>[1719683  864661  861008  854885  898346  8198...</td>\n",
       "      <td>[1205  599  598  592  623  569  592  600  591 ...</td>\n",
       "      <td>[ 517 1448 1448  305   93   51 1302 1302  207 ...</td>\n",
       "      <td>[ 1 -1 -1 -1  1 -1  1  1 -1 -1 -1 -1 -1 -1 -1 ...</td>\n",
       "      <td>15</td>\n",
       "      <td>...</td>\n",
       "      <td>1205</td>\n",
       "      <td>599</td>\n",
       "      <td>598</td>\n",
       "      <td>592</td>\n",
       "      <td>623</td>\n",
       "      <td>569</td>\n",
       "      <td>592</td>\n",
       "      <td>600</td>\n",
       "      <td>591</td>\n",
       "      <td>597</td>\n",
       "    </tr>\n",
       "    <tr>\n",
       "      <th>4</th>\n",
       "      <td>1790845.0</td>\n",
       "      <td>115404196.0</td>\n",
       "      <td>37979.0</td>\n",
       "      <td>77255.0</td>\n",
       "      <td>1</td>\n",
       "      <td>[1003845  649254  763458  781127  742554  7589...</td>\n",
       "      <td>[691 446 524 537 511 522 552 461 509 537 492 5...</td>\n",
       "      <td>[ 517 1460 1460  586   64 1378  200 1460 1460 ...</td>\n",
       "      <td>[ 1 -1 -1 -1  1  1 -1 -1 -1 -1 -1 -1 -1 -1 -1 ...</td>\n",
       "      <td>15</td>\n",
       "      <td>...</td>\n",
       "      <td>691</td>\n",
       "      <td>446</td>\n",
       "      <td>524</td>\n",
       "      <td>537</td>\n",
       "      <td>511</td>\n",
       "      <td>522</td>\n",
       "      <td>552</td>\n",
       "      <td>461</td>\n",
       "      <td>509</td>\n",
       "      <td>537</td>\n",
       "    </tr>\n",
       "    <tr>\n",
       "      <th>...</th>\n",
       "      <td>...</td>\n",
       "      <td>...</td>\n",
       "      <td>...</td>\n",
       "      <td>...</td>\n",
       "      <td>...</td>\n",
       "      <td>...</td>\n",
       "      <td>...</td>\n",
       "      <td>...</td>\n",
       "      <td>...</td>\n",
       "      <td>...</td>\n",
       "      <td>...</td>\n",
       "      <td>...</td>\n",
       "      <td>...</td>\n",
       "      <td>...</td>\n",
       "      <td>...</td>\n",
       "      <td>...</td>\n",
       "      <td>...</td>\n",
       "      <td>...</td>\n",
       "      <td>...</td>\n",
       "      <td>...</td>\n",
       "      <td>...</td>\n",
       "    </tr>\n",
       "    <tr>\n",
       "      <th>145666</th>\n",
       "      <td>160.0</td>\n",
       "      <td>224.0</td>\n",
       "      <td>4.0</td>\n",
       "      <td>5.0</td>\n",
       "      <td>5</td>\n",
       "      <td>[4277]</td>\n",
       "      <td>[5]</td>\n",
       "      <td>[40 40 40 40 64 40 40 40 40]</td>\n",
       "      <td>[ 1 -1  1 -1 -1  1 -1  1 -1]</td>\n",
       "      <td>1</td>\n",
       "      <td>...</td>\n",
       "      <td>5</td>\n",
       "      <td>0</td>\n",
       "      <td>0</td>\n",
       "      <td>0</td>\n",
       "      <td>0</td>\n",
       "      <td>0</td>\n",
       "      <td>0</td>\n",
       "      <td>0</td>\n",
       "      <td>0</td>\n",
       "      <td>0</td>\n",
       "    </tr>\n",
       "    <tr>\n",
       "      <th>145667</th>\n",
       "      <td>12443.0</td>\n",
       "      <td>101681.0</td>\n",
       "      <td>267.0</td>\n",
       "      <td>266.0</td>\n",
       "      <td>5</td>\n",
       "      <td>[ 1095 38442  5645  2784  2259  6235  2103  15...</td>\n",
       "      <td>[ 3 96 15  7  6 15  5  4  8  7 39  7  6]</td>\n",
       "      <td>[ 60  44  40 557  40 177  40  91  40 914  40 2...</td>\n",
       "      <td>[ 1 -1  1  1 -1 -1  1  1 -1  1 -1 -1  1  1 -1 ...</td>\n",
       "      <td>13</td>\n",
       "      <td>...</td>\n",
       "      <td>3</td>\n",
       "      <td>96</td>\n",
       "      <td>15</td>\n",
       "      <td>7</td>\n",
       "      <td>6</td>\n",
       "      <td>15</td>\n",
       "      <td>5</td>\n",
       "      <td>4</td>\n",
       "      <td>8</td>\n",
       "      <td>7</td>\n",
       "    </tr>\n",
       "    <tr>\n",
       "      <th>145668</th>\n",
       "      <td>133271.0</td>\n",
       "      <td>882577.0</td>\n",
       "      <td>1053.0</td>\n",
       "      <td>1064.0</td>\n",
       "      <td>5</td>\n",
       "      <td>[27211 40883 13826 13743 27390 13792 13810 137...</td>\n",
       "      <td>[22 44 17 15 34 18 17 15 17 17 18 16 12 17 17]</td>\n",
       "      <td>[  60   44   40  557   40  177   40   91   40 ...</td>\n",
       "      <td>[ 1 -1  1  1 -1 -1  1  1 -1  1 -1 -1  1 -1  1 ...</td>\n",
       "      <td>15</td>\n",
       "      <td>...</td>\n",
       "      <td>22</td>\n",
       "      <td>44</td>\n",
       "      <td>17</td>\n",
       "      <td>15</td>\n",
       "      <td>34</td>\n",
       "      <td>18</td>\n",
       "      <td>17</td>\n",
       "      <td>15</td>\n",
       "      <td>17</td>\n",
       "      <td>17</td>\n",
       "    </tr>\n",
       "    <tr>\n",
       "      <th>145669</th>\n",
       "      <td>1153975.0</td>\n",
       "      <td>84044865.0</td>\n",
       "      <td>23406.0</td>\n",
       "      <td>93051.0</td>\n",
       "      <td>1</td>\n",
       "      <td>[25798570   902241   903738   865790   883368 ...</td>\n",
       "      <td>[25933   903  1070   967   963 63051]</td>\n",
       "      <td>[  60   44   40  557   40 1460   40   72   40 ...</td>\n",
       "      <td>[ 1 -1  1  1 -1 -1  1 -1  1 -1  1 -1  1 -1  1 ...</td>\n",
       "      <td>6</td>\n",
       "      <td>...</td>\n",
       "      <td>25933</td>\n",
       "      <td>903</td>\n",
       "      <td>1070</td>\n",
       "      <td>967</td>\n",
       "      <td>963</td>\n",
       "      <td>63051</td>\n",
       "      <td>0</td>\n",
       "      <td>0</td>\n",
       "      <td>0</td>\n",
       "      <td>0</td>\n",
       "    </tr>\n",
       "    <tr>\n",
       "      <th>145670</th>\n",
       "      <td>15006.0</td>\n",
       "      <td>23867.0</td>\n",
       "      <td>132.0</td>\n",
       "      <td>131.0</td>\n",
       "      <td>5</td>\n",
       "      <td>[6111  864  864 1089 1003  432  432  720  864 ...</td>\n",
       "      <td>[9 6 6 6 5 3 3 5 6 3 4]</td>\n",
       "      <td>[  60   44   40  557   40 1460   40   72   40 ...</td>\n",
       "      <td>[ 1 -1  1  1 -1 -1  1 -1  1 -1  1 -1  1 -1  1 ...</td>\n",
       "      <td>11</td>\n",
       "      <td>...</td>\n",
       "      <td>9</td>\n",
       "      <td>6</td>\n",
       "      <td>6</td>\n",
       "      <td>6</td>\n",
       "      <td>5</td>\n",
       "      <td>3</td>\n",
       "      <td>3</td>\n",
       "      <td>5</td>\n",
       "      <td>6</td>\n",
       "      <td>3</td>\n",
       "    </tr>\n",
       "  </tbody>\n",
       "</table>\n",
       "<p>145671 rows × 87 columns</p>\n",
       "</div>"
      ],
      "text/plain": [
       "            BYTES    BYTES_REV  PACKETS  PACKETS_REV  TYPE  \\\n",
       "0         57363.0   12066294.0   1199.0       9548.0     1   \n",
       "1        779698.0   38492555.0  14539.0      28466.0     1   \n",
       "2        278099.0   43349394.0   4624.0      28939.0     1   \n",
       "3        143766.0   16941036.0   2252.0      11364.0     1   \n",
       "4       1790845.0  115404196.0  37979.0      77255.0     1   \n",
       "...           ...          ...      ...          ...   ...   \n",
       "145666      160.0        224.0      4.0          5.0     5   \n",
       "145667    12443.0     101681.0    267.0        266.0     5   \n",
       "145668   133271.0     882577.0   1053.0       1064.0     5   \n",
       "145669  1153975.0   84044865.0  23406.0      93051.0     1   \n",
       "145670    15006.0      23867.0    132.0        131.0     5   \n",
       "\n",
       "                                           DBI_BRST_BYTES  \\\n",
       "0                                              [11684362]   \n",
       "1                                              [37012315]   \n",
       "2       [25835232  3228530  1571739  3201768  1601221 ...   \n",
       "3       [1719683  864661  861008  854885  898346  8198...   \n",
       "4       [1003845  649254  763458  781127  742554  7589...   \n",
       "...                                                   ...   \n",
       "145666                                             [4277]   \n",
       "145667  [ 1095 38442  5645  2784  2259  6235  2103  15...   \n",
       "145668  [27211 40883 13826 13743 27390 13792 13810 137...   \n",
       "145669  [25798570   902241   903738   865790   883368 ...   \n",
       "145670  [6111  864  864 1089 1003  432  432  720  864 ...   \n",
       "\n",
       "                                         DBI_BRST_PACKETS  \\\n",
       "0                                                  [9543]   \n",
       "1                                                 [28446]   \n",
       "2       [17863  2232  1087  2214  1107  2224  1096  1109]   \n",
       "3       [1205  599  598  592  623  569  592  600  591 ...   \n",
       "4       [691 446 524 537 511 522 552 461 509 537 492 5...   \n",
       "...                                                   ...   \n",
       "145666                                                [5]   \n",
       "145667           [ 3 96 15  7  6 15  5  4  8  7 39  7  6]   \n",
       "145668     [22 44 17 15 34 18 17 15 17 17 18 16 12 17 17]   \n",
       "145669              [25933   903  1070   967   963 63051]   \n",
       "145670                            [9 6 6 6 5 3 3 5 6 3 4]   \n",
       "\n",
       "                                              PKT_LENGTHS  \\\n",
       "0       [ 517 1300 1300  906   64 1300  178  200   30 ...   \n",
       "1       [ 203 1368 1368  469   93  195 1166  207 1368 ...   \n",
       "2       [ 517 1448 1448  610   64 1315  197 1448 1448 ...   \n",
       "3       [ 517 1448 1448  305   93   51 1302 1302  207 ...   \n",
       "4       [ 517 1460 1460  586   64 1378  200 1460 1460 ...   \n",
       "...                                                   ...   \n",
       "145666                       [40 40 40 40 64 40 40 40 40]   \n",
       "145667  [ 60  44  40 557  40 177  40  91  40 914  40 2...   \n",
       "145668  [  60   44   40  557   40  177   40   91   40 ...   \n",
       "145669  [  60   44   40  557   40 1460   40   72   40 ...   \n",
       "145670  [  60   44   40  557   40 1460   40   72   40 ...   \n",
       "\n",
       "                                       PPI_PKT_DIRECTIONS  BRST_COUNT  ...  \\\n",
       "0       [ 1 -1 -1 -1  1  1  1 -1 -1 -1 -1 -1 -1 -1 -1 ...           1  ...   \n",
       "1       [ 1 -1 -1 -1  1 -1  1 -1 -1 -1 -1 -1 -1 -1 -1 ...           1  ...   \n",
       "2       [ 1 -1 -1 -1  1  1 -1 -1 -1 -1 -1 -1 -1 -1 -1 ...           8  ...   \n",
       "3       [ 1 -1 -1 -1  1 -1  1  1 -1 -1 -1 -1 -1 -1 -1 ...          15  ...   \n",
       "4       [ 1 -1 -1 -1  1  1 -1 -1 -1 -1 -1 -1 -1 -1 -1 ...          15  ...   \n",
       "...                                                   ...         ...  ...   \n",
       "145666                       [ 1 -1  1 -1 -1  1 -1  1 -1]           1  ...   \n",
       "145667  [ 1 -1  1  1 -1 -1  1  1 -1  1 -1 -1  1  1 -1 ...          13  ...   \n",
       "145668  [ 1 -1  1  1 -1 -1  1  1 -1  1 -1 -1  1 -1  1 ...          15  ...   \n",
       "145669  [ 1 -1  1  1 -1 -1  1 -1  1 -1  1 -1  1 -1  1 ...           6  ...   \n",
       "145670  [ 1 -1  1  1 -1 -1  1 -1  1 -1  1 -1  1 -1  1 ...          11  ...   \n",
       "\n",
       "        BRST_PACKETS_0 BRST_PACKETS_1 BRST_PACKETS_2 BRST_PACKETS_3  \\\n",
       "0                 9543              0              0              0   \n",
       "1                28446              0              0              0   \n",
       "2                17863           2232           1087           2214   \n",
       "3                 1205            599            598            592   \n",
       "4                  691            446            524            537   \n",
       "...                ...            ...            ...            ...   \n",
       "145666               5              0              0              0   \n",
       "145667               3             96             15              7   \n",
       "145668              22             44             17             15   \n",
       "145669           25933            903           1070            967   \n",
       "145670               9              6              6              6   \n",
       "\n",
       "       BRST_PACKETS_4 BRST_PACKETS_5  BRST_PACKETS_6  BRST_PACKETS_7  \\\n",
       "0                   0              0               0               0   \n",
       "1                   0              0               0               0   \n",
       "2                1107           2224            1096            1109   \n",
       "3                 623            569             592             600   \n",
       "4                 511            522             552             461   \n",
       "...               ...            ...             ...             ...   \n",
       "145666              0              0               0               0   \n",
       "145667              6             15               5               4   \n",
       "145668             34             18              17              15   \n",
       "145669            963          63051               0               0   \n",
       "145670              5              3               3               5   \n",
       "\n",
       "        BRST_PACKETS_8  BRST_PACKETS_9  \n",
       "0                    0               0  \n",
       "1                    0               0  \n",
       "2                    0               0  \n",
       "3                  591             597  \n",
       "4                  509             537  \n",
       "...                ...             ...  \n",
       "145666               0               0  \n",
       "145667               8               7  \n",
       "145668              17              17  \n",
       "145669               0               0  \n",
       "145670               6               3  \n",
       "\n",
       "[145671 rows x 87 columns]"
      ]
     },
     "execution_count": 3,
     "metadata": {},
     "output_type": "execute_result"
    }
   ],
   "source": [
    "df[\"TYPE\"] = df[\"TYPE\"].astype(\"category\").cat.codes\n",
    "df"
   ]
  },
  {
   "cell_type": "code",
   "execution_count": 4,
   "id": "5432c24b",
   "metadata": {
    "ExecuteTime": {
     "end_time": "2025-03-04T15:28:15.116729Z",
     "start_time": "2025-03-04T15:28:15.023857Z"
    },
    "execution": {
     "iopub.execute_input": "2025-03-06T13:01:23.567047Z",
     "iopub.status.busy": "2025-03-06T13:01:23.566647Z",
     "iopub.status.idle": "2025-03-06T13:01:23.702351Z",
     "shell.execute_reply": "2025-03-06T13:01:23.701087Z"
    },
    "papermill": {
     "duration": 0.15789,
     "end_time": "2025-03-06T13:01:23.704715",
     "exception": false,
     "start_time": "2025-03-06T13:01:23.546825",
     "status": "completed"
    },
    "tags": []
   },
   "outputs": [
    {
     "name": "stdout",
     "output_type": "stream",
     "text": [
      "<class 'pandas.core.frame.DataFrame'>\n",
      "Index: 145671 entries, 0 to 145670\n",
      "Data columns (total 87 columns):\n",
      " #   Column                     Non-Null Count   Dtype  \n",
      "---  ------                     --------------   -----  \n",
      " 0   BYTES                      145671 non-null  float64\n",
      " 1   BYTES_REV                  145671 non-null  float64\n",
      " 2   PACKETS                    145671 non-null  float64\n",
      " 3   PACKETS_REV                145671 non-null  float64\n",
      " 4   TYPE                       145671 non-null  int8   \n",
      " 5   DBI_BRST_BYTES             145671 non-null  object \n",
      " 6   DBI_BRST_PACKETS           145671 non-null  object \n",
      " 7   PKT_LENGTHS                145671 non-null  object \n",
      " 8   PPI_PKT_DIRECTIONS         145671 non-null  object \n",
      " 9   BRST_COUNT                 145671 non-null  int64  \n",
      " 10  REV_MORE                   145671 non-null  int64  \n",
      " 11  PKT_TIMES                  145671 non-null  object \n",
      " 12  DBI_BRST_TIME_START        145671 non-null  object \n",
      " 13  DBI_BRST_TIME_STOP         145671 non-null  object \n",
      " 14  DBI_BRST_DURATION          145671 non-null  object \n",
      " 15  DBI_BRST_INTERVALS         145671 non-null  object \n",
      " 16  PKT_LENGTHS_MEAN           145671 non-null  float64\n",
      " 17  PKT_LENGTHS_MAX            145671 non-null  int64  \n",
      " 18  PKT_LENGTHS_STD            145671 non-null  float64\n",
      " 19  PKT_LENGTHS_25             145671 non-null  float64\n",
      " 20  PKT_LENGTHS_50             145671 non-null  float64\n",
      " 21  PKT_LENGTHS_75             145671 non-null  float64\n",
      " 22  TIME_INTERVALS             145671 non-null  object \n",
      " 23  INTERVALS_MEAN             145671 non-null  float64\n",
      " 24  INTERVALS_MAX              145671 non-null  float64\n",
      " 25  INTERVALS_STD              145671 non-null  float64\n",
      " 26  INTERVALS_25               145671 non-null  float64\n",
      " 27  INTERVALS_50               145671 non-null  float64\n",
      " 28  INTERVALS_75               145671 non-null  float64\n",
      " 29  BRST_BYTES_MEAN            145671 non-null  float64\n",
      " 30  BRST_BYTES_MAX             145671 non-null  int64  \n",
      " 31  BRST_BYTES_STD             145671 non-null  float64\n",
      " 32  BRST_BYTES_25              145671 non-null  float64\n",
      " 33  BRST_BYTES_50              145671 non-null  float64\n",
      " 34  BRST_BYTES_75              145671 non-null  float64\n",
      " 35  BRST_PACKETS_MEAN          145671 non-null  float64\n",
      " 36  BRST_PACKETS_MAX           145671 non-null  int64  \n",
      " 37  BRST_PACKETS_STD           145671 non-null  float64\n",
      " 38  BRST_PACKETS_25            145671 non-null  float64\n",
      " 39  BRST_PACKETS_50            145671 non-null  float64\n",
      " 40  BRST_PACKETS_75            145671 non-null  float64\n",
      " 41  BRST_INTERVALS_MEAN        145671 non-null  float64\n",
      " 42  BRST_INTERVALS_MAX         145671 non-null  float64\n",
      " 43  BRST_INTERVALS_STD         145671 non-null  float64\n",
      " 44  BRST_INTERVALS_25          145671 non-null  float64\n",
      " 45  BRST_INTERVALS_50          145671 non-null  float64\n",
      " 46  BRST_INTERVALS_75          145671 non-null  float64\n",
      " 47  BRST_DURATION_MEAN         145671 non-null  float64\n",
      " 48  BRST_DURATION_MAX          145671 non-null  float64\n",
      " 49  BRST_DURATION_STD          145671 non-null  float64\n",
      " 50  BRST_DURATION_25           145671 non-null  float64\n",
      " 51  BRST_DURATION_50           145671 non-null  float64\n",
      " 52  BRST_DURATION_75           145671 non-null  float64\n",
      " 53  PCA_DBI_BRST_BYTES_0       145671 non-null  float64\n",
      " 54  PCA_DBI_BRST_BYTES_1       145671 non-null  float64\n",
      " 55  PCA_DBI_BRST_PACKETS_0     145671 non-null  float64\n",
      " 56  PCA_DBI_BRST_PACKETS_1     145671 non-null  float64\n",
      " 57  PCA_DBI_BRST_TIME_START_0  145671 non-null  float64\n",
      " 58  PCA_DBI_BRST_TIME_START_1  145671 non-null  float64\n",
      " 59  PCA_DBI_BRST_TIME_STOP_0   145671 non-null  float64\n",
      " 60  PCA_DBI_BRST_TIME_STOP_1   145671 non-null  float64\n",
      " 61  PCA_PKT_LENGTHS_0          145671 non-null  float64\n",
      " 62  PCA_PKT_LENGTHS_1          145671 non-null  float64\n",
      " 63  PCA_BRST_INTERVALS_0       145671 non-null  float64\n",
      " 64  PCA_BRST_INTERVALS_1       145671 non-null  float64\n",
      " 65  PCA_BRST_DURATION_0        145671 non-null  float64\n",
      " 66  PCA_BRST_DURATION_1        145671 non-null  float64\n",
      " 67  BRST_BYTES_0               145671 non-null  int64  \n",
      " 68  BRST_BYTES_1               145671 non-null  int64  \n",
      " 69  BRST_BYTES_2               145671 non-null  int64  \n",
      " 70  BRST_BYTES_3               145671 non-null  int64  \n",
      " 71  BRST_BYTES_4               145671 non-null  int64  \n",
      " 72  BRST_BYTES_5               145671 non-null  int64  \n",
      " 73  BRST_BYTES_6               145671 non-null  int64  \n",
      " 74  BRST_BYTES_7               145671 non-null  int64  \n",
      " 75  BRST_BYTES_8               145671 non-null  int64  \n",
      " 76  BRST_BYTES_9               145671 non-null  int64  \n",
      " 77  BRST_PACKETS_0             145671 non-null  int64  \n",
      " 78  BRST_PACKETS_1             145671 non-null  int64  \n",
      " 79  BRST_PACKETS_2             145671 non-null  int64  \n",
      " 80  BRST_PACKETS_3             145671 non-null  int64  \n",
      " 81  BRST_PACKETS_4             145671 non-null  int64  \n",
      " 82  BRST_PACKETS_5             145671 non-null  int64  \n",
      " 83  BRST_PACKETS_6             145671 non-null  int64  \n",
      " 84  BRST_PACKETS_7             145671 non-null  int64  \n",
      " 85  BRST_PACKETS_8             145671 non-null  int64  \n",
      " 86  BRST_PACKETS_9             145671 non-null  int64  \n",
      "dtypes: float64(51), int64(25), int8(1), object(10)\n",
      "memory usage: 96.8+ MB\n"
     ]
    }
   ],
   "source": [
    "df.info()"
   ]
  },
  {
   "cell_type": "code",
   "execution_count": 5,
   "id": "f1f6db30",
   "metadata": {
    "ExecuteTime": {
     "end_time": "2025-03-04T15:28:15.492081Z",
     "start_time": "2025-03-04T15:28:15.212834Z"
    },
    "execution": {
     "iopub.execute_input": "2025-03-06T13:01:23.744319Z",
     "iopub.status.busy": "2025-03-06T13:01:23.743895Z",
     "iopub.status.idle": "2025-03-06T13:01:24.306400Z",
     "shell.execute_reply": "2025-03-06T13:01:24.305302Z"
    },
    "papermill": {
     "duration": 0.583912,
     "end_time": "2025-03-06T13:01:24.308160",
     "exception": false,
     "start_time": "2025-03-06T13:01:23.724248",
     "status": "completed"
    },
    "tags": []
   },
   "outputs": [
    {
     "data": {
      "text/html": [
       "<div>\n",
       "<style scoped>\n",
       "    .dataframe tbody tr th:only-of-type {\n",
       "        vertical-align: middle;\n",
       "    }\n",
       "\n",
       "    .dataframe tbody tr th {\n",
       "        vertical-align: top;\n",
       "    }\n",
       "\n",
       "    .dataframe thead th {\n",
       "        text-align: right;\n",
       "    }\n",
       "</style>\n",
       "<table border=\"1\" class=\"dataframe\">\n",
       "  <thead>\n",
       "    <tr style=\"text-align: right;\">\n",
       "      <th></th>\n",
       "      <th>BYTES</th>\n",
       "      <th>BYTES_REV</th>\n",
       "      <th>PACKETS</th>\n",
       "      <th>PACKETS_REV</th>\n",
       "      <th>TYPE</th>\n",
       "      <th>BRST_COUNT</th>\n",
       "      <th>REV_MORE</th>\n",
       "      <th>PKT_LENGTHS_MEAN</th>\n",
       "      <th>PKT_LENGTHS_MAX</th>\n",
       "      <th>PKT_LENGTHS_STD</th>\n",
       "      <th>...</th>\n",
       "      <th>BRST_PACKETS_0</th>\n",
       "      <th>BRST_PACKETS_1</th>\n",
       "      <th>BRST_PACKETS_2</th>\n",
       "      <th>BRST_PACKETS_3</th>\n",
       "      <th>BRST_PACKETS_4</th>\n",
       "      <th>BRST_PACKETS_5</th>\n",
       "      <th>BRST_PACKETS_6</th>\n",
       "      <th>BRST_PACKETS_7</th>\n",
       "      <th>BRST_PACKETS_8</th>\n",
       "      <th>BRST_PACKETS_9</th>\n",
       "    </tr>\n",
       "  </thead>\n",
       "  <tbody>\n",
       "    <tr>\n",
       "      <th>count</th>\n",
       "      <td>1.456710e+05</td>\n",
       "      <td>1.456710e+05</td>\n",
       "      <td>1.456710e+05</td>\n",
       "      <td>1.456710e+05</td>\n",
       "      <td>145671.000000</td>\n",
       "      <td>145671.000000</td>\n",
       "      <td>145671.000000</td>\n",
       "      <td>145671.000000</td>\n",
       "      <td>145671.000000</td>\n",
       "      <td>145671.000000</td>\n",
       "      <td>...</td>\n",
       "      <td>1.456710e+05</td>\n",
       "      <td>1.456710e+05</td>\n",
       "      <td>1.456710e+05</td>\n",
       "      <td>1.456710e+05</td>\n",
       "      <td>145671.000000</td>\n",
       "      <td>145671.000000</td>\n",
       "      <td>145671.000000</td>\n",
       "      <td>145671.000000</td>\n",
       "      <td>145671.000000</td>\n",
       "      <td>145671.000000</td>\n",
       "    </tr>\n",
       "    <tr>\n",
       "      <th>mean</th>\n",
       "      <td>5.987827e+06</td>\n",
       "      <td>2.328537e+07</td>\n",
       "      <td>1.285840e+04</td>\n",
       "      <td>1.416814e+04</td>\n",
       "      <td>3.547906</td>\n",
       "      <td>3.863240</td>\n",
       "      <td>0.566166</td>\n",
       "      <td>603.516372</td>\n",
       "      <td>917.701224</td>\n",
       "      <td>251.680502</td>\n",
       "      <td>...</td>\n",
       "      <td>5.289062e+03</td>\n",
       "      <td>1.150860e+03</td>\n",
       "      <td>4.725756e+02</td>\n",
       "      <td>3.660022e+02</td>\n",
       "      <td>228.903303</td>\n",
       "      <td>215.047896</td>\n",
       "      <td>205.221938</td>\n",
       "      <td>189.445909</td>\n",
       "      <td>170.410892</td>\n",
       "      <td>189.517872</td>\n",
       "    </tr>\n",
       "    <tr>\n",
       "      <th>std</th>\n",
       "      <td>4.199697e+07</td>\n",
       "      <td>9.263830e+07</td>\n",
       "      <td>5.186864e+04</td>\n",
       "      <td>5.204398e+04</td>\n",
       "      <td>1.900269</td>\n",
       "      <td>5.135786</td>\n",
       "      <td>0.495604</td>\n",
       "      <td>551.164392</td>\n",
       "      <td>659.931256</td>\n",
       "      <td>229.861070</td>\n",
       "      <td>...</td>\n",
       "      <td>4.456963e+04</td>\n",
       "      <td>2.053859e+04</td>\n",
       "      <td>8.806812e+03</td>\n",
       "      <td>9.184145e+03</td>\n",
       "      <td>2612.498504</td>\n",
       "      <td>1950.837815</td>\n",
       "      <td>2268.801961</td>\n",
       "      <td>1722.808914</td>\n",
       "      <td>1770.377466</td>\n",
       "      <td>2966.956747</td>\n",
       "    </tr>\n",
       "    <tr>\n",
       "      <th>min</th>\n",
       "      <td>4.000000e+01</td>\n",
       "      <td>4.000000e+01</td>\n",
       "      <td>1.000000e+00</td>\n",
       "      <td>1.000000e+00</td>\n",
       "      <td>0.000000</td>\n",
       "      <td>1.000000</td>\n",
       "      <td>0.000000</td>\n",
       "      <td>40.000000</td>\n",
       "      <td>40.000000</td>\n",
       "      <td>0.000000</td>\n",
       "      <td>...</td>\n",
       "      <td>0.000000e+00</td>\n",
       "      <td>0.000000e+00</td>\n",
       "      <td>0.000000e+00</td>\n",
       "      <td>0.000000e+00</td>\n",
       "      <td>0.000000</td>\n",
       "      <td>0.000000</td>\n",
       "      <td>0.000000</td>\n",
       "      <td>0.000000</td>\n",
       "      <td>0.000000</td>\n",
       "      <td>0.000000</td>\n",
       "    </tr>\n",
       "    <tr>\n",
       "      <th>25%</th>\n",
       "      <td>4.000000e+01</td>\n",
       "      <td>4.000000e+01</td>\n",
       "      <td>1.000000e+00</td>\n",
       "      <td>1.000000e+00</td>\n",
       "      <td>2.000000</td>\n",
       "      <td>1.000000</td>\n",
       "      <td>0.000000</td>\n",
       "      <td>40.000000</td>\n",
       "      <td>40.000000</td>\n",
       "      <td>0.000000</td>\n",
       "      <td>...</td>\n",
       "      <td>6.000000e+00</td>\n",
       "      <td>0.000000e+00</td>\n",
       "      <td>0.000000e+00</td>\n",
       "      <td>0.000000e+00</td>\n",
       "      <td>0.000000</td>\n",
       "      <td>0.000000</td>\n",
       "      <td>0.000000</td>\n",
       "      <td>0.000000</td>\n",
       "      <td>0.000000</td>\n",
       "      <td>0.000000</td>\n",
       "    </tr>\n",
       "    <tr>\n",
       "      <th>50%</th>\n",
       "      <td>4.720000e+03</td>\n",
       "      <td>9.278000e+03</td>\n",
       "      <td>2.300000e+01</td>\n",
       "      <td>2.600000e+01</td>\n",
       "      <td>5.000000</td>\n",
       "      <td>1.000000</td>\n",
       "      <td>1.000000</td>\n",
       "      <td>359.916667</td>\n",
       "      <td>1386.000000</td>\n",
       "      <td>293.634209</td>\n",
       "      <td>...</td>\n",
       "      <td>1.000000e+01</td>\n",
       "      <td>0.000000e+00</td>\n",
       "      <td>0.000000e+00</td>\n",
       "      <td>0.000000e+00</td>\n",
       "      <td>0.000000</td>\n",
       "      <td>0.000000</td>\n",
       "      <td>0.000000</td>\n",
       "      <td>0.000000</td>\n",
       "      <td>0.000000</td>\n",
       "      <td>0.000000</td>\n",
       "    </tr>\n",
       "    <tr>\n",
       "      <th>75%</th>\n",
       "      <td>1.629330e+05</td>\n",
       "      <td>4.810760e+06</td>\n",
       "      <td>2.631500e+03</td>\n",
       "      <td>4.686000e+03</td>\n",
       "      <td>5.000000</td>\n",
       "      <td>3.000000</td>\n",
       "      <td>1.000000</td>\n",
       "      <td>1214.833333</td>\n",
       "      <td>1460.000000</td>\n",
       "      <td>453.415288</td>\n",
       "      <td>...</td>\n",
       "      <td>5.300000e+02</td>\n",
       "      <td>5.800000e+01</td>\n",
       "      <td>6.000000e+00</td>\n",
       "      <td>0.000000e+00</td>\n",
       "      <td>0.000000</td>\n",
       "      <td>0.000000</td>\n",
       "      <td>0.000000</td>\n",
       "      <td>0.000000</td>\n",
       "      <td>0.000000</td>\n",
       "      <td>0.000000</td>\n",
       "    </tr>\n",
       "    <tr>\n",
       "      <th>max</th>\n",
       "      <td>2.511138e+09</td>\n",
       "      <td>2.736171e+09</td>\n",
       "      <td>1.702633e+06</td>\n",
       "      <td>1.824305e+06</td>\n",
       "      <td>5.000000</td>\n",
       "      <td>15.000000</td>\n",
       "      <td>1.000000</td>\n",
       "      <td>1460.000000</td>\n",
       "      <td>2960.000000</td>\n",
       "      <td>722.985303</td>\n",
       "      <td>...</td>\n",
       "      <td>1.824294e+06</td>\n",
       "      <td>1.207396e+06</td>\n",
       "      <td>1.682569e+06</td>\n",
       "      <td>1.072098e+06</td>\n",
       "      <td>525100.000000</td>\n",
       "      <td>300803.000000</td>\n",
       "      <td>283800.000000</td>\n",
       "      <td>206836.000000</td>\n",
       "      <td>179510.000000</td>\n",
       "      <td>359976.000000</td>\n",
       "    </tr>\n",
       "  </tbody>\n",
       "</table>\n",
       "<p>8 rows × 77 columns</p>\n",
       "</div>"
      ],
      "text/plain": [
       "              BYTES     BYTES_REV       PACKETS   PACKETS_REV           TYPE  \\\n",
       "count  1.456710e+05  1.456710e+05  1.456710e+05  1.456710e+05  145671.000000   \n",
       "mean   5.987827e+06  2.328537e+07  1.285840e+04  1.416814e+04       3.547906   \n",
       "std    4.199697e+07  9.263830e+07  5.186864e+04  5.204398e+04       1.900269   \n",
       "min    4.000000e+01  4.000000e+01  1.000000e+00  1.000000e+00       0.000000   \n",
       "25%    4.000000e+01  4.000000e+01  1.000000e+00  1.000000e+00       2.000000   \n",
       "50%    4.720000e+03  9.278000e+03  2.300000e+01  2.600000e+01       5.000000   \n",
       "75%    1.629330e+05  4.810760e+06  2.631500e+03  4.686000e+03       5.000000   \n",
       "max    2.511138e+09  2.736171e+09  1.702633e+06  1.824305e+06       5.000000   \n",
       "\n",
       "          BRST_COUNT       REV_MORE  PKT_LENGTHS_MEAN  PKT_LENGTHS_MAX  \\\n",
       "count  145671.000000  145671.000000     145671.000000    145671.000000   \n",
       "mean        3.863240       0.566166        603.516372       917.701224   \n",
       "std         5.135786       0.495604        551.164392       659.931256   \n",
       "min         1.000000       0.000000         40.000000        40.000000   \n",
       "25%         1.000000       0.000000         40.000000        40.000000   \n",
       "50%         1.000000       1.000000        359.916667      1386.000000   \n",
       "75%         3.000000       1.000000       1214.833333      1460.000000   \n",
       "max        15.000000       1.000000       1460.000000      2960.000000   \n",
       "\n",
       "       PKT_LENGTHS_STD  ...  BRST_PACKETS_0  BRST_PACKETS_1  BRST_PACKETS_2  \\\n",
       "count    145671.000000  ...    1.456710e+05    1.456710e+05    1.456710e+05   \n",
       "mean        251.680502  ...    5.289062e+03    1.150860e+03    4.725756e+02   \n",
       "std         229.861070  ...    4.456963e+04    2.053859e+04    8.806812e+03   \n",
       "min           0.000000  ...    0.000000e+00    0.000000e+00    0.000000e+00   \n",
       "25%           0.000000  ...    6.000000e+00    0.000000e+00    0.000000e+00   \n",
       "50%         293.634209  ...    1.000000e+01    0.000000e+00    0.000000e+00   \n",
       "75%         453.415288  ...    5.300000e+02    5.800000e+01    6.000000e+00   \n",
       "max         722.985303  ...    1.824294e+06    1.207396e+06    1.682569e+06   \n",
       "\n",
       "       BRST_PACKETS_3  BRST_PACKETS_4  BRST_PACKETS_5  BRST_PACKETS_6  \\\n",
       "count    1.456710e+05   145671.000000   145671.000000   145671.000000   \n",
       "mean     3.660022e+02      228.903303      215.047896      205.221938   \n",
       "std      9.184145e+03     2612.498504     1950.837815     2268.801961   \n",
       "min      0.000000e+00        0.000000        0.000000        0.000000   \n",
       "25%      0.000000e+00        0.000000        0.000000        0.000000   \n",
       "50%      0.000000e+00        0.000000        0.000000        0.000000   \n",
       "75%      0.000000e+00        0.000000        0.000000        0.000000   \n",
       "max      1.072098e+06   525100.000000   300803.000000   283800.000000   \n",
       "\n",
       "       BRST_PACKETS_7  BRST_PACKETS_8  BRST_PACKETS_9  \n",
       "count   145671.000000   145671.000000   145671.000000  \n",
       "mean       189.445909      170.410892      189.517872  \n",
       "std       1722.808914     1770.377466     2966.956747  \n",
       "min          0.000000        0.000000        0.000000  \n",
       "25%          0.000000        0.000000        0.000000  \n",
       "50%          0.000000        0.000000        0.000000  \n",
       "75%          0.000000        0.000000        0.000000  \n",
       "max     206836.000000   179510.000000   359976.000000  \n",
       "\n",
       "[8 rows x 77 columns]"
      ]
     },
     "execution_count": 5,
     "metadata": {},
     "output_type": "execute_result"
    }
   ],
   "source": [
    "df.describe()"
   ]
  },
  {
   "cell_type": "markdown",
   "id": "0e84d1e4",
   "metadata": {
    "papermill": {
     "duration": 0.018652,
     "end_time": "2025-03-06T13:01:24.345853",
     "exception": false,
     "start_time": "2025-03-06T13:01:24.327201",
     "status": "completed"
    },
    "tags": []
   },
   "source": [
    "As we accepted the `describe` and `info` functions\n",
    ", didn't give us new information about the data."
   ]
  },
  {
   "cell_type": "code",
   "execution_count": 6,
   "id": "edae0619",
   "metadata": {
    "ExecuteTime": {
     "end_time": "2025-03-04T15:28:16.101616Z",
     "start_time": "2025-03-04T15:28:15.523700Z"
    },
    "execution": {
     "iopub.execute_input": "2025-03-06T13:01:24.388781Z",
     "iopub.status.busy": "2025-03-06T13:01:24.388367Z",
     "iopub.status.idle": "2025-03-06T13:01:25.612354Z",
     "shell.execute_reply": "2025-03-06T13:01:25.611173Z"
    },
    "papermill": {
     "duration": 1.247157,
     "end_time": "2025-03-06T13:01:25.614241",
     "exception": false,
     "start_time": "2025-03-06T13:01:24.367084",
     "status": "completed"
    },
    "tags": []
   },
   "outputs": [
    {
     "data": {
      "text/plain": [
       "<Axes: >"
      ]
     },
     "execution_count": 6,
     "metadata": {},
     "output_type": "execute_result"
    },
    {
     "data": {
      "image/png": "[encoded data removed]",
      "text/plain": [
       "<Figure size 640x480 with 1 Axes>"
      ]
     },
     "metadata": {},
     "output_type": "display_data"
    }
   ],
   "source": [
    "df.isnull().sum().plot(kind=\"bar\")"
   ]
  },
  {
   "cell_type": "markdown",
   "id": "bb34dd69",
   "metadata": {
    "papermill": {
     "duration": 0.020562,
     "end_time": "2025-03-06T13:01:25.656274",
     "exception": false,
     "start_time": "2025-03-06T13:01:25.635712",
     "status": "completed"
    },
    "tags": []
   },
   "source": [
    "We can see there are no null values in the data (as we will assume because the data is network traffic capture)."
   ]
  },
  {
   "cell_type": "code",
   "execution_count": 7,
   "id": "21128735",
   "metadata": {
    "ExecuteTime": {
     "end_time": "2025-03-04T15:28:16.226607Z",
     "start_time": "2025-03-04T15:28:16.134519Z"
    },
    "execution": {
     "iopub.execute_input": "2025-03-06T13:01:25.702392Z",
     "iopub.status.busy": "2025-03-06T13:01:25.702043Z",
     "iopub.status.idle": "2025-03-06T13:01:26.021198Z",
     "shell.execute_reply": "2025-03-06T13:01:26.020120Z"
    },
    "papermill": {
     "duration": 0.344354,
     "end_time": "2025-03-06T13:01:26.023062",
     "exception": false,
     "start_time": "2025-03-06T13:01:25.678708",
     "status": "completed"
    },
    "tags": []
   },
   "outputs": [
    {
     "data": {
      "image/png": "[encoded data removed]",
      "text/plain": [
       "<Figure size 640x480 with 1 Axes>"
      ]
     },
     "metadata": {},
     "output_type": "display_data"
    }
   ],
   "source": [
    "# Create the bar plot\n",
    "ax = df.groupby(df[\"TYPE\"]).size().plot(kind=\"bar\", title=\"Number of samples per class\", xlabel=\"Class\", ylabel=\"Number of samples\")\n",
    "\n",
    "# Annotate each bar with the count\n",
    "for p in ax.patches:\n",
    "    ax.annotate(str(p.get_height()), (p.get_x() * 1.005, p.get_height() * 1.005))\n",
    "\n",
    "plt.show()"
   ]
  },
  {
   "cell_type": "markdown",
   "id": "e8d1f4ef",
   "metadata": {
    "papermill": {
     "duration": 0.022225,
     "end_time": "2025-03-06T13:01:26.067247",
     "exception": false,
     "start_time": "2025-03-06T13:01:26.045022",
     "status": "completed"
    },
    "tags": []
   },
   "source": [
    "We see that there are a lot of samples for the fifth class, and a less significant number of samples for the other classes. In the process of building the model we will need to consider this imbalance in the data, if we will se bad results."
   ]
  },
  {
   "cell_type": "markdown",
   "id": "3ca23757",
   "metadata": {
    "papermill": {
     "duration": 0.02264,
     "end_time": "2025-03-06T13:01:26.112967",
     "exception": false,
     "start_time": "2025-03-06T13:01:26.090327",
     "status": "completed"
    },
    "tags": []
   },
   "source": [
    "Basic split of the data to understand what the data can inform us on the network traffic type."
   ]
  },
  {
   "cell_type": "code",
   "execution_count": 8,
   "id": "ef0becbd",
   "metadata": {
    "ExecuteTime": {
     "end_time": "2025-03-04T15:28:16.289182Z",
     "start_time": "2025-03-04T15:28:16.259645Z"
    },
    "execution": {
     "iopub.execute_input": "2025-03-06T13:01:26.216584Z",
     "iopub.status.busy": "2025-03-06T13:01:26.216195Z",
     "iopub.status.idle": "2025-03-06T13:01:26.254423Z",
     "shell.execute_reply": "2025-03-06T13:01:26.253221Z"
    },
    "papermill": {
     "duration": 0.120656,
     "end_time": "2025-03-06T13:01:26.256723",
     "exception": false,
     "start_time": "2025-03-06T13:01:26.136067",
     "status": "completed"
    },
    "tags": []
   },
   "outputs": [],
   "source": [
    "#split to x and y\n",
    "X = df.drop([\"TYPE\"], axis=1)\n",
    "Y = df[\"TYPE\"]"
   ]
  },
  {
   "cell_type": "markdown",
   "id": "bd236988",
   "metadata": {
    "papermill": {
     "duration": 0.023412,
     "end_time": "2025-03-06T13:01:26.304617",
     "exception": false,
     "start_time": "2025-03-06T13:01:26.281205",
     "status": "completed"
    },
    "tags": []
   },
   "source": [
    "filter to numeric data only (the other columns are categorical data, of the specific network traffic data per packet, we can extract the data from the other columns to reduce the dimensionality of the data)"
   ]
  },
  {
   "cell_type": "code",
   "execution_count": 9,
   "id": "76847a70",
   "metadata": {
    "ExecuteTime": {
     "end_time": "2025-03-04T15:28:16.382306Z",
     "start_time": "2025-03-04T15:28:16.330588Z"
    },
    "execution": {
     "iopub.execute_input": "2025-03-06T13:01:26.355377Z",
     "iopub.status.busy": "2025-03-06T13:01:26.355013Z",
     "iopub.status.idle": "2025-03-06T13:01:26.441593Z",
     "shell.execute_reply": "2025-03-06T13:01:26.440451Z"
    },
    "papermill": {
     "duration": 0.115294,
     "end_time": "2025-03-06T13:01:26.443448",
     "exception": false,
     "start_time": "2025-03-06T13:01:26.328154",
     "status": "completed"
    },
    "tags": []
   },
   "outputs": [
    {
     "name": "stdout",
     "output_type": "stream",
     "text": [
      "Filtered numeric data preview:\n"
     ]
    },
    {
     "data": {
      "text/html": [
       "<div>\n",
       "<style scoped>\n",
       "    .dataframe tbody tr th:only-of-type {\n",
       "        vertical-align: middle;\n",
       "    }\n",
       "\n",
       "    .dataframe tbody tr th {\n",
       "        vertical-align: top;\n",
       "    }\n",
       "\n",
       "    .dataframe thead th {\n",
       "        text-align: right;\n",
       "    }\n",
       "</style>\n",
       "<table border=\"1\" class=\"dataframe\">\n",
       "  <thead>\n",
       "    <tr style=\"text-align: right;\">\n",
       "      <th></th>\n",
       "      <th>BYTES</th>\n",
       "      <th>BYTES_REV</th>\n",
       "      <th>PACKETS</th>\n",
       "      <th>PACKETS_REV</th>\n",
       "      <th>BRST_COUNT</th>\n",
       "      <th>REV_MORE</th>\n",
       "      <th>PKT_LENGTHS_MEAN</th>\n",
       "      <th>PKT_LENGTHS_MAX</th>\n",
       "      <th>PKT_LENGTHS_STD</th>\n",
       "      <th>PKT_LENGTHS_25</th>\n",
       "      <th>...</th>\n",
       "      <th>BRST_PACKETS_0</th>\n",
       "      <th>BRST_PACKETS_1</th>\n",
       "      <th>BRST_PACKETS_2</th>\n",
       "      <th>BRST_PACKETS_3</th>\n",
       "      <th>BRST_PACKETS_4</th>\n",
       "      <th>BRST_PACKETS_5</th>\n",
       "      <th>BRST_PACKETS_6</th>\n",
       "      <th>BRST_PACKETS_7</th>\n",
       "      <th>BRST_PACKETS_8</th>\n",
       "      <th>BRST_PACKETS_9</th>\n",
       "    </tr>\n",
       "  </thead>\n",
       "  <tbody>\n",
       "    <tr>\n",
       "      <th>0</th>\n",
       "      <td>57363.0</td>\n",
       "      <td>12066294.0</td>\n",
       "      <td>1199.0</td>\n",
       "      <td>9548.0</td>\n",
       "      <td>1</td>\n",
       "      <td>1</td>\n",
       "      <td>1092.500000</td>\n",
       "      <td>1300</td>\n",
       "      <td>415.873278</td>\n",
       "      <td>1300.0</td>\n",
       "      <td>...</td>\n",
       "      <td>9543</td>\n",
       "      <td>0</td>\n",
       "      <td>0</td>\n",
       "      <td>0</td>\n",
       "      <td>0</td>\n",
       "      <td>0</td>\n",
       "      <td>0</td>\n",
       "      <td>0</td>\n",
       "      <td>0</td>\n",
       "      <td>0</td>\n",
       "    </tr>\n",
       "    <tr>\n",
       "      <th>1</th>\n",
       "      <td>779698.0</td>\n",
       "      <td>38492555.0</td>\n",
       "      <td>14539.0</td>\n",
       "      <td>28466.0</td>\n",
       "      <td>1</td>\n",
       "      <td>1</td>\n",
       "      <td>1143.300000</td>\n",
       "      <td>1368</td>\n",
       "      <td>439.354007</td>\n",
       "      <td>1368.0</td>\n",
       "      <td>...</td>\n",
       "      <td>28446</td>\n",
       "      <td>0</td>\n",
       "      <td>0</td>\n",
       "      <td>0</td>\n",
       "      <td>0</td>\n",
       "      <td>0</td>\n",
       "      <td>0</td>\n",
       "      <td>0</td>\n",
       "      <td>0</td>\n",
       "      <td>0</td>\n",
       "    </tr>\n",
       "    <tr>\n",
       "      <th>2</th>\n",
       "      <td>278099.0</td>\n",
       "      <td>43349394.0</td>\n",
       "      <td>4624.0</td>\n",
       "      <td>28939.0</td>\n",
       "      <td>8</td>\n",
       "      <td>1</td>\n",
       "      <td>1296.766667</td>\n",
       "      <td>1448</td>\n",
       "      <td>382.143314</td>\n",
       "      <td>1448.0</td>\n",
       "      <td>...</td>\n",
       "      <td>17863</td>\n",
       "      <td>2232</td>\n",
       "      <td>1087</td>\n",
       "      <td>2214</td>\n",
       "      <td>1107</td>\n",
       "      <td>2224</td>\n",
       "      <td>1096</td>\n",
       "      <td>1109</td>\n",
       "      <td>0</td>\n",
       "      <td>0</td>\n",
       "    </tr>\n",
       "    <tr>\n",
       "      <th>3</th>\n",
       "      <td>143766.0</td>\n",
       "      <td>16941036.0</td>\n",
       "      <td>2252.0</td>\n",
       "      <td>11364.0</td>\n",
       "      <td>15</td>\n",
       "      <td>1</td>\n",
       "      <td>1211.300000</td>\n",
       "      <td>1448</td>\n",
       "      <td>462.360404</td>\n",
       "      <td>1338.5</td>\n",
       "      <td>...</td>\n",
       "      <td>1205</td>\n",
       "      <td>599</td>\n",
       "      <td>598</td>\n",
       "      <td>592</td>\n",
       "      <td>623</td>\n",
       "      <td>569</td>\n",
       "      <td>592</td>\n",
       "      <td>600</td>\n",
       "      <td>591</td>\n",
       "      <td>597</td>\n",
       "    </tr>\n",
       "    <tr>\n",
       "      <th>4</th>\n",
       "      <td>1790845.0</td>\n",
       "      <td>115404196.0</td>\n",
       "      <td>37979.0</td>\n",
       "      <td>77255.0</td>\n",
       "      <td>15</td>\n",
       "      <td>1</td>\n",
       "      <td>1269.633333</td>\n",
       "      <td>1460</td>\n",
       "      <td>426.044480</td>\n",
       "      <td>1460.0</td>\n",
       "      <td>...</td>\n",
       "      <td>691</td>\n",
       "      <td>446</td>\n",
       "      <td>524</td>\n",
       "      <td>537</td>\n",
       "      <td>511</td>\n",
       "      <td>522</td>\n",
       "      <td>552</td>\n",
       "      <td>461</td>\n",
       "      <td>509</td>\n",
       "      <td>537</td>\n",
       "    </tr>\n",
       "    <tr>\n",
       "      <th>...</th>\n",
       "      <td>...</td>\n",
       "      <td>...</td>\n",
       "      <td>...</td>\n",
       "      <td>...</td>\n",
       "      <td>...</td>\n",
       "      <td>...</td>\n",
       "      <td>...</td>\n",
       "      <td>...</td>\n",
       "      <td>...</td>\n",
       "      <td>...</td>\n",
       "      <td>...</td>\n",
       "      <td>...</td>\n",
       "      <td>...</td>\n",
       "      <td>...</td>\n",
       "      <td>...</td>\n",
       "      <td>...</td>\n",
       "      <td>...</td>\n",
       "      <td>...</td>\n",
       "      <td>...</td>\n",
       "      <td>...</td>\n",
       "      <td>...</td>\n",
       "    </tr>\n",
       "    <tr>\n",
       "      <th>145666</th>\n",
       "      <td>160.0</td>\n",
       "      <td>224.0</td>\n",
       "      <td>4.0</td>\n",
       "      <td>5.0</td>\n",
       "      <td>1</td>\n",
       "      <td>1</td>\n",
       "      <td>42.666667</td>\n",
       "      <td>64</td>\n",
       "      <td>7.542472</td>\n",
       "      <td>40.0</td>\n",
       "      <td>...</td>\n",
       "      <td>5</td>\n",
       "      <td>0</td>\n",
       "      <td>0</td>\n",
       "      <td>0</td>\n",
       "      <td>0</td>\n",
       "      <td>0</td>\n",
       "      <td>0</td>\n",
       "      <td>0</td>\n",
       "      <td>0</td>\n",
       "      <td>0</td>\n",
       "    </tr>\n",
       "    <tr>\n",
       "      <th>145667</th>\n",
       "      <td>12443.0</td>\n",
       "      <td>101681.0</td>\n",
       "      <td>267.0</td>\n",
       "      <td>266.0</td>\n",
       "      <td>13</td>\n",
       "      <td>1</td>\n",
       "      <td>140.166667</td>\n",
       "      <td>914</td>\n",
       "      <td>188.342610</td>\n",
       "      <td>40.0</td>\n",
       "      <td>...</td>\n",
       "      <td>3</td>\n",
       "      <td>96</td>\n",
       "      <td>15</td>\n",
       "      <td>7</td>\n",
       "      <td>6</td>\n",
       "      <td>15</td>\n",
       "      <td>5</td>\n",
       "      <td>4</td>\n",
       "      <td>8</td>\n",
       "      <td>7</td>\n",
       "    </tr>\n",
       "    <tr>\n",
       "      <th>145668</th>\n",
       "      <td>133271.0</td>\n",
       "      <td>882577.0</td>\n",
       "      <td>1053.0</td>\n",
       "      <td>1064.0</td>\n",
       "      <td>15</td>\n",
       "      <td>1</td>\n",
       "      <td>540.433333</td>\n",
       "      <td>1460</td>\n",
       "      <td>656.805130</td>\n",
       "      <td>40.0</td>\n",
       "      <td>...</td>\n",
       "      <td>22</td>\n",
       "      <td>44</td>\n",
       "      <td>17</td>\n",
       "      <td>15</td>\n",
       "      <td>34</td>\n",
       "      <td>18</td>\n",
       "      <td>17</td>\n",
       "      <td>15</td>\n",
       "      <td>17</td>\n",
       "      <td>17</td>\n",
       "    </tr>\n",
       "    <tr>\n",
       "      <th>145669</th>\n",
       "      <td>1153975.0</td>\n",
       "      <td>84044865.0</td>\n",
       "      <td>23406.0</td>\n",
       "      <td>93051.0</td>\n",
       "      <td>6</td>\n",
       "      <td>1</td>\n",
       "      <td>469.533333</td>\n",
       "      <td>1460</td>\n",
       "      <td>611.155830</td>\n",
       "      <td>40.0</td>\n",
       "      <td>...</td>\n",
       "      <td>25933</td>\n",
       "      <td>903</td>\n",
       "      <td>1070</td>\n",
       "      <td>967</td>\n",
       "      <td>963</td>\n",
       "      <td>63051</td>\n",
       "      <td>0</td>\n",
       "      <td>0</td>\n",
       "      <td>0</td>\n",
       "      <td>0</td>\n",
       "    </tr>\n",
       "    <tr>\n",
       "      <th>145670</th>\n",
       "      <td>15006.0</td>\n",
       "      <td>23867.0</td>\n",
       "      <td>132.0</td>\n",
       "      <td>131.0</td>\n",
       "      <td>11</td>\n",
       "      <td>1</td>\n",
       "      <td>286.566667</td>\n",
       "      <td>1460</td>\n",
       "      <td>456.627542</td>\n",
       "      <td>40.0</td>\n",
       "      <td>...</td>\n",
       "      <td>9</td>\n",
       "      <td>6</td>\n",
       "      <td>6</td>\n",
       "      <td>6</td>\n",
       "      <td>5</td>\n",
       "      <td>3</td>\n",
       "      <td>3</td>\n",
       "      <td>5</td>\n",
       "      <td>6</td>\n",
       "      <td>3</td>\n",
       "    </tr>\n",
       "  </tbody>\n",
       "</table>\n",
       "<p>145671 rows × 76 columns</p>\n",
       "</div>"
      ],
      "text/plain": [
       "            BYTES    BYTES_REV  PACKETS  PACKETS_REV  BRST_COUNT  REV_MORE  \\\n",
       "0         57363.0   12066294.0   1199.0       9548.0           1         1   \n",
       "1        779698.0   38492555.0  14539.0      28466.0           1         1   \n",
       "2        278099.0   43349394.0   4624.0      28939.0           8         1   \n",
       "3        143766.0   16941036.0   2252.0      11364.0          15         1   \n",
       "4       1790845.0  115404196.0  37979.0      77255.0          15         1   \n",
       "...           ...          ...      ...          ...         ...       ...   \n",
       "145666      160.0        224.0      4.0          5.0           1         1   \n",
       "145667    12443.0     101681.0    267.0        266.0          13         1   \n",
       "145668   133271.0     882577.0   1053.0       1064.0          15         1   \n",
       "145669  1153975.0   84044865.0  23406.0      93051.0           6         1   \n",
       "145670    15006.0      23867.0    132.0        131.0          11         1   \n",
       "\n",
       "        PKT_LENGTHS_MEAN  PKT_LENGTHS_MAX  PKT_LENGTHS_STD  PKT_LENGTHS_25  \\\n",
       "0            1092.500000             1300       415.873278          1300.0   \n",
       "1            1143.300000             1368       439.354007          1368.0   \n",
       "2            1296.766667             1448       382.143314          1448.0   \n",
       "3            1211.300000             1448       462.360404          1338.5   \n",
       "4            1269.633333             1460       426.044480          1460.0   \n",
       "...                  ...              ...              ...             ...   \n",
       "145666         42.666667               64         7.542472            40.0   \n",
       "145667        140.166667              914       188.342610            40.0   \n",
       "145668        540.433333             1460       656.805130            40.0   \n",
       "145669        469.533333             1460       611.155830            40.0   \n",
       "145670        286.566667             1460       456.627542            40.0   \n",
       "\n",
       "        ...  BRST_PACKETS_0  BRST_PACKETS_1  BRST_PACKETS_2  BRST_PACKETS_3  \\\n",
       "0       ...            9543               0               0               0   \n",
       "1       ...           28446               0               0               0   \n",
       "2       ...           17863            2232            1087            2214   \n",
       "3       ...            1205             599             598             592   \n",
       "4       ...             691             446             524             537   \n",
       "...     ...             ...             ...             ...             ...   \n",
       "145666  ...               5               0               0               0   \n",
       "145667  ...               3              96              15               7   \n",
       "145668  ...              22              44              17              15   \n",
       "145669  ...           25933             903            1070             967   \n",
       "145670  ...               9               6               6               6   \n",
       "\n",
       "        BRST_PACKETS_4  BRST_PACKETS_5  BRST_PACKETS_6  BRST_PACKETS_7  \\\n",
       "0                    0               0               0               0   \n",
       "1                    0               0               0               0   \n",
       "2                 1107            2224            1096            1109   \n",
       "3                  623             569             592             600   \n",
       "4                  511             522             552             461   \n",
       "...                ...             ...             ...             ...   \n",
       "145666               0               0               0               0   \n",
       "145667               6              15               5               4   \n",
       "145668              34              18              17              15   \n",
       "145669             963           63051               0               0   \n",
       "145670               5               3               3               5   \n",
       "\n",
       "        BRST_PACKETS_8  BRST_PACKETS_9  \n",
       "0                    0               0  \n",
       "1                    0               0  \n",
       "2                    0               0  \n",
       "3                  591             597  \n",
       "4                  509             537  \n",
       "...                ...             ...  \n",
       "145666               0               0  \n",
       "145667               8               7  \n",
       "145668              17              17  \n",
       "145669               0               0  \n",
       "145670               6               3  \n",
       "\n",
       "[145671 rows x 76 columns]"
      ]
     },
     "execution_count": 9,
     "metadata": {},
     "output_type": "execute_result"
    }
   ],
   "source": [
    "# Filter X to keep only numeric columns\n",
    "X_numeric = X.select_dtypes(include=['number'])\n",
    "print(\"Filtered numeric data preview:\")\n",
    "X_numeric"
   ]
  },
  {
   "cell_type": "markdown",
   "id": "ab991e05",
   "metadata": {
    "papermill": {
     "duration": 0.023863,
     "end_time": "2025-03-06T13:01:26.491337",
     "exception": false,
     "start_time": "2025-03-06T13:01:26.467474",
     "status": "completed"
    },
    "tags": []
   },
   "source": [
    "## Feature Engineering Approach\n",
    "\n",
    "Network traffic classification requires careful feature selection because not all traffic attributes are equally important for distinguishing between applications.\n",
    "\n",
    "Our feature engineering process focuses on:\n",
    "\n",
    "1. **Dimensionality Reduction**: Traffic data contains many features, some of which may be redundant or irrelevant. Reducing dimensionality helps improve model performance and interpretability.\n",
    "\n",
    "2. **Time-Series Characteristics**: Network flows are fundamentally time-series data. Features that capture timing patterns (like variance in inter-arrival times) are particularly valuable for classification.\n",
    "\n",
    "3. **Statistical Aggregations**: Individual packets are too granular for effective classification. Statistical aggregations (means, variances, percentiles) effectively capture the distribution of packet properties.\n",
    "\n",
    "\n",
    "The engineered features will help our models distinguish between different application types even when the actual content of the packets remains hidden due to encryption."
   ]
  },
  {
   "cell_type": "markdown",
   "id": "f183842c",
   "metadata": {
    "papermill": {
     "duration": 0.02316,
     "end_time": "2025-03-06T13:01:26.538652",
     "exception": false,
     "start_time": "2025-03-06T13:01:26.515492",
     "status": "completed"
    },
    "tags": []
   },
   "source": [
    "### Dimensionality Reduction\n",
    "First we want to understand the correlation between the features, to understand if there is dependency between the features. If there is dependency we can reduce the dimensionality of the data. To determine if there is dependency we will use PCA.\n"
   ]
  },
  {
   "cell_type": "code",
   "execution_count": 10,
   "id": "2a235a17",
   "metadata": {
    "ExecuteTime": {
     "end_time": "2025-03-04T15:28:17.072146Z",
     "start_time": "2025-03-04T15:28:16.445035Z"
    },
    "execution": {
     "iopub.execute_input": "2025-03-06T13:01:26.586972Z",
     "iopub.status.busy": "2025-03-06T13:01:26.586580Z",
     "iopub.status.idle": "2025-03-06T13:01:27.988811Z",
     "shell.execute_reply": "2025-03-06T13:01:27.987366Z"
    },
    "papermill": {
     "duration": 1.429562,
     "end_time": "2025-03-06T13:01:27.991651",
     "exception": false,
     "start_time": "2025-03-06T13:01:26.562089",
     "status": "completed"
    },
    "tags": []
   },
   "outputs": [
    {
     "name": "stdout",
     "output_type": "stream",
     "text": [
      "Cumulative explained variance ratio per component:\n",
      "[0.22243033 0.33350727 0.41212342 0.48067638 0.53888129 0.57994303\n",
      " 0.61733106 0.64866788 0.67540917 0.70178546 0.72715507 0.75136501\n",
      " 0.77525058 0.79752896 0.81910132 0.83833639 0.8549782  0.87148125\n",
      " 0.88752666 0.9028386  0.91750407 0.93025249 0.94141905 0.95149676\n",
      " 0.96032875 0.96721553 0.97383097 0.97954194 0.98333068 0.98655804\n",
      " 0.98960504 0.99172321 0.99332356 0.99475477 0.99572349 0.99643165\n",
      " 0.99711673 0.99771698 0.99821464 0.99864423 0.99889016 0.99910945\n",
      " 0.99928057 0.99944954 0.99953106 0.99961161 0.99969145 0.99974738\n",
      " 0.99978675 0.99981755 0.99984538 0.99987103 0.99989169 0.99990892\n",
      " 0.99992539 0.99993972 0.9999528  0.9999646  0.99997517 0.99998216\n",
      " 0.99998574 0.99998921 0.99999206 0.9999945  0.99999598 0.99999719\n",
      " 0.99999815 0.99999885 0.99999943 0.99999985 0.99999996 0.99999999\n",
      " 1.         1.         1.         1.        ]\n"
     ]
    }
   ],
   "source": [
    "from sklearn.decomposition import PCA\n",
    "from sklearn.preprocessing import StandardScaler\n",
    "\n",
    "# Determine the number of components needed to reach 95% of the variance\n",
    "threshold = 0.95\n",
    "\n",
    "# Assume X_numeric contains only numeric features\n",
    "scaler = StandardScaler()\n",
    "X_scaled = scaler.fit_transform(X_numeric)\n",
    "\n",
    "# Apply PCA keeping all components (based on numeric columns)\n",
    "pca = PCA(n_components=X_numeric.shape[1])\n",
    "pca.fit(X_scaled)\n",
    "\n",
    "# Calculate cumulative explained variance ratio\n",
    "cumulative_variance = np.cumsum(pca.explained_variance_ratio_)\n",
    "print(\"Cumulative explained variance ratio per component:\")\n",
    "print(cumulative_variance)"
   ]
  },
  {
   "cell_type": "code",
   "execution_count": 11,
   "id": "e44c23f9",
   "metadata": {
    "ExecuteTime": {
     "end_time": "2025-03-04T15:28:17.258848Z",
     "start_time": "2025-03-04T15:28:17.105224Z"
    },
    "execution": {
     "iopub.execute_input": "2025-03-06T13:01:28.071210Z",
     "iopub.status.busy": "2025-03-06T13:01:28.070671Z",
     "iopub.status.idle": "2025-03-06T13:01:28.512459Z",
     "shell.execute_reply": "2025-03-06T13:01:28.511443Z"
    },
    "papermill": {
     "duration": 0.483152,
     "end_time": "2025-03-06T13:01:28.514951",
     "exception": false,
     "start_time": "2025-03-06T13:01:28.031799",
     "status": "completed"
    },
    "tags": []
   },
   "outputs": [
    {
     "data": {
      "image/png": "[encoded data removed]",
      "text/plain": [
       "<Figure size 1000x600 with 1 Axes>"
      ]
     },
     "metadata": {},
     "output_type": "display_data"
    },
    {
     "name": "stdout",
     "output_type": "stream",
     "text": [
      "Number of components needed to explain 95% of variance: 24\n"
     ]
    }
   ],
   "source": [
    "# Plot cumulative explained variance ratio\n",
    "plt.figure(figsize=(10, 6))\n",
    "plt.bar(np.arange(1, len(cumulative_variance) + 1),\n",
    "        cumulative_variance, alpha=0.7, color='skyblue')\n",
    "plt.xlabel('Principal Components')\n",
    "plt.ylabel('Cumulative Explained Variance Ratio')\n",
    "plt.title('Cumulative Explained Variance Ratio by PCA Components')\n",
    "plt.axhline(y=threshold, color='red', linestyle='--', label=f'{threshold*100:.0f}% Threshold')\n",
    "plt.legend()\n",
    "plt.show()\n",
    "\n",
    "\n",
    "n_components_needed = np.argmax(cumulative_variance >= threshold) + 1\n",
    "print(\"Number of components needed to explain\",\n",
    "      f\"{threshold*100:.0f}% of variance:\", n_components_needed)"
   ]
  },
  {
   "cell_type": "markdown",
   "id": "3914336b",
   "metadata": {
    "papermill": {
     "duration": 0.034807,
     "end_time": "2025-03-06T13:01:28.581214",
     "exception": false,
     "start_time": "2025-03-06T13:01:28.546407",
     "status": "completed"
    },
    "tags": []
   },
   "source": [
    "We can see that there is dependency of the features, so we can use `SelectKBest` from `sklearn` to identify reduce the dimensionality of the data."
   ]
  },
  {
   "cell_type": "code",
   "execution_count": 12,
   "id": "75d2221f",
   "metadata": {
    "ExecuteTime": {
     "end_time": "2025-03-04T15:28:17.368483Z",
     "start_time": "2025-03-04T15:28:17.264855Z"
    },
    "execution": {
     "iopub.execute_input": "2025-03-06T13:01:28.634479Z",
     "iopub.status.busy": "2025-03-06T13:01:28.634075Z",
     "iopub.status.idle": "2025-03-06T13:01:28.845857Z",
     "shell.execute_reply": "2025-03-06T13:01:28.844561Z"
    },
    "papermill": {
     "duration": 0.240409,
     "end_time": "2025-03-06T13:01:28.848006",
     "exception": false,
     "start_time": "2025-03-06T13:01:28.607597",
     "status": "completed"
    },
    "tags": []
   },
   "outputs": [
    {
     "name": "stdout",
     "output_type": "stream",
     "text": [
      "Preview of the extracted PCA data with original column names:\n"
     ]
    },
    {
     "data": {
      "text/html": [
       "<div>\n",
       "<style scoped>\n",
       "    .dataframe tbody tr th:only-of-type {\n",
       "        vertical-align: middle;\n",
       "    }\n",
       "\n",
       "    .dataframe tbody tr th {\n",
       "        vertical-align: top;\n",
       "    }\n",
       "\n",
       "    .dataframe thead th {\n",
       "        text-align: right;\n",
       "    }\n",
       "</style>\n",
       "<table border=\"1\" class=\"dataframe\">\n",
       "  <thead>\n",
       "    <tr style=\"text-align: right;\">\n",
       "      <th></th>\n",
       "      <th>0</th>\n",
       "      <th>1</th>\n",
       "      <th>2</th>\n",
       "      <th>3</th>\n",
       "      <th>4</th>\n",
       "      <th>5</th>\n",
       "      <th>6</th>\n",
       "      <th>7</th>\n",
       "      <th>8</th>\n",
       "      <th>9</th>\n",
       "      <th>...</th>\n",
       "      <th>14</th>\n",
       "      <th>15</th>\n",
       "      <th>16</th>\n",
       "      <th>17</th>\n",
       "      <th>18</th>\n",
       "      <th>19</th>\n",
       "      <th>20</th>\n",
       "      <th>21</th>\n",
       "      <th>22</th>\n",
       "      <th>23</th>\n",
       "    </tr>\n",
       "  </thead>\n",
       "  <tbody>\n",
       "    <tr>\n",
       "      <th>0</th>\n",
       "      <td>0.607054</td>\n",
       "      <td>0.557197</td>\n",
       "      <td>-1.161833</td>\n",
       "      <td>-1.329516</td>\n",
       "      <td>1.570734</td>\n",
       "      <td>0.207903</td>\n",
       "      <td>-0.091550</td>\n",
       "      <td>0.373035</td>\n",
       "      <td>0.018203</td>\n",
       "      <td>0.201216</td>\n",
       "      <td>...</td>\n",
       "      <td>-0.082051</td>\n",
       "      <td>0.118983</td>\n",
       "      <td>0.536044</td>\n",
       "      <td>0.544001</td>\n",
       "      <td>-0.985491</td>\n",
       "      <td>-0.640737</td>\n",
       "      <td>0.492941</td>\n",
       "      <td>-0.179840</td>\n",
       "      <td>0.291037</td>\n",
       "      <td>-0.070724</td>\n",
       "    </tr>\n",
       "    <tr>\n",
       "      <th>1</th>\n",
       "      <td>2.537830</td>\n",
       "      <td>0.205753</td>\n",
       "      <td>-1.603480</td>\n",
       "      <td>-1.564017</td>\n",
       "      <td>1.335098</td>\n",
       "      <td>0.335180</td>\n",
       "      <td>0.481678</td>\n",
       "      <td>0.208618</td>\n",
       "      <td>-0.098447</td>\n",
       "      <td>-0.000288</td>\n",
       "      <td>...</td>\n",
       "      <td>-0.032659</td>\n",
       "      <td>0.150127</td>\n",
       "      <td>0.652185</td>\n",
       "      <td>0.587562</td>\n",
       "      <td>-1.044287</td>\n",
       "      <td>-0.723520</td>\n",
       "      <td>0.541553</td>\n",
       "      <td>-0.075024</td>\n",
       "      <td>0.489147</td>\n",
       "      <td>0.182867</td>\n",
       "    </tr>\n",
       "    <tr>\n",
       "      <th>2</th>\n",
       "      <td>1.118611</td>\n",
       "      <td>2.916428</td>\n",
       "      <td>-0.232196</td>\n",
       "      <td>-0.704439</td>\n",
       "      <td>1.212273</td>\n",
       "      <td>0.141429</td>\n",
       "      <td>-0.140557</td>\n",
       "      <td>1.085950</td>\n",
       "      <td>0.124138</td>\n",
       "      <td>0.429804</td>\n",
       "      <td>...</td>\n",
       "      <td>-0.182670</td>\n",
       "      <td>-0.229439</td>\n",
       "      <td>0.536571</td>\n",
       "      <td>0.674690</td>\n",
       "      <td>-0.220942</td>\n",
       "      <td>-0.314060</td>\n",
       "      <td>0.796200</td>\n",
       "      <td>0.225411</td>\n",
       "      <td>-0.274381</td>\n",
       "      <td>-0.628348</td>\n",
       "    </tr>\n",
       "    <tr>\n",
       "      <th>3</th>\n",
       "      <td>0.168485</td>\n",
       "      <td>2.787476</td>\n",
       "      <td>-1.140099</td>\n",
       "      <td>-1.460503</td>\n",
       "      <td>1.047879</td>\n",
       "      <td>0.204678</td>\n",
       "      <td>-0.696794</td>\n",
       "      <td>0.317227</td>\n",
       "      <td>-0.056769</td>\n",
       "      <td>-0.144649</td>\n",
       "      <td>...</td>\n",
       "      <td>-0.398353</td>\n",
       "      <td>0.018605</td>\n",
       "      <td>0.874219</td>\n",
       "      <td>-0.269258</td>\n",
       "      <td>-0.126033</td>\n",
       "      <td>-0.873927</td>\n",
       "      <td>0.066273</td>\n",
       "      <td>0.306940</td>\n",
       "      <td>0.080608</td>\n",
       "      <td>0.614364</td>\n",
       "    </tr>\n",
       "    <tr>\n",
       "      <th>4</th>\n",
       "      <td>0.693091</td>\n",
       "      <td>2.916567</td>\n",
       "      <td>-1.113632</td>\n",
       "      <td>-1.621036</td>\n",
       "      <td>1.187267</td>\n",
       "      <td>0.196248</td>\n",
       "      <td>-1.029540</td>\n",
       "      <td>0.415622</td>\n",
       "      <td>-0.202162</td>\n",
       "      <td>-0.239635</td>\n",
       "      <td>...</td>\n",
       "      <td>0.206402</td>\n",
       "      <td>-0.025519</td>\n",
       "      <td>0.542813</td>\n",
       "      <td>-0.349646</td>\n",
       "      <td>0.257644</td>\n",
       "      <td>-0.280425</td>\n",
       "      <td>-0.121106</td>\n",
       "      <td>0.361786</td>\n",
       "      <td>0.155754</td>\n",
       "      <td>0.474326</td>\n",
       "    </tr>\n",
       "    <tr>\n",
       "      <th>...</th>\n",
       "      <td>...</td>\n",
       "      <td>...</td>\n",
       "      <td>...</td>\n",
       "      <td>...</td>\n",
       "      <td>...</td>\n",
       "      <td>...</td>\n",
       "      <td>...</td>\n",
       "      <td>...</td>\n",
       "      <td>...</td>\n",
       "      <td>...</td>\n",
       "      <td>...</td>\n",
       "      <td>...</td>\n",
       "      <td>...</td>\n",
       "      <td>...</td>\n",
       "      <td>...</td>\n",
       "      <td>...</td>\n",
       "      <td>...</td>\n",
       "      <td>...</td>\n",
       "      <td>...</td>\n",
       "      <td>...</td>\n",
       "      <td>...</td>\n",
       "    </tr>\n",
       "    <tr>\n",
       "      <th>145666</th>\n",
       "      <td>-1.230348</td>\n",
       "      <td>-2.134984</td>\n",
       "      <td>1.397159</td>\n",
       "      <td>0.392724</td>\n",
       "      <td>-0.920288</td>\n",
       "      <td>1.140517</td>\n",
       "      <td>-0.086188</td>\n",
       "      <td>-0.058280</td>\n",
       "      <td>0.231768</td>\n",
       "      <td>0.183470</td>\n",
       "      <td>...</td>\n",
       "      <td>0.008794</td>\n",
       "      <td>-0.036026</td>\n",
       "      <td>0.221842</td>\n",
       "      <td>-0.214685</td>\n",
       "      <td>0.131730</td>\n",
       "      <td>0.004474</td>\n",
       "      <td>-0.045303</td>\n",
       "      <td>-0.000912</td>\n",
       "      <td>0.133994</td>\n",
       "      <td>0.376973</td>\n",
       "    </tr>\n",
       "    <tr>\n",
       "      <th>145667</th>\n",
       "      <td>-0.646554</td>\n",
       "      <td>-0.121943</td>\n",
       "      <td>0.488334</td>\n",
       "      <td>0.490829</td>\n",
       "      <td>-0.520826</td>\n",
       "      <td>0.416315</td>\n",
       "      <td>0.263801</td>\n",
       "      <td>-0.580594</td>\n",
       "      <td>0.382763</td>\n",
       "      <td>-0.254834</td>\n",
       "      <td>...</td>\n",
       "      <td>-0.880249</td>\n",
       "      <td>-0.449991</td>\n",
       "      <td>-0.884304</td>\n",
       "      <td>-1.456537</td>\n",
       "      <td>1.478955</td>\n",
       "      <td>-0.440400</td>\n",
       "      <td>-0.713035</td>\n",
       "      <td>-0.976916</td>\n",
       "      <td>-0.272514</td>\n",
       "      <td>0.729467</td>\n",
       "    </tr>\n",
       "    <tr>\n",
       "      <th>145668</th>\n",
       "      <td>-0.527492</td>\n",
       "      <td>0.675640</td>\n",
       "      <td>-0.673517</td>\n",
       "      <td>-0.672463</td>\n",
       "      <td>0.968166</td>\n",
       "      <td>-0.028926</td>\n",
       "      <td>-0.306263</td>\n",
       "      <td>0.248485</td>\n",
       "      <td>0.695579</td>\n",
       "      <td>0.375674</td>\n",
       "      <td>...</td>\n",
       "      <td>-1.549319</td>\n",
       "      <td>-0.276616</td>\n",
       "      <td>-0.690393</td>\n",
       "      <td>-0.373877</td>\n",
       "      <td>0.838936</td>\n",
       "      <td>0.496423</td>\n",
       "      <td>-0.359848</td>\n",
       "      <td>0.285740</td>\n",
       "      <td>-0.177362</td>\n",
       "      <td>1.285415</td>\n",
       "    </tr>\n",
       "    <tr>\n",
       "      <th>145669</th>\n",
       "      <td>6.043985</td>\n",
       "      <td>13.069944</td>\n",
       "      <td>11.653531</td>\n",
       "      <td>0.603233</td>\n",
       "      <td>-5.662326</td>\n",
       "      <td>-0.098309</td>\n",
       "      <td>7.753189</td>\n",
       "      <td>5.476597</td>\n",
       "      <td>3.761424</td>\n",
       "      <td>4.386245</td>\n",
       "      <td>...</td>\n",
       "      <td>-1.293190</td>\n",
       "      <td>-7.791611</td>\n",
       "      <td>6.203604</td>\n",
       "      <td>17.926565</td>\n",
       "      <td>18.956992</td>\n",
       "      <td>-1.689342</td>\n",
       "      <td>9.127412</td>\n",
       "      <td>-7.723090</td>\n",
       "      <td>-5.609121</td>\n",
       "      <td>0.474474</td>\n",
       "    </tr>\n",
       "    <tr>\n",
       "      <th>145670</th>\n",
       "      <td>-0.759986</td>\n",
       "      <td>2.494994</td>\n",
       "      <td>-2.771850</td>\n",
       "      <td>4.276955</td>\n",
       "      <td>-2.049263</td>\n",
       "      <td>-0.696368</td>\n",
       "      <td>0.021116</td>\n",
       "      <td>-0.284159</td>\n",
       "      <td>0.506146</td>\n",
       "      <td>-0.016130</td>\n",
       "      <td>...</td>\n",
       "      <td>-2.036983</td>\n",
       "      <td>-0.624746</td>\n",
       "      <td>-3.192665</td>\n",
       "      <td>-1.457957</td>\n",
       "      <td>3.669719</td>\n",
       "      <td>-2.282141</td>\n",
       "      <td>-1.466365</td>\n",
       "      <td>3.118669</td>\n",
       "      <td>-1.325811</td>\n",
       "      <td>1.697766</td>\n",
       "    </tr>\n",
       "  </tbody>\n",
       "</table>\n",
       "<p>145671 rows × 24 columns</p>\n",
       "</div>"
      ],
      "text/plain": [
       "              0          1          2         3         4         5   \\\n",
       "0       0.607054   0.557197  -1.161833 -1.329516  1.570734  0.207903   \n",
       "1       2.537830   0.205753  -1.603480 -1.564017  1.335098  0.335180   \n",
       "2       1.118611   2.916428  -0.232196 -0.704439  1.212273  0.141429   \n",
       "3       0.168485   2.787476  -1.140099 -1.460503  1.047879  0.204678   \n",
       "4       0.693091   2.916567  -1.113632 -1.621036  1.187267  0.196248   \n",
       "...          ...        ...        ...       ...       ...       ...   \n",
       "145666 -1.230348  -2.134984   1.397159  0.392724 -0.920288  1.140517   \n",
       "145667 -0.646554  -0.121943   0.488334  0.490829 -0.520826  0.416315   \n",
       "145668 -0.527492   0.675640  -0.673517 -0.672463  0.968166 -0.028926   \n",
       "145669  6.043985  13.069944  11.653531  0.603233 -5.662326 -0.098309   \n",
       "145670 -0.759986   2.494994  -2.771850  4.276955 -2.049263 -0.696368   \n",
       "\n",
       "              6         7         8         9   ...        14        15  \\\n",
       "0      -0.091550  0.373035  0.018203  0.201216  ... -0.082051  0.118983   \n",
       "1       0.481678  0.208618 -0.098447 -0.000288  ... -0.032659  0.150127   \n",
       "2      -0.140557  1.085950  0.124138  0.429804  ... -0.182670 -0.229439   \n",
       "3      -0.696794  0.317227 -0.056769 -0.144649  ... -0.398353  0.018605   \n",
       "4      -1.029540  0.415622 -0.202162 -0.239635  ...  0.206402 -0.025519   \n",
       "...          ...       ...       ...       ...  ...       ...       ...   \n",
       "145666 -0.086188 -0.058280  0.231768  0.183470  ...  0.008794 -0.036026   \n",
       "145667  0.263801 -0.580594  0.382763 -0.254834  ... -0.880249 -0.449991   \n",
       "145668 -0.306263  0.248485  0.695579  0.375674  ... -1.549319 -0.276616   \n",
       "145669  7.753189  5.476597  3.761424  4.386245  ... -1.293190 -7.791611   \n",
       "145670  0.021116 -0.284159  0.506146 -0.016130  ... -2.036983 -0.624746   \n",
       "\n",
       "              16         17         18        19        20        21  \\\n",
       "0       0.536044   0.544001  -0.985491 -0.640737  0.492941 -0.179840   \n",
       "1       0.652185   0.587562  -1.044287 -0.723520  0.541553 -0.075024   \n",
       "2       0.536571   0.674690  -0.220942 -0.314060  0.796200  0.225411   \n",
       "3       0.874219  -0.269258  -0.126033 -0.873927  0.066273  0.306940   \n",
       "4       0.542813  -0.349646   0.257644 -0.280425 -0.121106  0.361786   \n",
       "...          ...        ...        ...       ...       ...       ...   \n",
       "145666  0.221842  -0.214685   0.131730  0.004474 -0.045303 -0.000912   \n",
       "145667 -0.884304  -1.456537   1.478955 -0.440400 -0.713035 -0.976916   \n",
       "145668 -0.690393  -0.373877   0.838936  0.496423 -0.359848  0.285740   \n",
       "145669  6.203604  17.926565  18.956992 -1.689342  9.127412 -7.723090   \n",
       "145670 -3.192665  -1.457957   3.669719 -2.282141 -1.466365  3.118669   \n",
       "\n",
       "              22        23  \n",
       "0       0.291037 -0.070724  \n",
       "1       0.489147  0.182867  \n",
       "2      -0.274381 -0.628348  \n",
       "3       0.080608  0.614364  \n",
       "4       0.155754  0.474326  \n",
       "...          ...       ...  \n",
       "145666  0.133994  0.376973  \n",
       "145667 -0.272514  0.729467  \n",
       "145668 -0.177362  1.285415  \n",
       "145669 -5.609121  0.474474  \n",
       "145670 -1.325811  1.697766  \n",
       "\n",
       "[145671 rows x 24 columns]"
      ]
     },
     "execution_count": 12,
     "metadata": {},
     "output_type": "execute_result"
    }
   ],
   "source": [
    "# Transform the scaled numeric data with the fitted PCA to get all components\n",
    "X_pca = pca.transform(X_scaled)\n",
    "\n",
    "# Extract only the first n_components_needed columns (principal components)\n",
    "X_pca_selected = X_pca[:, :n_components_needed]\n",
    "\n",
    "# Create a DataFrame with the selected PCA data using the mapped original column names\n",
    "df_pca_original = pd.DataFrame(X_pca_selected)\n",
    "\n",
    "print(\"Preview of the extracted PCA data with original column names:\")\n",
    "df_pca_original"
   ]
  },
  {
   "cell_type": "code",
   "execution_count": 13,
   "id": "d1004df2",
   "metadata": {
    "ExecuteTime": {
     "end_time": "2025-03-04T15:28:17.446211Z",
     "start_time": "2025-03-04T15:28:17.431592Z"
    },
    "execution": {
     "iopub.execute_input": "2025-03-06T13:01:28.903655Z",
     "iopub.status.busy": "2025-03-06T13:01:28.903279Z",
     "iopub.status.idle": "2025-03-06T13:01:28.908883Z",
     "shell.execute_reply": "2025-03-06T13:01:28.907463Z"
    },
    "papermill": {
     "duration": 0.034852,
     "end_time": "2025-03-06T13:01:28.910829",
     "exception": false,
     "start_time": "2025-03-06T13:01:28.875977",
     "status": "completed"
    },
    "tags": []
   },
   "outputs": [
    {
     "name": "stdout",
     "output_type": "stream",
     "text": [
      "RangeIndex(start=0, stop=24, step=1)\n"
     ]
    }
   ],
   "source": [
    "print(df_pca_original.columns)"
   ]
  },
  {
   "cell_type": "code",
   "execution_count": 14,
   "id": "39f294c9",
   "metadata": {
    "ExecuteTime": {
     "end_time": "2025-03-04T15:28:17.492254Z",
     "start_time": "2025-03-04T15:28:17.477749Z"
    },
    "execution": {
     "iopub.execute_input": "2025-03-06T13:01:28.971326Z",
     "iopub.status.busy": "2025-03-06T13:01:28.970839Z",
     "iopub.status.idle": "2025-03-06T13:01:28.979242Z",
     "shell.execute_reply": "2025-03-06T13:01:28.977927Z"
    },
    "papermill": {
     "duration": 0.042094,
     "end_time": "2025-03-06T13:01:28.981660",
     "exception": false,
     "start_time": "2025-03-06T13:01:28.939566",
     "status": "completed"
    },
    "tags": []
   },
   "outputs": [
    {
     "data": {
      "text/plain": [
       "array([[ 6.07053910e-01,  5.57197105e-01, -1.16183255e+00, ...,\n",
       "         6.03846563e-07, -1.86482498e-05, -7.71011509e-07],\n",
       "       [ 2.53782975e+00,  2.05752551e-01, -1.60348008e+00, ...,\n",
       "         3.61907359e-06, -2.55602906e-05, -1.51805861e-06],\n",
       "       [ 1.11861067e+00,  2.91642758e+00, -2.32195583e-01, ...,\n",
       "         4.05133050e-05,  6.53044568e-05, -4.05596377e-05],\n",
       "       ...,\n",
       "       [-5.27491565e-01,  6.75639722e-01, -6.73517392e-01, ...,\n",
       "        -1.24069629e-04,  1.73424319e-05,  8.89858832e-07],\n",
       "       [ 6.04398468e+00,  1.30699441e+01,  1.16535312e+01, ...,\n",
       "        -2.04385864e-02,  5.03761209e-04,  3.02548747e-03],\n",
       "       [-7.59986479e-01,  2.49499448e+00, -2.77185033e+00, ...,\n",
       "        -1.17641992e-04, -3.17340216e-04, -1.02289553e-05]])"
      ]
     },
     "execution_count": 14,
     "metadata": {},
     "output_type": "execute_result"
    }
   ],
   "source": [
    "X_pca"
   ]
  },
  {
   "cell_type": "markdown",
   "id": "d2464d50",
   "metadata": {
    "papermill": {
     "duration": 0.02577,
     "end_time": "2025-03-06T13:01:29.034597",
     "exception": false,
     "start_time": "2025-03-06T13:01:29.008827",
     "status": "completed"
    },
    "tags": []
   },
   "source": [
    "### Feature Selection"
   ]
  },
  {
   "cell_type": "code",
   "execution_count": 15,
   "id": "a5f4b8f5",
   "metadata": {
    "ExecuteTime": {
     "end_time": "2025-03-04T15:28:17.585934Z",
     "start_time": "2025-03-04T15:28:17.538885Z"
    },
    "execution": {
     "iopub.execute_input": "2025-03-06T13:01:29.089004Z",
     "iopub.status.busy": "2025-03-06T13:01:29.088606Z",
     "iopub.status.idle": "2025-03-06T13:01:29.390892Z",
     "shell.execute_reply": "2025-03-06T13:01:29.388812Z"
    },
    "papermill": {
     "duration": 0.333076,
     "end_time": "2025-03-06T13:01:29.393557",
     "exception": false,
     "start_time": "2025-03-06T13:01:29.060481",
     "status": "completed"
    },
    "tags": []
   },
   "outputs": [],
   "source": [
    "from sklearn.feature_selection import SelectKBest, mutual_info_classif\n",
    "from sklearn.model_selection import cross_val_score\n",
    "from sklearn.ensemble import RandomForestClassifier"
   ]
  },
  {
   "cell_type": "markdown",
   "id": "fd04caec",
   "metadata": {
    "papermill": {
     "duration": 0.043183,
     "end_time": "2025-03-06T13:01:29.465545",
     "exception": false,
     "start_time": "2025-03-06T13:01:29.422362",
     "status": "completed"
    },
    "tags": []
   },
   "source": [
    "# Long Runtime Cells ⏳\n",
    "\n",
    "This cell has been commented out due to its long runtime. If you want to see the complete calculations, you will need to uncomment this cell and run it.\n",
    "\n",
    "To uncomment the cell, simply remove the `#` or `\"\"\"` symbols at the beginning and end of the cells.\n",
    "\n",
    "Please be aware that uncommenting and running this cell may take a significant amount of time, depending on the complexity of the calculations and the performance of your system 🖥️."
   ]
  },
  {
   "cell_type": "code",
   "execution_count": 16,
   "id": "57edaeb4",
   "metadata": {
    "ExecuteTime": {
     "end_time": "2025-03-04T16:46:56.022538Z",
     "start_time": "2025-03-04T15:28:17.618969Z"
    },
    "execution": {
     "iopub.execute_input": "2025-03-06T13:01:29.561702Z",
     "iopub.status.busy": "2025-03-06T13:01:29.561301Z",
     "iopub.status.idle": "2025-03-06T13:01:29.565535Z",
     "shell.execute_reply": "2025-03-06T13:01:29.564366Z"
    },
    "papermill": {
     "duration": 0.056385,
     "end_time": "2025-03-06T13:01:29.567571",
     "exception": false,
     "start_time": "2025-03-06T13:01:29.511186",
     "status": "completed"
    },
    "tags": []
   },
   "outputs": [],
   "source": [
    "# # Define range of k values to test\n",
    "# k_range = range(1, (len(X_numeric.columns) + 1)//2)\n",
    "# scores_mean = []\n",
    "# scores_std = []\n",
    "\n",
    "# # For each k, perform feature selection and evaluate with cross-validation\n",
    "# for k in k_range:\n",
    "#     # Select k best features\n",
    "#     selector = SelectKBest(score_func=mutual_info_classif, k=k)\n",
    "#     X_selected = selector.fit_transform(X_numeric, Y)\n",
    "\n",
    "#     # Evaluate using Random Forest with cross-validation\n",
    "#     clf = RandomForestClassifier(max_depth=10, random_state=RANDOM_SEED)\n",
    "#     scores = cross_val_score(clf, X_selected, Y, cv=5, scoring='accuracy')\n",
    "\n",
    "#     scores_mean.append(scores.mean())\n",
    "#     scores_std.append(scores.std())\n",
    "\n"
   ]
  },
  {
   "cell_type": "code",
   "execution_count": 17,
   "id": "b79b796c",
   "metadata": {
    "ExecuteTime": {
     "end_time": "2025-03-04T21:16:56.058099Z",
     "start_time": "2025-03-04T21:16:55.962383Z"
    },
    "execution": {
     "iopub.execute_input": "2025-03-06T13:01:29.630008Z",
     "iopub.status.busy": "2025-03-06T13:01:29.629475Z",
     "iopub.status.idle": "2025-03-06T13:01:29.634454Z",
     "shell.execute_reply": "2025-03-06T13:01:29.633101Z"
    },
    "papermill": {
     "duration": 0.037317,
     "end_time": "2025-03-06T13:01:29.636405",
     "exception": false,
     "start_time": "2025-03-06T13:01:29.599088",
     "status": "completed"
    },
    "tags": []
   },
   "outputs": [],
   "source": [
    "# Find the optimal k\n",
    "# optimal_k = k_range[np.argmax(scores_mean)] #To full runtime, remove this commet\n",
    "optimal_k = 36\n",
    "\n",
    "# # Plot results\n",
    "# plt.figure(figsize=(10, 6))\n",
    "# plt.plot(k_range, scores_mean, 'b-', label='Mean CV Score')\n",
    "# plt.fill_between(k_range,\n",
    "#                  np.array(scores_mean) - np.array(scores_std),\n",
    "#                  np.array(scores_mean) + np.array(scores_std),\n",
    "#                  alpha=0.2)\n",
    "# plt.xlabel('Number of Features Selected (k)')\n",
    "# plt.ylabel('Cross-Validation Accuracy')\n",
    "# plt.title('Feature Selection Performance vs Number of Features')\n",
    "# plt.grid(True)\n",
    "# plt.legend()\n",
    "\n",
    "# # Find the optimal k\n",
    "# optimal_k = k_range[np.argmax(scores_mean)]\n",
    "# plt.axvline(x=optimal_k, color='r', linestyle='--', label=f'Optimal k={optimal_k}')\n",
    "# plt.legend()\n",
    "# plt.show()"
   ]
  },
  {
   "cell_type": "markdown",
   "id": "57123d3d",
   "metadata": {
    "papermill": {
     "duration": 0.024947,
     "end_time": "2025-03-06T13:01:29.688478",
     "exception": false,
     "start_time": "2025-03-06T13:01:29.663531",
     "status": "completed"
    },
    "tags": []
   },
   "source": [
    "To reduce the number of features we will run the `SelectKBest` identify the optimal number of features to use in the model.\n",
    "We will run it until half of the number of features in the data and pick the optimal number of features that give us the best results. in this case the optimal number of features is 36."
   ]
  },
  {
   "cell_type": "code",
   "execution_count": 18,
   "id": "5f2246b0",
   "metadata": {
    "ExecuteTime": {
     "end_time": "2025-03-04T21:19:41.596939Z",
     "start_time": "2025-03-04T21:19:41.579431Z"
    },
    "execution": {
     "iopub.execute_input": "2025-03-06T13:01:29.743020Z",
     "iopub.status.busy": "2025-03-06T13:01:29.742629Z",
     "iopub.status.idle": "2025-03-06T13:01:29.747408Z",
     "shell.execute_reply": "2025-03-06T13:01:29.746291Z"
    },
    "papermill": {
     "duration": 0.032896,
     "end_time": "2025-03-06T13:01:29.749045",
     "exception": false,
     "start_time": "2025-03-06T13:01:29.716149",
     "status": "completed"
    },
    "tags": []
   },
   "outputs": [
    {
     "name": "stdout",
     "output_type": "stream",
     "text": [
      "Optimal number of features: 36\n"
     ]
    }
   ],
   "source": [
    "print(f\"Optimal number of features: {optimal_k}\")\n",
    "# print(f\"Best cross-validation score: {max(scores_mean):.4f}\")"
   ]
  },
  {
   "cell_type": "code",
   "execution_count": 19,
   "id": "09621fae",
   "metadata": {
    "ExecuteTime": {
     "end_time": "2025-03-04T16:47:20.473874Z",
     "start_time": "2025-03-04T16:46:56.240481Z"
    },
    "execution": {
     "iopub.execute_input": "2025-03-06T13:01:29.803605Z",
     "iopub.status.busy": "2025-03-06T13:01:29.803233Z",
     "iopub.status.idle": "2025-03-06T13:02:36.245821Z",
     "shell.execute_reply": "2025-03-06T13:02:36.244582Z"
    },
    "papermill": {
     "duration": 66.500181,
     "end_time": "2025-03-06T13:02:36.275002",
     "exception": false,
     "start_time": "2025-03-06T13:01:29.774821",
     "status": "completed"
    },
    "tags": []
   },
   "outputs": [
    {
     "name": "stdout",
     "output_type": "stream",
     "text": [
      "\n",
      "Shape of selected features: (145671, 36)\n"
     ]
    },
    {
     "data": {
      "text/html": [
       "<div>\n",
       "<style scoped>\n",
       "    .dataframe tbody tr th:only-of-type {\n",
       "        vertical-align: middle;\n",
       "    }\n",
       "\n",
       "    .dataframe tbody tr th {\n",
       "        vertical-align: top;\n",
       "    }\n",
       "\n",
       "    .dataframe thead th {\n",
       "        text-align: right;\n",
       "    }\n",
       "</style>\n",
       "<table border=\"1\" class=\"dataframe\">\n",
       "  <thead>\n",
       "    <tr style=\"text-align: right;\">\n",
       "      <th></th>\n",
       "      <th>BYTES</th>\n",
       "      <th>BYTES_REV</th>\n",
       "      <th>PACKETS</th>\n",
       "      <th>PACKETS_REV</th>\n",
       "      <th>PKT_LENGTHS_MEAN</th>\n",
       "      <th>PKT_LENGTHS_MAX</th>\n",
       "      <th>PKT_LENGTHS_STD</th>\n",
       "      <th>PKT_LENGTHS_25</th>\n",
       "      <th>PKT_LENGTHS_50</th>\n",
       "      <th>PKT_LENGTHS_75</th>\n",
       "      <th>...</th>\n",
       "      <th>PCA_DBI_BRST_PACKETS_1</th>\n",
       "      <th>PCA_DBI_BRST_TIME_START_0</th>\n",
       "      <th>PCA_DBI_BRST_TIME_STOP_0</th>\n",
       "      <th>PCA_PKT_LENGTHS_0</th>\n",
       "      <th>PCA_PKT_LENGTHS_1</th>\n",
       "      <th>PCA_BRST_DURATION_0</th>\n",
       "      <th>PCA_BRST_DURATION_1</th>\n",
       "      <th>BRST_BYTES_0</th>\n",
       "      <th>BRST_BYTES_1</th>\n",
       "      <th>BRST_PACKETS_0</th>\n",
       "    </tr>\n",
       "  </thead>\n",
       "  <tbody>\n",
       "    <tr>\n",
       "      <th>0</th>\n",
       "      <td>57363.0</td>\n",
       "      <td>12066294.0</td>\n",
       "      <td>1199.0</td>\n",
       "      <td>9548.0</td>\n",
       "      <td>1092.500000</td>\n",
       "      <td>1300.0</td>\n",
       "      <td>415.873278</td>\n",
       "      <td>1300.0</td>\n",
       "      <td>1300.0</td>\n",
       "      <td>1300.00</td>\n",
       "      <td>...</td>\n",
       "      <td>-0.002948</td>\n",
       "      <td>-0.064074</td>\n",
       "      <td>-0.065812</td>\n",
       "      <td>4.268334</td>\n",
       "      <td>1.059109</td>\n",
       "      <td>-0.350535</td>\n",
       "      <td>0.042377</td>\n",
       "      <td>11684362.0</td>\n",
       "      <td>0.0</td>\n",
       "      <td>9543.0</td>\n",
       "    </tr>\n",
       "    <tr>\n",
       "      <th>1</th>\n",
       "      <td>779698.0</td>\n",
       "      <td>38492555.0</td>\n",
       "      <td>14539.0</td>\n",
       "      <td>28466.0</td>\n",
       "      <td>1143.300000</td>\n",
       "      <td>1368.0</td>\n",
       "      <td>439.354007</td>\n",
       "      <td>1368.0</td>\n",
       "      <td>1368.0</td>\n",
       "      <td>1368.00</td>\n",
       "      <td>...</td>\n",
       "      <td>0.100339</td>\n",
       "      <td>-0.064072</td>\n",
       "      <td>-0.054751</td>\n",
       "      <td>4.754931</td>\n",
       "      <td>1.463868</td>\n",
       "      <td>-0.339278</td>\n",
       "      <td>-0.131733</td>\n",
       "      <td>37012315.0</td>\n",
       "      <td>0.0</td>\n",
       "      <td>28446.0</td>\n",
       "    </tr>\n",
       "    <tr>\n",
       "      <th>2</th>\n",
       "      <td>278099.0</td>\n",
       "      <td>43349394.0</td>\n",
       "      <td>4624.0</td>\n",
       "      <td>28939.0</td>\n",
       "      <td>1296.766667</td>\n",
       "      <td>1448.0</td>\n",
       "      <td>382.143314</td>\n",
       "      <td>1448.0</td>\n",
       "      <td>1448.0</td>\n",
       "      <td>1448.00</td>\n",
       "      <td>...</td>\n",
       "      <td>0.772058</td>\n",
       "      <td>0.001421</td>\n",
       "      <td>-0.001593</td>\n",
       "      <td>5.916514</td>\n",
       "      <td>0.031626</td>\n",
       "      <td>-0.220426</td>\n",
       "      <td>-0.042726</td>\n",
       "      <td>25835232.0</td>\n",
       "      <td>3228530.0</td>\n",
       "      <td>17863.0</td>\n",
       "    </tr>\n",
       "    <tr>\n",
       "      <th>3</th>\n",
       "      <td>143766.0</td>\n",
       "      <td>16941036.0</td>\n",
       "      <td>2252.0</td>\n",
       "      <td>11364.0</td>\n",
       "      <td>1211.300000</td>\n",
       "      <td>1448.0</td>\n",
       "      <td>462.360404</td>\n",
       "      <td>1338.5</td>\n",
       "      <td>1448.0</td>\n",
       "      <td>1448.00</td>\n",
       "      <td>...</td>\n",
       "      <td>-0.213915</td>\n",
       "      <td>0.087765</td>\n",
       "      <td>0.082880</td>\n",
       "      <td>5.314518</td>\n",
       "      <td>1.307584</td>\n",
       "      <td>-0.231986</td>\n",
       "      <td>0.123182</td>\n",
       "      <td>1719683.0</td>\n",
       "      <td>864661.0</td>\n",
       "      <td>1205.0</td>\n",
       "    </tr>\n",
       "    <tr>\n",
       "      <th>4</th>\n",
       "      <td>1790845.0</td>\n",
       "      <td>115404196.0</td>\n",
       "      <td>37979.0</td>\n",
       "      <td>77255.0</td>\n",
       "      <td>1269.633333</td>\n",
       "      <td>1460.0</td>\n",
       "      <td>426.044480</td>\n",
       "      <td>1460.0</td>\n",
       "      <td>1460.0</td>\n",
       "      <td>1460.00</td>\n",
       "      <td>...</td>\n",
       "      <td>-0.206994</td>\n",
       "      <td>0.069640</td>\n",
       "      <td>0.064562</td>\n",
       "      <td>5.731270</td>\n",
       "      <td>0.654670</td>\n",
       "      <td>-0.224270</td>\n",
       "      <td>0.125757</td>\n",
       "      <td>1003845.0</td>\n",
       "      <td>649254.0</td>\n",
       "      <td>691.0</td>\n",
       "    </tr>\n",
       "    <tr>\n",
       "      <th>...</th>\n",
       "      <td>...</td>\n",
       "      <td>...</td>\n",
       "      <td>...</td>\n",
       "      <td>...</td>\n",
       "      <td>...</td>\n",
       "      <td>...</td>\n",
       "      <td>...</td>\n",
       "      <td>...</td>\n",
       "      <td>...</td>\n",
       "      <td>...</td>\n",
       "      <td>...</td>\n",
       "      <td>...</td>\n",
       "      <td>...</td>\n",
       "      <td>...</td>\n",
       "      <td>...</td>\n",
       "      <td>...</td>\n",
       "      <td>...</td>\n",
       "      <td>...</td>\n",
       "      <td>...</td>\n",
       "      <td>...</td>\n",
       "      <td>...</td>\n",
       "    </tr>\n",
       "    <tr>\n",
       "      <th>145666</th>\n",
       "      <td>160.0</td>\n",
       "      <td>224.0</td>\n",
       "      <td>4.0</td>\n",
       "      <td>5.0</td>\n",
       "      <td>42.666667</td>\n",
       "      <td>64.0</td>\n",
       "      <td>7.542472</td>\n",
       "      <td>40.0</td>\n",
       "      <td>40.0</td>\n",
       "      <td>40.00</td>\n",
       "      <td>...</td>\n",
       "      <td>-0.055065</td>\n",
       "      <td>-0.121832</td>\n",
       "      <td>-0.126917</td>\n",
       "      <td>-4.735962</td>\n",
       "      <td>0.317149</td>\n",
       "      <td>-0.354766</td>\n",
       "      <td>0.107806</td>\n",
       "      <td>4277.0</td>\n",
       "      <td>0.0</td>\n",
       "      <td>5.0</td>\n",
       "    </tr>\n",
       "    <tr>\n",
       "      <th>145667</th>\n",
       "      <td>12443.0</td>\n",
       "      <td>101681.0</td>\n",
       "      <td>267.0</td>\n",
       "      <td>266.0</td>\n",
       "      <td>140.166667</td>\n",
       "      <td>914.0</td>\n",
       "      <td>188.342610</td>\n",
       "      <td>40.0</td>\n",
       "      <td>52.0</td>\n",
       "      <td>128.25</td>\n",
       "      <td>...</td>\n",
       "      <td>-0.051976</td>\n",
       "      <td>0.664654</td>\n",
       "      <td>0.693341</td>\n",
       "      <td>-3.705923</td>\n",
       "      <td>-0.276540</td>\n",
       "      <td>3.812195</td>\n",
       "      <td>-0.337360</td>\n",
       "      <td>1095.0</td>\n",
       "      <td>38442.0</td>\n",
       "      <td>3.0</td>\n",
       "    </tr>\n",
       "    <tr>\n",
       "      <th>145668</th>\n",
       "      <td>133271.0</td>\n",
       "      <td>882577.0</td>\n",
       "      <td>1053.0</td>\n",
       "      <td>1064.0</td>\n",
       "      <td>540.433333</td>\n",
       "      <td>1460.0</td>\n",
       "      <td>656.805130</td>\n",
       "      <td>40.0</td>\n",
       "      <td>52.0</td>\n",
       "      <td>1460.00</td>\n",
       "      <td>...</td>\n",
       "      <td>-0.055926</td>\n",
       "      <td>0.061697</td>\n",
       "      <td>0.057708</td>\n",
       "      <td>-0.316884</td>\n",
       "      <td>-0.686646</td>\n",
       "      <td>-0.275938</td>\n",
       "      <td>-0.017864</td>\n",
       "      <td>27211.0</td>\n",
       "      <td>40883.0</td>\n",
       "      <td>22.0</td>\n",
       "    </tr>\n",
       "    <tr>\n",
       "      <th>145669</th>\n",
       "      <td>1153975.0</td>\n",
       "      <td>84044865.0</td>\n",
       "      <td>23406.0</td>\n",
       "      <td>93051.0</td>\n",
       "      <td>469.533333</td>\n",
       "      <td>1460.0</td>\n",
       "      <td>611.155830</td>\n",
       "      <td>40.0</td>\n",
       "      <td>52.0</td>\n",
       "      <td>1224.75</td>\n",
       "      <td>...</td>\n",
       "      <td>7.395888</td>\n",
       "      <td>0.133354</td>\n",
       "      <td>0.202511</td>\n",
       "      <td>-1.052144</td>\n",
       "      <td>-1.362891</td>\n",
       "      <td>8.657506</td>\n",
       "      <td>-6.172540</td>\n",
       "      <td>25798570.0</td>\n",
       "      <td>902241.0</td>\n",
       "      <td>25933.0</td>\n",
       "    </tr>\n",
       "    <tr>\n",
       "      <th>145670</th>\n",
       "      <td>15006.0</td>\n",
       "      <td>23867.0</td>\n",
       "      <td>132.0</td>\n",
       "      <td>131.0</td>\n",
       "      <td>286.566667</td>\n",
       "      <td>1460.0</td>\n",
       "      <td>456.627542</td>\n",
       "      <td>40.0</td>\n",
       "      <td>52.0</td>\n",
       "      <td>217.75</td>\n",
       "      <td>...</td>\n",
       "      <td>-0.053019</td>\n",
       "      <td>0.331947</td>\n",
       "      <td>0.330164</td>\n",
       "      <td>-2.620068</td>\n",
       "      <td>-1.804238</td>\n",
       "      <td>0.039988</td>\n",
       "      <td>-0.093506</td>\n",
       "      <td>6111.0</td>\n",
       "      <td>864.0</td>\n",
       "      <td>9.0</td>\n",
       "    </tr>\n",
       "  </tbody>\n",
       "</table>\n",
       "<p>145671 rows × 36 columns</p>\n",
       "</div>"
      ],
      "text/plain": [
       "            BYTES    BYTES_REV  PACKETS  PACKETS_REV  PKT_LENGTHS_MEAN  \\\n",
       "0         57363.0   12066294.0   1199.0       9548.0       1092.500000   \n",
       "1        779698.0   38492555.0  14539.0      28466.0       1143.300000   \n",
       "2        278099.0   43349394.0   4624.0      28939.0       1296.766667   \n",
       "3        143766.0   16941036.0   2252.0      11364.0       1211.300000   \n",
       "4       1790845.0  115404196.0  37979.0      77255.0       1269.633333   \n",
       "...           ...          ...      ...          ...               ...   \n",
       "145666      160.0        224.0      4.0          5.0         42.666667   \n",
       "145667    12443.0     101681.0    267.0        266.0        140.166667   \n",
       "145668   133271.0     882577.0   1053.0       1064.0        540.433333   \n",
       "145669  1153975.0   84044865.0  23406.0      93051.0        469.533333   \n",
       "145670    15006.0      23867.0    132.0        131.0        286.566667   \n",
       "\n",
       "        PKT_LENGTHS_MAX  PKT_LENGTHS_STD  PKT_LENGTHS_25  PKT_LENGTHS_50  \\\n",
       "0                1300.0       415.873278          1300.0          1300.0   \n",
       "1                1368.0       439.354007          1368.0          1368.0   \n",
       "2                1448.0       382.143314          1448.0          1448.0   \n",
       "3                1448.0       462.360404          1338.5          1448.0   \n",
       "4                1460.0       426.044480          1460.0          1460.0   \n",
       "...                 ...              ...             ...             ...   \n",
       "145666             64.0         7.542472            40.0            40.0   \n",
       "145667            914.0       188.342610            40.0            52.0   \n",
       "145668           1460.0       656.805130            40.0            52.0   \n",
       "145669           1460.0       611.155830            40.0            52.0   \n",
       "145670           1460.0       456.627542            40.0            52.0   \n",
       "\n",
       "        PKT_LENGTHS_75  ...  PCA_DBI_BRST_PACKETS_1  \\\n",
       "0              1300.00  ...               -0.002948   \n",
       "1              1368.00  ...                0.100339   \n",
       "2              1448.00  ...                0.772058   \n",
       "3              1448.00  ...               -0.213915   \n",
       "4              1460.00  ...               -0.206994   \n",
       "...                ...  ...                     ...   \n",
       "145666           40.00  ...               -0.055065   \n",
       "145667          128.25  ...               -0.051976   \n",
       "145668         1460.00  ...               -0.055926   \n",
       "145669         1224.75  ...                7.395888   \n",
       "145670          217.75  ...               -0.053019   \n",
       "\n",
       "        PCA_DBI_BRST_TIME_START_0  PCA_DBI_BRST_TIME_STOP_0  \\\n",
       "0                       -0.064074                 -0.065812   \n",
       "1                       -0.064072                 -0.054751   \n",
       "2                        0.001421                 -0.001593   \n",
       "3                        0.087765                  0.082880   \n",
       "4                        0.069640                  0.064562   \n",
       "...                           ...                       ...   \n",
       "145666                  -0.121832                 -0.126917   \n",
       "145667                   0.664654                  0.693341   \n",
       "145668                   0.061697                  0.057708   \n",
       "145669                   0.133354                  0.202511   \n",
       "145670                   0.331947                  0.330164   \n",
       "\n",
       "        PCA_PKT_LENGTHS_0  PCA_PKT_LENGTHS_1  PCA_BRST_DURATION_0  \\\n",
       "0                4.268334           1.059109            -0.350535   \n",
       "1                4.754931           1.463868            -0.339278   \n",
       "2                5.916514           0.031626            -0.220426   \n",
       "3                5.314518           1.307584            -0.231986   \n",
       "4                5.731270           0.654670            -0.224270   \n",
       "...                   ...                ...                  ...   \n",
       "145666          -4.735962           0.317149            -0.354766   \n",
       "145667          -3.705923          -0.276540             3.812195   \n",
       "145668          -0.316884          -0.686646            -0.275938   \n",
       "145669          -1.052144          -1.362891             8.657506   \n",
       "145670          -2.620068          -1.804238             0.039988   \n",
       "\n",
       "        PCA_BRST_DURATION_1  BRST_BYTES_0  BRST_BYTES_1  BRST_PACKETS_0  \n",
       "0                  0.042377    11684362.0           0.0          9543.0  \n",
       "1                 -0.131733    37012315.0           0.0         28446.0  \n",
       "2                 -0.042726    25835232.0     3228530.0         17863.0  \n",
       "3                  0.123182     1719683.0      864661.0          1205.0  \n",
       "4                  0.125757     1003845.0      649254.0           691.0  \n",
       "...                     ...           ...           ...             ...  \n",
       "145666             0.107806        4277.0           0.0             5.0  \n",
       "145667            -0.337360        1095.0       38442.0             3.0  \n",
       "145668            -0.017864       27211.0       40883.0            22.0  \n",
       "145669            -6.172540    25798570.0      902241.0         25933.0  \n",
       "145670            -0.093506        6111.0         864.0             9.0  \n",
       "\n",
       "[145671 rows x 36 columns]"
      ]
     },
     "execution_count": 19,
     "metadata": {},
     "output_type": "execute_result"
    }
   ],
   "source": [
    "feature_names = np.array(X_numeric.columns)\n",
    "\n",
    "# Using mutual information for feature selection\n",
    "k_best_mi = SelectKBest(score_func=mutual_info_classif, k=optimal_k)\n",
    "X_kbest_mi = k_best_mi.fit_transform(X_numeric, Y)\n",
    "\n",
    "# Create DataFrame with selected features (using mutual information classifier selection)\n",
    "X_selected = pd.DataFrame(X_kbest_mi, columns=feature_names[k_best_mi.get_support()])\n",
    "print(f\"\\nShape of selected features: {X_selected.shape}\")\n",
    "X_selected"
   ]
  },
  {
   "cell_type": "markdown",
   "id": "eb67c325",
   "metadata": {
    "papermill": {
     "duration": 0.026311,
     "end_time": "2025-03-06T13:02:36.328427",
     "exception": false,
     "start_time": "2025-03-06T13:02:36.302116",
     "status": "completed"
    },
    "tags": []
   },
   "source": [
    "# Model Training"
   ]
  },
  {
   "cell_type": "markdown",
   "id": "477ebdf9",
   "metadata": {
    "papermill": {
     "duration": 0.026038,
     "end_time": "2025-03-06T13:02:36.381787",
     "exception": false,
     "start_time": "2025-03-06T13:02:36.355749",
     "status": "completed"
    },
    "tags": []
   },
   "source": [
    "In this section, we will train different models to classify the network traffic type. We will use the following models:\n",
    "- K-Nearest Neighbors (KNN)\n",
    "- Logistic Regression\n",
    "- Support Vector Machine (SVM)\n",
    "- Random Forest\n",
    "- XGBoost\n",
    "- Neural Network\n",
    "- Ensemble Model\n",
    "\n",
    "We will evaluate the models using the accuracy score and the classification report, and determine the best model for the network traffic classification type."
   ]
  },
  {
   "cell_type": "markdown",
   "id": "eb07ef3e",
   "metadata": {
    "papermill": {
     "duration": 0.026694,
     "end_time": "2025-03-06T13:02:36.436737",
     "exception": false,
     "start_time": "2025-03-06T13:02:36.410043",
     "status": "completed"
    },
    "tags": []
   },
   "source": [
    "## Model Selection Rationale\n",
    "\n",
    "For network traffic classification, we'll evaluate several models with different strengths:\n",
    "\n",
    "1. **K-Nearest Neighbors (KNN)**:\n",
    "  - Instance-based learning that captures local patterns in traffic data\n",
    "  - Requires no training time, making it useful for rapid prototyping\n",
    "  - Intuitive approach that classifies based on similarity to known traffic samples\n",
    "  - Can adapt to new traffic patterns without retraining\n",
    "  - Performs well when traffic categories form clear clusters in feature space\n",
    "\n",
    "2. **Logistic Regression**:\n",
    "  - Provides a probabilistic framework for understanding classification confidence\n",
    "  - Offers high interpretability with coefficients directly relating to feature importance\n",
    "  - Computationally efficient for both training and inference\n",
    "  - Serves as an excellent baseline model to compare against more complex approaches\n",
    "  - Despite its simplicity, often competitive for well-engineered features in network classification\n",
    "\n",
    "3. **Support Vector Machines (SVM)**:\n",
    "  - Particularly effective in high-dimensional spaces like network traffic features\n",
    "  - Can handle non-linear classification through kernel functions\n",
    "  - Focuses on finding optimal decision boundaries between traffic classes\n",
    "  - Memory efficient as it uses only a subset of training points (support vectors)\n",
    "  - Has shown strong performance in previous network traffic studies.\n",
    "\n",
    "4. **Random Forest**:\n",
    "  - Well-suited for tabular data with mixed feature types\n",
    "  - Naturally handles non-linear relationships\n",
    "  - Provides feature importance metrics to improve interpretability\n",
    "  - Robust to outliers, which are common in network traffic data\n",
    "\n",
    "5. **XGBoost**:\n",
    "  - Gradient boosting typically achieves state-of-the-art performance on tabular data\n",
    "  - Efficiently handles imbalanced classes through weighting mechanisms\n",
    "  - Regularization parameters help prevent overfitting\n",
    "  - Optimized for both speed and performance\n",
    "\n",
    "6. **Neural Networks**:\n",
    "  - Can capture complex, non-linear patterns in the data\n",
    "  - Effective at learning hierarchical representations\n",
    "  - Adaptable architecture can be tailored to the specific problem\n",
    "  - Successfully applied to traffic classification in recent research\n",
    "\n",
    "7. **Ensemble Methods**:\n",
    "  - Combines predictions from multiple models to improve overall performance\n",
    "  - Reduces variance and bias compared to individual models\n",
    "  - Can integrate the strengths of different classification approaches\n",
    "  - Particularly valuable for network traffic where patterns may be detected differently by various algorithms\n",
    "  - Voting and stacking approaches can leverage specialized models for different traffic categories\n",
    "\n",
    "Each model offers different trade-offs between accuracy, training time, inference speed, and interpretability. We'll compare them systematically to determine which is most suitable for real-world network traffic classification applications. The inclusion of diverse modeling approaches—from tree-based methods to distance-based algorithms and neural networks—ensures we explore the full spectrum of possible solutions for this complex classification problem."
   ]
  },
  {
   "cell_type": "code",
   "execution_count": 20,
   "id": "76d92ba6",
   "metadata": {
    "ExecuteTime": {
     "end_time": "2025-03-04T16:47:20.566578Z",
     "start_time": "2025-03-04T16:47:20.535957Z"
    },
    "execution": {
     "iopub.execute_input": "2025-03-06T13:02:36.493017Z",
     "iopub.status.busy": "2025-03-06T13:02:36.492590Z",
     "iopub.status.idle": "2025-03-06T13:02:36.545120Z",
     "shell.execute_reply": "2025-03-06T13:02:36.543840Z"
    },
    "papermill": {
     "duration": 0.083861,
     "end_time": "2025-03-06T13:02:36.547205",
     "exception": false,
     "start_time": "2025-03-06T13:02:36.463344",
     "status": "completed"
    },
    "tags": []
   },
   "outputs": [
    {
     "name": "stdout",
     "output_type": "stream",
     "text": [
      "(101969, 36) (43702, 36)\n"
     ]
    }
   ],
   "source": [
    "from sklearn.model_selection import train_test_split\n",
    "from sklearn.metrics import classification_report, accuracy_score, confusion_matrix\n",
    "\n",
    "x_train, x_test, y_train, y_test = train_test_split(X_selected, Y, test_size=0.3, random_state=RANDOM_SEED)\n",
    "print(x_train.shape, x_test.shape)\n"
   ]
  },
  {
   "cell_type": "markdown",
   "id": "60d5acdd",
   "metadata": {
    "papermill": {
     "duration": 0.025704,
     "end_time": "2025-03-06T13:02:36.601754",
     "exception": false,
     "start_time": "2025-03-06T13:02:36.576050",
     "status": "completed"
    },
    "tags": []
   },
   "source": [
    "We want to ensure there is the approximate same amount of data samples in the train and test sets."
   ]
  },
  {
   "cell_type": "code",
   "execution_count": 21,
   "id": "0f66faf5",
   "metadata": {
    "ExecuteTime": {
     "end_time": "2025-03-04T16:47:20.787639Z",
     "start_time": "2025-03-04T16:47:20.598623Z"
    },
    "execution": {
     "iopub.execute_input": "2025-03-06T13:02:36.656458Z",
     "iopub.status.busy": "2025-03-06T13:02:36.656057Z",
     "iopub.status.idle": "2025-03-06T13:02:37.137519Z",
     "shell.execute_reply": "2025-03-06T13:02:37.136311Z"
    },
    "papermill": {
     "duration": 0.511974,
     "end_time": "2025-03-06T13:02:37.139373",
     "exception": false,
     "start_time": "2025-03-06T13:02:36.627399",
     "status": "completed"
    },
    "tags": []
   },
   "outputs": [
    {
     "data": {
      "image/png": "[encoded data removed]",
      "text/plain": [
       "<Figure size 1400x600 with 2 Axes>"
      ]
     },
     "metadata": {},
     "output_type": "display_data"
    }
   ],
   "source": [
    "# Create subplots\n",
    "fig, axes = plt.subplots(1, 2, figsize=(14, 6))\n",
    "\n",
    "# Plot for y_train\n",
    "ax1 = y_train.value_counts().sort_index().plot(kind=\"bar\", ax=axes[0], title=\"Number of samples per class in y_train\", xlabel=\"Class\", ylabel=\"Number of samples\")\n",
    "for p in ax1.patches:\n",
    "    ax1.annotate(str(p.get_height()), (p.get_x() * 1.005, p.get_height() * 1.005))\n",
    "\n",
    "# Plot for y_test\n",
    "ax2 = y_test.value_counts().sort_index().plot(kind=\"bar\", ax=axes[1], title=\"Number of samples per class in y_test\", xlabel=\"Class\", ylabel=\"Number of samples\")\n",
    "for p in ax2.patches:\n",
    "    ax2.annotate(str(p.get_height()), (p.get_x() * 1.005, p.get_height() * 1.005))\n",
    "\n",
    "plt.tight_layout()\n",
    "plt.show()"
   ]
  },
  {
   "cell_type": "markdown",
   "id": "aafd7373",
   "metadata": {
    "papermill": {
     "duration": 0.026992,
     "end_time": "2025-03-06T13:02:37.194162",
     "exception": false,
     "start_time": "2025-03-06T13:02:37.167170",
     "status": "completed"
    },
    "tags": []
   },
   "source": [
    "We see that the data distribution is approximately the same in the train and test sets."
   ]
  },
  {
   "cell_type": "markdown",
   "id": "044afd69",
   "metadata": {
    "papermill": {
     "duration": 0.027623,
     "end_time": "2025-03-06T13:02:37.249171",
     "exception": false,
     "start_time": "2025-03-06T13:02:37.221548",
     "status": "completed"
    },
    "tags": []
   },
   "source": [
    "## KNN"
   ]
  },
  {
   "cell_type": "code",
   "execution_count": 22,
   "id": "af5c1ead",
   "metadata": {
    "ExecuteTime": {
     "end_time": "2025-03-04T16:47:56.798572Z",
     "start_time": "2025-03-04T16:47:20.789632Z"
    },
    "execution": {
     "iopub.execute_input": "2025-03-06T13:02:37.308344Z",
     "iopub.status.busy": "2025-03-06T13:02:37.307994Z",
     "iopub.status.idle": "2025-03-06T13:06:47.980652Z",
     "shell.execute_reply": "2025-03-06T13:06:47.979528Z"
    },
    "papermill": {
     "duration": 250.705467,
     "end_time": "2025-03-06T13:06:47.982744",
     "exception": false,
     "start_time": "2025-03-06T13:02:37.277277",
     "status": "completed"
    },
    "tags": []
   },
   "outputs": [],
   "source": [
    "from sklearn.neighbors import KNeighborsClassifier\n",
    "\n",
    "# Normalize the features\n",
    "scaler = StandardScaler()\n",
    "x_train_norm = scaler.fit_transform(x_train)\n",
    "x_test_norm = scaler.transform(x_test)\n",
    "\n",
    "# Plot the accuracy for different values of k\n",
    "k_values = range(1, 21)\n",
    "accuracies = []\n",
    "\n",
    "for k in k_values:\n",
    "    knn = KNeighborsClassifier(n_neighbors=k)\n",
    "    knn.fit(x_train_norm, y_train)\n",
    "    knn_pred = knn.predict(x_test_norm)\n",
    "    accuracies.append(accuracy_score(y_test, knn_pred))"
   ]
  },
  {
   "cell_type": "code",
   "execution_count": 23,
   "id": "9d7a3d37",
   "metadata": {
    "ExecuteTime": {
     "end_time": "2025-03-04T16:47:56.957835Z",
     "start_time": "2025-03-04T16:47:56.831103Z"
    },
    "execution": {
     "iopub.execute_input": "2025-03-06T13:06:48.039868Z",
     "iopub.status.busy": "2025-03-06T13:06:48.039483Z",
     "iopub.status.idle": "2025-03-06T13:06:48.342418Z",
     "shell.execute_reply": "2025-03-06T13:06:48.341274Z"
    },
    "papermill": {
     "duration": 0.333947,
     "end_time": "2025-03-06T13:06:48.344599",
     "exception": false,
     "start_time": "2025-03-06T13:06:48.010652",
     "status": "completed"
    },
    "tags": []
   },
   "outputs": [
    {
     "data": {
      "image/png": "[encoded data removed]",
      "text/plain": [
       "<Figure size 1000x600 with 1 Axes>"
      ]
     },
     "metadata": {},
     "output_type": "display_data"
    }
   ],
   "source": [
    "plt.figure(figsize=(10, 6))\n",
    "plt.plot(k_values, accuracies, marker='o')\n",
    "plt.xlabel('Number of Neighbors (k)')\n",
    "plt.ylabel('Accuracy')\n",
    "plt.title('Accuracy vs. Number of Neighbors (k)')\n",
    "plt.xticks(k_values)  # Set x-axis ticks to integer values\n",
    "plt.grid(True)\n",
    "\n",
    "# Find the optimal k\n",
    "optimal_k = k_values[np.argmax(accuracies)]\n",
    "plt.axvline(x=optimal_k, color='r', linestyle='--', label=f'Optimal k={optimal_k}')\n",
    "plt.legend()\n",
    "plt.show()"
   ]
  },
  {
   "cell_type": "markdown",
   "id": "3d9c9371",
   "metadata": {
    "papermill": {
     "duration": 0.02804,
     "end_time": "2025-03-06T13:06:48.401881",
     "exception": false,
     "start_time": "2025-03-06T13:06:48.373841",
     "status": "completed"
    },
    "tags": []
   },
   "source": [
    "We can see that the optimal number of neighbors is 1. We will check the results to verify the model is not overfitting to the data."
   ]
  },
  {
   "cell_type": "code",
   "execution_count": 24,
   "id": "9ea6f089",
   "metadata": {
    "ExecuteTime": {
     "end_time": "2025-03-04T16:47:58.799969Z",
     "start_time": "2025-03-04T16:47:56.990359Z"
    },
    "execution": {
     "iopub.execute_input": "2025-03-06T13:06:48.462584Z",
     "iopub.status.busy": "2025-03-06T13:06:48.462251Z",
     "iopub.status.idle": "2025-03-06T13:07:01.323387Z",
     "shell.execute_reply": "2025-03-06T13:07:01.322067Z"
    },
    "papermill": {
     "duration": 12.893793,
     "end_time": "2025-03-06T13:07:01.325360",
     "exception": false,
     "start_time": "2025-03-06T13:06:48.431567",
     "status": "completed"
    },
    "tags": []
   },
   "outputs": [
    {
     "name": "stdout",
     "output_type": "stream",
     "text": [
      "Accuracy: 0.9609857672417739\n",
      "Classification Report:\n",
      "              precision    recall  f1-score   support\n",
      "\n",
      "           0       0.91      0.90      0.90      6133\n",
      "           1       0.91      0.91      0.91      3121\n",
      "           2       0.87      0.88      0.88      3251\n",
      "           3       0.93      0.93      0.93      3707\n",
      "           4       0.98      0.96      0.97      3297\n",
      "           5       1.00      1.00      1.00     24193\n",
      "\n",
      "    accuracy                           0.96     43702\n",
      "   macro avg       0.93      0.93      0.93     43702\n",
      "weighted avg       0.96      0.96      0.96     43702\n",
      "\n"
     ]
    }
   ],
   "source": [
    "# Find the max accuracy and corresponding K neighbors\n",
    "max_accuracy = max(accuracies)\n",
    "best_K = accuracies.index(max_accuracy) + 1\n",
    "\n",
    "# Train the KNN model\n",
    "knn = KNeighborsClassifier(n_neighbors=best_K)  # can adjust the number of neighbors\n",
    "knn.fit(x_train_norm, y_train)\n",
    "\n",
    "# Evaluate the model\n",
    "knn_pred = knn.predict(x_test_norm)\n",
    "knn_score = accuracy_score(y_test, knn_pred)\n",
    "knnn_report = classification_report(y_test, knn_pred)\n",
    "\n",
    "print(\"Accuracy:\", knn_score)\n",
    "print(\"Classification Report:\")\n",
    "print(knnn_report)"
   ]
  },
  {
   "cell_type": "code",
   "execution_count": 25,
   "id": "ac14dcaa",
   "metadata": {
    "ExecuteTime": {
     "end_time": "2025-03-04T16:47:59.036663Z",
     "start_time": "2025-03-04T16:47:58.832008Z"
    },
    "execution": {
     "iopub.execute_input": "2025-03-06T13:07:01.388486Z",
     "iopub.status.busy": "2025-03-06T13:07:01.388098Z",
     "iopub.status.idle": "2025-03-06T13:07:01.720315Z",
     "shell.execute_reply": "2025-03-06T13:07:01.719224Z"
    },
    "papermill": {
     "duration": 0.367656,
     "end_time": "2025-03-06T13:07:01.722278",
     "exception": false,
     "start_time": "2025-03-06T13:07:01.354622",
     "status": "completed"
    },
    "tags": []
   },
   "outputs": [
    {
     "data": {
      "image/png": "[encoded data removed]",
      "text/plain": [
       "<Figure size 1000x600 with 2 Axes>"
      ]
     },
     "metadata": {},
     "output_type": "display_data"
    }
   ],
   "source": [
    "cm = confusion_matrix(y_test, knn_pred)\n",
    "plt.figure(figsize=(10, 6))\n",
    "sns.heatmap(cm, annot=True, fmt='d', cmap='Blues')\n",
    "plt.xlabel('Predicted')\n",
    "plt.ylabel('Actual')\n",
    "plt.title('Confusion Matrix for KNN Model')\n",
    "plt.show()"
   ]
  },
  {
   "cell_type": "markdown",
   "id": "46c3d639",
   "metadata": {
    "papermill": {
     "duration": 0.029721,
     "end_time": "2025-03-06T13:07:01.782990",
     "exception": false,
     "start_time": "2025-03-06T13:07:01.753269",
     "status": "completed"
    },
    "tags": []
   },
   "source": [
    "We can see that there is a high accuracy score for the KNN model, and the confusion matrix shows that the model is not overfitting to the data. Moreover, we can see that there is some local patterns in the data due to the high accuracy score, and the nature of KNN with K=1."
   ]
  },
  {
   "cell_type": "markdown",
   "id": "a470a690",
   "metadata": {
    "papermill": {
     "duration": 0.029794,
     "end_time": "2025-03-06T13:07:01.842831",
     "exception": false,
     "start_time": "2025-03-06T13:07:01.813037",
     "status": "completed"
    },
    "tags": []
   },
   "source": [
    "## Logistic Regression"
   ]
  },
  {
   "cell_type": "markdown",
   "id": "a47b4019",
   "metadata": {
    "papermill": {
     "duration": 0.029878,
     "end_time": "2025-03-06T13:07:01.903239",
     "exception": false,
     "start_time": "2025-03-06T13:07:01.873361",
     "status": "completed"
    },
    "tags": []
   },
   "source": [
    "We will use the logistic regression model to classify the network traffic type. We will optimize the `max_iter` parameter to find the best accuracy score."
   ]
  },
  {
   "cell_type": "code",
   "execution_count": 26,
   "id": "711b8905",
   "metadata": {
    "ExecuteTime": {
     "end_time": "2025-03-04T16:47:59.113739Z",
     "start_time": "2025-03-04T16:47:59.068711Z"
    },
    "execution": {
     "iopub.execute_input": "2025-03-06T13:07:01.965669Z",
     "iopub.status.busy": "2025-03-06T13:07:01.965286Z",
     "iopub.status.idle": "2025-03-06T13:07:02.055330Z",
     "shell.execute_reply": "2025-03-06T13:07:02.054349Z"
    },
    "papermill": {
     "duration": 0.123379,
     "end_time": "2025-03-06T13:07:02.057330",
     "exception": false,
     "start_time": "2025-03-06T13:07:01.933951",
     "status": "completed"
    },
    "tags": []
   },
   "outputs": [],
   "source": [
    "scaler = StandardScaler()\n",
    "x_train_norm = scaler.fit_transform(x_train)\n",
    "x_test_norm = scaler.transform(x_test)"
   ]
  },
  {
   "cell_type": "markdown",
   "id": "d6902453",
   "metadata": {
    "papermill": {
     "duration": 0.030163,
     "end_time": "2025-03-06T13:07:02.119261",
     "exception": false,
     "start_time": "2025-03-06T13:07:02.089098",
     "status": "completed"
    },
    "tags": []
   },
   "source": [
    "# Long Runtime Cells ⏳\n",
    "\n",
    "This cell has been commented out due to its long runtime. If you want to see the complete calculations, you will need to uncomment this cell and run it.\n",
    "\n",
    "To uncomment the cell, simply remove the `#` or `\"\"\"` symbols at the beginning and end of the cells.\n",
    "\n",
    "Please be aware that uncommenting and running this cell may take a significant amount of time, depending on the complexity of the calculations and the performance of your system 🖥️."
   ]
  },
  {
   "cell_type": "code",
   "execution_count": 27,
   "id": "b44f07bc",
   "metadata": {
    "ExecuteTime": {
     "end_time": "2025-03-04T17:28:31.005512Z",
     "start_time": "2025-03-04T16:47:59.144947Z"
    },
    "execution": {
     "iopub.execute_input": "2025-03-06T13:07:02.181721Z",
     "iopub.status.busy": "2025-03-06T13:07:02.181345Z",
     "iopub.status.idle": "2025-03-06T13:07:02.185828Z",
     "shell.execute_reply": "2025-03-06T13:07:02.184715Z"
    },
    "papermill": {
     "duration": 0.038253,
     "end_time": "2025-03-06T13:07:02.187811",
     "exception": false,
     "start_time": "2025-03-06T13:07:02.149558",
     "status": "completed"
    },
    "tags": []
   },
   "outputs": [],
   "source": [
    "from sklearn.linear_model import LogisticRegression\n",
    "\n",
    "\n",
    "# max_iter = 500\n",
    "# # Initialize a list to store accuracy scores\n",
    "# accuracy_scores = []\n",
    "\n",
    "# # Loop through different max_iter values\n",
    "# for i in range(1, max_iter):\n",
    "#     lr = LogisticRegression(multi_class=\"multinomial\", n_jobs=-1, random_state=RANDOM_SEED, max_iter=i)\n",
    "#     lr.fit(x_train_norm, y_train)\n",
    "#     lr_score = lr.score(x_test_norm, y_test)\n",
    "#     accuracy_scores.append(lr_score)"
   ]
  },
  {
   "cell_type": "code",
   "execution_count": 28,
   "id": "9a5bc16b",
   "metadata": {
    "ExecuteTime": {
     "end_time": "2025-03-04T17:28:31.177118Z",
     "start_time": "2025-03-04T17:28:31.068824Z"
    },
    "execution": {
     "iopub.execute_input": "2025-03-06T13:07:02.249757Z",
     "iopub.status.busy": "2025-03-06T13:07:02.249387Z",
     "iopub.status.idle": "2025-03-06T13:07:02.254260Z",
     "shell.execute_reply": "2025-03-06T13:07:02.252979Z"
    },
    "papermill": {
     "duration": 0.038092,
     "end_time": "2025-03-06T13:07:02.256237",
     "exception": false,
     "start_time": "2025-03-06T13:07:02.218145",
     "status": "completed"
    },
    "tags": []
   },
   "outputs": [],
   "source": [
    "# # Plot the accuracy scores\n",
    "# plt.figure(figsize=(10, 6))\n",
    "# plt.plot(range(1, max_iter), accuracy_scores, label='Accuracy Score')\n",
    "# plt.xlabel('Max Iterations')\n",
    "# plt.ylabel('Accuracy')\n",
    "# plt.title('Accuracy vs. Max Iterations for Logistic Regression')\n",
    "# plt.legend()\n",
    "# plt.grid(True)\n",
    "\n",
    "# # Find the optimal max_iter\n",
    "# optimal_iter = np.argmax(accuracy_scores) + 1\n",
    "# plt.axvline(x=optimal_iter, color='r', linestyle='--', label=f'Optimal max_iter={optimal_iter}')\n",
    "# plt.legend()\n",
    "# plt.show()\n",
    "\n",
    "# print(f\"Optimal max_iter: {optimal_iter}\")\n",
    "# print(f\"Best accuracy score: {max(accuracy_scores):.4f}\")\n",
    "# # Find the max accuracy and corresponding iteration\n",
    "# max_accuracy = max(accuracy_scores)\n",
    "# best_iter = accuracy_scores.index(max_accuracy) + 1\n",
    "best_iter = 205"
   ]
  },
  {
   "cell_type": "markdown",
   "id": "7f498e65",
   "metadata": {
    "papermill": {
     "duration": 0.031687,
     "end_time": "2025-03-06T13:07:02.319609",
     "exception": false,
     "start_time": "2025-03-06T13:07:02.287922",
     "status": "completed"
    },
    "tags": []
   },
   "source": [
    "As we can see the optimal number of iteration is 205. We limited the number of iterations to 500, and we can see that the accuracy score is increasing with the number of iterations and then stay about the same. The limitation help us to keep the model from overfitting to the data."
   ]
  },
  {
   "cell_type": "code",
   "execution_count": 29,
   "id": "9a8f2c18",
   "metadata": {
    "ExecuteTime": {
     "end_time": "2025-03-04T17:28:35.352449Z",
     "start_time": "2025-03-04T17:28:31.183119Z"
    },
    "execution": {
     "iopub.execute_input": "2025-03-06T13:07:02.383206Z",
     "iopub.status.busy": "2025-03-06T13:07:02.382867Z",
     "iopub.status.idle": "2025-03-06T13:07:10.589377Z",
     "shell.execute_reply": "2025-03-06T13:07:10.587763Z"
    },
    "papermill": {
     "duration": 8.240643,
     "end_time": "2025-03-06T13:07:10.591373",
     "exception": false,
     "start_time": "2025-03-06T13:07:02.350730",
     "status": "completed"
    },
    "tags": []
   },
   "outputs": [
    {
     "name": "stdout",
     "output_type": "stream",
     "text": [
      "Classification report for test set\n",
      "              precision    recall  f1-score   support\n",
      "\n",
      "           0       0.64      0.75      0.69      6133\n",
      "           1       0.59      0.62      0.60      3121\n",
      "           2       0.64      0.41      0.50      3251\n",
      "           3       0.83      0.78      0.81      3707\n",
      "           4       0.99      0.99      0.99      3297\n",
      "           5       0.99      1.00      0.99     24193\n",
      "\n",
      "    accuracy                           0.87     43702\n",
      "   macro avg       0.78      0.76      0.76     43702\n",
      "weighted avg       0.87      0.87      0.87     43702\n",
      "\n"
     ]
    }
   ],
   "source": [
    "# Train the model with the best iteration\n",
    "lr = LogisticRegression(multi_class=\"multinomial\", n_jobs=-1, random_state=RANDOM_SEED, max_iter=best_iter)\n",
    "lr.fit(x_train_norm, y_train)\n",
    "lr_score = lr.score(x_test_norm, y_test)\n",
    "lr_pred = lr.predict(x_test_norm)\n",
    "print(\"Classification report for test set\")\n",
    "print(classification_report(y_test, lr_pred))"
   ]
  },
  {
   "cell_type": "code",
   "execution_count": 30,
   "id": "3fba9148",
   "metadata": {
    "ExecuteTime": {
     "end_time": "2025-03-04T17:28:35.507405Z",
     "start_time": "2025-03-04T17:28:35.384038Z"
    },
    "execution": {
     "iopub.execute_input": "2025-03-06T13:07:10.654300Z",
     "iopub.status.busy": "2025-03-06T13:07:10.653869Z",
     "iopub.status.idle": "2025-03-06T13:07:11.011758Z",
     "shell.execute_reply": "2025-03-06T13:07:11.010394Z"
    },
    "papermill": {
     "duration": 0.391516,
     "end_time": "2025-03-06T13:07:11.013632",
     "exception": false,
     "start_time": "2025-03-06T13:07:10.622116",
     "status": "completed"
    },
    "tags": []
   },
   "outputs": [
    {
     "data": {
      "image/png": "[encoded data removed]",
      "text/plain": [
       "<Figure size 1000x600 with 2 Axes>"
      ]
     },
     "metadata": {},
     "output_type": "display_data"
    }
   ],
   "source": [
    "cm = confusion_matrix(y_test, lr_pred)\n",
    "plt.figure(figsize=(10, 6))\n",
    "sns.heatmap(cm, annot=True, fmt='d', cmap='Blues')\n",
    "plt.xlabel('Predicted')\n",
    "plt.ylabel('Actual')\n",
    "plt.title('Confusion Matrix for Logistic Regression Model')\n",
    "plt.show()"
   ]
  },
  {
   "cell_type": "markdown",
   "id": "3b4c5824",
   "metadata": {
    "papermill": {
     "duration": 0.034376,
     "end_time": "2025-03-06T13:07:11.081935",
     "exception": false,
     "start_time": "2025-03-06T13:07:11.047559",
     "status": "completed"
    },
    "tags": []
   },
   "source": [
    "We see that we get low results for the logistic regression model, and the confusion matrix shows that the model is not overfitting to the data, that's can tell us that the data has no linear patterns, that cause this model to get low results compare to the other models."
   ]
  },
  {
   "cell_type": "markdown",
   "id": "d282480c",
   "metadata": {
    "papermill": {
     "duration": 0.032196,
     "end_time": "2025-03-06T13:07:11.147082",
     "exception": false,
     "start_time": "2025-03-06T13:07:11.114886",
     "status": "completed"
    },
    "tags": []
   },
   "source": [
    "## Support Vector Machine"
   ]
  },
  {
   "cell_type": "code",
   "execution_count": 31,
   "id": "0f4357a5",
   "metadata": {
    "ExecuteTime": {
     "end_time": "2025-03-04T17:30:46.654484Z",
     "start_time": "2025-03-04T17:28:35.539930Z"
    },
    "execution": {
     "iopub.execute_input": "2025-03-06T13:07:11.211662Z",
     "iopub.status.busy": "2025-03-06T13:07:11.211329Z",
     "iopub.status.idle": "2025-03-06T13:13:22.340727Z",
     "shell.execute_reply": "2025-03-06T13:13:22.339622Z"
    },
    "papermill": {
     "duration": 371.195684,
     "end_time": "2025-03-06T13:13:22.374350",
     "exception": false,
     "start_time": "2025-03-06T13:07:11.178666",
     "status": "completed"
    },
    "tags": []
   },
   "outputs": [
    {
     "name": "stdout",
     "output_type": "stream",
     "text": [
      "ACCURACY: 0.899180815523317\n",
      "Classification report for test set\n",
      "              precision    recall  f1-score   support\n",
      "\n",
      "           0       0.71      0.81      0.76      6133\n",
      "           1       0.66      0.75      0.70      3121\n",
      "           2       0.81      0.39      0.53      3251\n",
      "           3       0.87      0.89      0.88      3707\n",
      "           4       1.00      0.98      0.99      3297\n",
      "           5       0.99      1.00      0.99     24193\n",
      "\n",
      "    accuracy                           0.90     43702\n",
      "   macro avg       0.84      0.80      0.81     43702\n",
      "weighted avg       0.90      0.90      0.89     43702\n",
      "\n"
     ]
    }
   ],
   "source": [
    "from sklearn.svm import SVC\n",
    "\n",
    "svc = SVC(random_state=RANDOM_SEED)\n",
    "svc.fit(x_train_norm, y_train)\n",
    "svc_score = svc.score(x_test_norm, y_test)\n",
    "svc_pred = svc.predict(x_test_norm)\n",
    "print(\"ACCURACY:\", svc_score)\n",
    "print(\"Classification report for test set\")\n",
    "print(classification_report(y_test, svc_pred))"
   ]
  },
  {
   "cell_type": "code",
   "execution_count": 32,
   "id": "43a6d618",
   "metadata": {
    "ExecuteTime": {
     "end_time": "2025-03-04T17:30:46.840037Z",
     "start_time": "2025-03-04T17:30:46.715704Z"
    },
    "execution": {
     "iopub.execute_input": "2025-03-06T13:13:22.439411Z",
     "iopub.status.busy": "2025-03-06T13:13:22.439058Z",
     "iopub.status.idle": "2025-03-06T13:13:22.902920Z",
     "shell.execute_reply": "2025-03-06T13:13:22.901795Z"
    },
    "papermill": {
     "duration": 0.499083,
     "end_time": "2025-03-06T13:13:22.904939",
     "exception": false,
     "start_time": "2025-03-06T13:13:22.405856",
     "status": "completed"
    },
    "tags": []
   },
   "outputs": [
    {
     "data": {
      "image/png": "[encoded data removed]",
      "text/plain": [
       "<Figure size 1000x600 with 2 Axes>"
      ]
     },
     "metadata": {},
     "output_type": "display_data"
    }
   ],
   "source": [
    "cm = confusion_matrix(y_test, svc_pred)\n",
    "plt.figure(figsize=(10, 6))\n",
    "sns.heatmap(cm, annot=True, fmt='d', cmap='Blues')\n",
    "plt.xlabel('Predicted')\n",
    "plt.ylabel('Actual')\n",
    "plt.title('Confusion Matrix for Support Vector Machine Model')\n",
    "plt.show()"
   ]
  },
  {
   "cell_type": "markdown",
   "id": "29922023",
   "metadata": {
    "papermill": {
     "duration": 0.032845,
     "end_time": "2025-03-06T13:13:22.971812",
     "exception": false,
     "start_time": "2025-03-06T13:13:22.938967",
     "status": "completed"
    },
    "tags": []
   },
   "source": [
    "We can see that the SVM model has also low results, and the confusion matrix shows that the model is not overfitting to the data, that's also can tell us that the data has no linear patterns, that cause this model to get low results compare to the other models."
   ]
  },
  {
   "cell_type": "markdown",
   "id": "b08ede6b",
   "metadata": {
    "papermill": {
     "duration": 0.03291,
     "end_time": "2025-03-06T13:13:23.038102",
     "exception": false,
     "start_time": "2025-03-06T13:13:23.005192",
     "status": "completed"
    },
    "tags": []
   },
   "source": [
    "## Random Forest"
   ]
  },
  {
   "cell_type": "markdown",
   "id": "3842bda9",
   "metadata": {
    "papermill": {
     "duration": 0.032513,
     "end_time": "2025-03-06T13:13:23.104705",
     "exception": false,
     "start_time": "2025-03-06T13:13:23.072192",
     "status": "completed"
    },
    "tags": []
   },
   "source": [
    "We will use the Random Forest model to classify the network traffic type. We will optimize the `max_depth` parameter to find the best accuracy score."
   ]
  },
  {
   "cell_type": "markdown",
   "id": "f158b7b5",
   "metadata": {
    "papermill": {
     "duration": 0.033271,
     "end_time": "2025-03-06T13:13:23.170668",
     "exception": false,
     "start_time": "2025-03-06T13:13:23.137397",
     "status": "completed"
    },
    "tags": []
   },
   "source": [
    "# Long Runtime Cells ⏳\n",
    "\n",
    "This cell has been commented out due to its long runtime. If you want to see the complete calculations, you will need to uncomment this cell and run it.\n",
    "\n",
    "To uncomment the cell, simply remove the `#` or `\"\"\"` symbols at the beginning and end of the cells.\n",
    "\n",
    "Please be aware that uncommenting and running this cell may take a significant amount of time, depending on the complexity of the calculations and the performance of your system 🖥️."
   ]
  },
  {
   "cell_type": "code",
   "execution_count": 33,
   "id": "70b9aea7",
   "metadata": {
    "ExecuteTime": {
     "end_time": "2025-03-04T17:36:20.647366Z",
     "start_time": "2025-03-04T17:30:46.842038Z"
    },
    "execution": {
     "iopub.execute_input": "2025-03-06T13:13:23.242023Z",
     "iopub.status.busy": "2025-03-06T13:13:23.241633Z",
     "iopub.status.idle": "2025-03-06T13:13:23.245459Z",
     "shell.execute_reply": "2025-03-06T13:13:23.244368Z"
    },
    "papermill": {
     "duration": 0.039977,
     "end_time": "2025-03-06T13:13:23.247190",
     "exception": false,
     "start_time": "2025-03-06T13:13:23.207213",
     "status": "completed"
    },
    "tags": []
   },
   "outputs": [],
   "source": [
    "# from sklearn.ensemble import RandomForestClassifier\n",
    "\n",
    "# # Define the range of max_depth values to test\n",
    "# max_depth_range = range(1, 40)\n",
    "# mean_scores = []\n",
    "# std_scores = []\n",
    "\n",
    "# # Loop through each max_depth value\n",
    "# for depth in max_depth_range:\n",
    "#     rfc = RandomForestClassifier(max_depth=depth, n_jobs=-1, random_state=RANDOM_SEED)\n",
    "#     scores = cross_val_score(rfc, x_train, y_train, cv=5, scoring='accuracy')\n",
    "#     mean_scores.append(scores.mean())\n",
    "#     std_scores.append(scores.std())"
   ]
  },
  {
   "cell_type": "code",
   "execution_count": 34,
   "id": "b173611e",
   "metadata": {
    "ExecuteTime": {
     "end_time": "2025-03-04T18:52:01.568304Z",
     "start_time": "2025-03-04T18:52:01.458710Z"
    },
    "execution": {
     "iopub.execute_input": "2025-03-06T13:13:23.314808Z",
     "iopub.status.busy": "2025-03-06T13:13:23.314409Z",
     "iopub.status.idle": "2025-03-06T13:13:23.318666Z",
     "shell.execute_reply": "2025-03-06T13:13:23.317646Z"
    },
    "papermill": {
     "duration": 0.039606,
     "end_time": "2025-03-06T13:13:23.320371",
     "exception": false,
     "start_time": "2025-03-06T13:13:23.280765",
     "status": "completed"
    },
    "tags": []
   },
   "outputs": [],
   "source": [
    "# # Plot the results\n",
    "# plt.figure(figsize=(10, 6))\n",
    "# plt.plot(max_depth_range, mean_scores, 'b-', label='Mean CV Score')\n",
    "# plt.fill_between(max_depth_range,\n",
    "#                  np.array(mean_scores) - np.array(std_scores),\n",
    "#                  np.array(mean_scores) + np.array(std_scores),\n",
    "#                  alpha=0.2)\n",
    "# plt.xlabel('Max Depth')\n",
    "# plt.ylabel('Cross-Validation Accuracy')\n",
    "# plt.title('Random Forest Performance vs Max Depth')\n",
    "# plt.grid(True)\n",
    "# plt.legend()\n",
    "\n",
    "# # Find the optimal max_depth\n",
    "# optimal_depth = max_depth_range[np.argmax(mean_scores)]\n",
    "# plt.axvline(x=optimal_depth, color='r', linestyle='--', label=f'Optimal max_depth={optimal_depth}')\n",
    "# plt.legend()\n",
    "# plt.show()\n",
    "\n",
    "\n",
    "# print(f\"Optimal max_depth: {optimal_depth}\")\n",
    "# print(f\"Best cross-validation score: {max(mean_scores):.4f}\")\n",
    "optimal_depth=30"
   ]
  },
  {
   "cell_type": "code",
   "execution_count": 35,
   "id": "93068d78",
   "metadata": {
    "ExecuteTime": {
     "end_time": "2025-03-04T17:36:23.716035Z",
     "start_time": "2025-03-04T17:36:20.908212Z"
    },
    "execution": {
     "iopub.execute_input": "2025-03-06T13:13:23.389082Z",
     "iopub.status.busy": "2025-03-06T13:13:23.388631Z",
     "iopub.status.idle": "2025-03-06T13:13:39.767220Z",
     "shell.execute_reply": "2025-03-06T13:13:39.765907Z"
    },
    "papermill": {
     "duration": 16.415783,
     "end_time": "2025-03-06T13:13:39.768933",
     "exception": false,
     "start_time": "2025-03-06T13:13:23.353150",
     "status": "completed"
    },
    "tags": []
   },
   "outputs": [
    {
     "name": "stdout",
     "output_type": "stream",
     "text": [
      "ACCURACY: 0.9919912132167864\n",
      "Classification report for test set\n",
      "              precision    recall  f1-score   support\n",
      "\n",
      "           0       0.98      0.99      0.98      6133\n",
      "           1       0.98      0.96      0.97      3121\n",
      "           2       0.99      0.97      0.98      3251\n",
      "           3       0.98      0.99      0.98      3707\n",
      "           4       1.00      1.00      1.00      3297\n",
      "           5       1.00      1.00      1.00     24193\n",
      "\n",
      "    accuracy                           0.99     43702\n",
      "   macro avg       0.99      0.98      0.99     43702\n",
      "weighted avg       0.99      0.99      0.99     43702\n",
      "\n"
     ]
    }
   ],
   "source": [
    "# Train the final model with the optimal max_depth\n",
    "rfc = RandomForestClassifier(max_depth=optimal_depth, n_jobs=-1, random_state=RANDOM_SEED)\n",
    "rfc.fit(x_train, y_train)\n",
    "rfc_score = rfc.score(x_test, y_test)\n",
    "rfc_pred = rfc.predict(x_test)\n",
    "print(\"ACCURACY:\", rfc_score)\n",
    "print(\"Classification report for test set\")\n",
    "print(classification_report(y_test, rfc.predict(x_test)))"
   ]
  },
  {
   "cell_type": "code",
   "execution_count": 36,
   "id": "c157d0be",
   "metadata": {
    "ExecuteTime": {
     "end_time": "2025-03-04T17:36:23.870961Z",
     "start_time": "2025-03-04T17:36:23.748558Z"
    },
    "execution": {
     "iopub.execute_input": "2025-03-06T13:13:39.839144Z",
     "iopub.status.busy": "2025-03-06T13:13:39.838150Z",
     "iopub.status.idle": "2025-03-06T13:13:40.172146Z",
     "shell.execute_reply": "2025-03-06T13:13:40.170827Z"
    },
    "papermill": {
     "duration": 0.370757,
     "end_time": "2025-03-06T13:13:40.173983",
     "exception": false,
     "start_time": "2025-03-06T13:13:39.803226",
     "status": "completed"
    },
    "tags": []
   },
   "outputs": [
    {
     "data": {
      "image/png": "[encoded data removed]",
      "text/plain": [
       "<Figure size 1000x600 with 2 Axes>"
      ]
     },
     "metadata": {},
     "output_type": "display_data"
    }
   ],
   "source": [
    "cm = confusion_matrix(y_test, rfc_pred)\n",
    "plt.figure(figsize=(10, 6))\n",
    "sns.heatmap(cm, annot=True, fmt='d', cmap='Blues')\n",
    "plt.xlabel('Predicted')\n",
    "plt.ylabel('Actual')\n",
    "plt.title('Confusion Matrix for Random Forest Model')\n",
    "plt.show()"
   ]
  },
  {
   "cell_type": "markdown",
   "id": "0ce9656d",
   "metadata": {
    "papermill": {
     "duration": 0.034464,
     "end_time": "2025-03-06T13:13:40.242915",
     "exception": false,
     "start_time": "2025-03-06T13:13:40.208451",
     "status": "completed"
    },
    "tags": []
   },
   "source": [
    "Random forest get very high score as we see, that's due to the nature of Random forest that can handle well with tabular data and robust to outliers."
   ]
  },
  {
   "cell_type": "markdown",
   "id": "386b2049",
   "metadata": {
    "papermill": {
     "duration": 0.035303,
     "end_time": "2025-03-06T13:13:40.312657",
     "exception": false,
     "start_time": "2025-03-06T13:13:40.277354",
     "status": "completed"
    },
    "tags": []
   },
   "source": [
    "## XGBoost"
   ]
  },
  {
   "cell_type": "code",
   "execution_count": 37,
   "id": "6ec720b9",
   "metadata": {
    "ExecuteTime": {
     "end_time": "2025-03-04T17:36:28.640682Z",
     "start_time": "2025-03-04T17:36:23.902981Z"
    },
    "execution": {
     "iopub.execute_input": "2025-03-06T13:13:40.383647Z",
     "iopub.status.busy": "2025-03-06T13:13:40.383253Z",
     "iopub.status.idle": "2025-03-06T13:14:03.725107Z",
     "shell.execute_reply": "2025-03-06T13:14:03.723790Z"
    },
    "papermill": {
     "duration": 23.379533,
     "end_time": "2025-03-06T13:14:03.727112",
     "exception": false,
     "start_time": "2025-03-06T13:13:40.347579",
     "status": "completed"
    },
    "tags": []
   },
   "outputs": [
    {
     "name": "stdout",
     "output_type": "stream",
     "text": [
      "ACCURACY: 0.9962015468399615\n",
      "Classification report for test set\n",
      "              precision    recall  f1-score   support\n",
      "\n",
      "           0       0.99      0.99      0.99      6133\n",
      "           1       0.99      0.98      0.99      3121\n",
      "           2       0.99      0.98      0.99      3251\n",
      "           3       0.99      1.00      0.99      3707\n",
      "           4       1.00      1.00      1.00      3297\n",
      "           5       1.00      1.00      1.00     24193\n",
      "\n",
      "    accuracy                           1.00     43702\n",
      "   macro avg       0.99      0.99      0.99     43702\n",
      "weighted avg       1.00      1.00      1.00     43702\n",
      "\n"
     ]
    }
   ],
   "source": [
    "from xgboost import XGBClassifier\n",
    "\n",
    "xgb = XGBClassifier(objective=\"multi:softmax\", n_estimators=300, max_depth=10)\n",
    "xgb.fit(x_train, y_train)\n",
    "xgb_score = xgb.score(x_test, y_test)\n",
    "xgb_pred = xgb.predict(x_test)\n",
    "print(\"ACCURACY:\", xgb_score)\n",
    "print(\"Classification report for test set\")\n",
    "print(classification_report(y_test, xgb_pred))"
   ]
  },
  {
   "cell_type": "code",
   "execution_count": 38,
   "id": "ba59e642",
   "metadata": {
    "ExecuteTime": {
     "end_time": "2025-03-04T17:36:28.828085Z",
     "start_time": "2025-03-04T17:36:28.688724Z"
    },
    "execution": {
     "iopub.execute_input": "2025-03-06T13:14:03.797533Z",
     "iopub.status.busy": "2025-03-06T13:14:03.797190Z",
     "iopub.status.idle": "2025-03-06T13:14:04.113260Z",
     "shell.execute_reply": "2025-03-06T13:14:04.112127Z"
    },
    "papermill": {
     "duration": 0.353275,
     "end_time": "2025-03-06T13:14:04.115170",
     "exception": false,
     "start_time": "2025-03-06T13:14:03.761895",
     "status": "completed"
    },
    "tags": []
   },
   "outputs": [
    {
     "data": {
      "image/png": "[encoded data removed]",
      "text/plain": [
       "<Figure size 1000x600 with 2 Axes>"
      ]
     },
     "metadata": {},
     "output_type": "display_data"
    }
   ],
   "source": [
    "cm = confusion_matrix(y_test, xgb_pred)\n",
    "plt.figure(figsize=(10, 6))\n",
    "sns.heatmap(cm, annot=True, fmt='d', cmap='Blues')\n",
    "plt.xlabel('Predicted')\n",
    "plt.ylabel('Actual')\n",
    "plt.title('Confusion Matrix for XGBoost Model')\n",
    "plt.show()"
   ]
  },
  {
   "cell_type": "markdown",
   "id": "71b89e1c",
   "metadata": {
    "papermill": {
     "duration": 0.034435,
     "end_time": "2025-03-06T13:14:04.185135",
     "exception": false,
     "start_time": "2025-03-06T13:14:04.150700",
     "status": "completed"
    },
    "tags": []
   },
   "source": [
    "XGBoost is the most powerful models for tabular data, and we see that he really get the highest score so far for the data, with score of 99.62% accuracy."
   ]
  },
  {
   "cell_type": "markdown",
   "id": "46dd4a35",
   "metadata": {
    "papermill": {
     "duration": 0.034997,
     "end_time": "2025-03-06T13:14:04.255909",
     "exception": false,
     "start_time": "2025-03-06T13:14:04.220912",
     "status": "completed"
    },
    "tags": []
   },
   "source": [
    "## Neural Network\n"
   ]
  },
  {
   "cell_type": "code",
   "execution_count": 39,
   "id": "cc737089",
   "metadata": {
    "ExecuteTime": {
     "end_time": "2025-03-04T17:36:30.559132Z",
     "start_time": "2025-03-04T17:36:28.860120Z"
    },
    "execution": {
     "iopub.execute_input": "2025-03-06T13:14:04.328860Z",
     "iopub.status.busy": "2025-03-06T13:14:04.328454Z",
     "iopub.status.idle": "2025-03-06T13:14:20.850963Z",
     "shell.execute_reply": "2025-03-06T13:14:20.849798Z"
    },
    "papermill": {
     "duration": 16.561832,
     "end_time": "2025-03-06T13:14:20.852885",
     "exception": false,
     "start_time": "2025-03-06T13:14:04.291053",
     "status": "completed"
    },
    "tags": []
   },
   "outputs": [],
   "source": [
    "import tensorflow as tf\n",
    "from tensorflow.keras import Sequential\n",
    "from tensorflow.keras.layers import Dense\n",
    "tf.keras.utils.set_random_seed(RANDOM_SEED)"
   ]
  },
  {
   "cell_type": "markdown",
   "id": "e5b420dc",
   "metadata": {
    "papermill": {
     "duration": 0.034234,
     "end_time": "2025-03-06T13:14:20.923257",
     "exception": false,
     "start_time": "2025-03-06T13:14:20.889023",
     "status": "completed"
    },
    "tags": []
   },
   "source": [
    "We will use the neural network model to classify the network traffic type. We will optimize the number of epochs to find the best accuracy score."
   ]
  },
  {
   "cell_type": "markdown",
   "id": "67f98833",
   "metadata": {
    "papermill": {
     "duration": 0.034675,
     "end_time": "2025-03-06T13:14:20.993602",
     "exception": false,
     "start_time": "2025-03-06T13:14:20.958927",
     "status": "completed"
    },
    "tags": []
   },
   "source": [
    "# Long Runtime Cells ⏳\n",
    "\n",
    "This cell has been commented out due to its long runtime. If you want to see the complete calculations, you will need to uncomment this cell and run it.\n",
    "\n",
    "To uncomment the cell, simply remove the `#` or `\"\"\"` symbols at the beginning and end of the cells.\n",
    "\n",
    "Please be aware that uncommenting and running this cell may take a significant amount of time, depending on the complexity of the calculations and the performance of your system 🖥️."
   ]
  },
  {
   "cell_type": "code",
   "execution_count": 40,
   "id": "58b7838a",
   "metadata": {
    "ExecuteTime": {
     "end_time": "2025-03-04T18:28:27.078885Z",
     "start_time": "2025-03-04T17:36:30.591706Z"
    },
    "execution": {
     "iopub.execute_input": "2025-03-06T13:14:21.065241Z",
     "iopub.status.busy": "2025-03-06T13:14:21.064545Z",
     "iopub.status.idle": "2025-03-06T13:14:21.069127Z",
     "shell.execute_reply": "2025-03-06T13:14:21.068060Z"
    },
    "papermill": {
     "duration": 0.042191,
     "end_time": "2025-03-06T13:14:21.070826",
     "exception": false,
     "start_time": "2025-03-06T13:14:21.028635",
     "status": "completed"
    },
    "tags": []
   },
   "outputs": [],
   "source": [
    "# # Define the model\n",
    "# def create_model():\n",
    "#     model = Sequential([\n",
    "#         Dense(256, activation='relu', input_shape=(x_train_norm.shape[1],)),\n",
    "#         Dense(64, activation='relu'),\n",
    "#         Dense(16, activation='relu'),\n",
    "#         Dense(6, activation='softmax'),\n",
    "#     ])\n",
    "#     model.compile(loss=\"sparse_categorical_crossentropy\", optimizer='adam', metrics=['accuracy'])\n",
    "#     return model\n",
    "\n",
    "\n",
    "# # Variables to store results\n",
    "# max_epoch = 50\n",
    "# accuracies = []\n",
    "\n",
    "# # Train the model for each epoch and store the accuracy\n",
    "# for epoch in range(1, max_epoch + 1):\n",
    "#     model = create_model()\n",
    "#     history = model.fit(x_train_norm, y_train, validation_data=(x_test_norm, y_test), epochs=epoch, verbose=0)\n",
    "#     accuracies.append(history.history['val_accuracy'][-1])"
   ]
  },
  {
   "cell_type": "code",
   "execution_count": 41,
   "id": "43a06fb8",
   "metadata": {
    "execution": {
     "iopub.execute_input": "2025-03-06T13:14:21.143501Z",
     "iopub.status.busy": "2025-03-06T13:14:21.143089Z",
     "iopub.status.idle": "2025-03-06T13:14:21.147532Z",
     "shell.execute_reply": "2025-03-06T13:14:21.146430Z"
    },
    "papermill": {
     "duration": 0.043433,
     "end_time": "2025-03-06T13:14:21.149350",
     "exception": false,
     "start_time": "2025-03-06T13:14:21.105917",
     "status": "completed"
    },
    "tags": []
   },
   "outputs": [],
   "source": [
    "# # Plot the accuracies\n",
    "# plt.plot(range(1, max_epoch + 1), accuracies)\n",
    "# plt.xlabel('Epochs')\n",
    "# plt.ylabel('Validation Accuracy')\n",
    "# plt.title('Validation Accuracy vs. Epochs')\n",
    "# plt.grid(True)\n",
    "\n",
    "# # Find the optimal epoch\n",
    "# best_epoch = np.argmax(accuracies) + 1\n",
    "# plt.axvline(x=best_epoch, color='r', linestyle='--', label=f'Optimal epoch={best_epoch}')\n",
    "# plt.legend()\n",
    "# plt.show()\n",
    "\n",
    "# print(f'Best epoch: {best_epoch}\\n')\n",
    "best_epoch = 47"
   ]
  },
  {
   "cell_type": "markdown",
   "id": "90d9b444",
   "metadata": {
    "papermill": {
     "duration": 0.034698,
     "end_time": "2025-03-06T13:14:21.219164",
     "exception": false,
     "start_time": "2025-03-06T13:14:21.184466",
     "status": "completed"
    },
    "tags": []
   },
   "source": [
    "We can see that the optimal number of epochs is 47, and we can see that the accuracy score is gets ups and downs but generally increasing with the number of epochs. The limitation helps us to keep the model from overfitting to the data, and preserve low runtime of the model."
   ]
  },
  {
   "cell_type": "code",
   "execution_count": 42,
   "id": "20958e66",
   "metadata": {
    "ExecuteTime": {
     "end_time": "2025-03-04T18:30:30.765729Z",
     "start_time": "2025-03-04T18:28:27.237847Z"
    },
    "execution": {
     "iopub.execute_input": "2025-03-06T13:14:21.291414Z",
     "iopub.status.busy": "2025-03-06T13:14:21.290990Z",
     "iopub.status.idle": "2025-03-06T13:19:50.784477Z",
     "shell.execute_reply": "2025-03-06T13:19:50.783278Z"
    },
    "papermill": {
     "duration": 329.532022,
     "end_time": "2025-03-06T13:19:50.786616",
     "exception": false,
     "start_time": "2025-03-06T13:14:21.254594",
     "status": "completed"
    },
    "tags": []
   },
   "outputs": [
    {
     "name": "stdout",
     "output_type": "stream",
     "text": [
      "Epoch 1/47\n",
      "\u001b[1m3187/3187\u001b[0m \u001b[32m━━━━━━━━━━━━━━━━━━━━\u001b[0m\u001b[37m\u001b[0m \u001b[1m9s\u001b[0m 2ms/step - accuracy: 0.8419 - loss: 0.4277 - val_accuracy: 0.8957 - val_loss: 0.2591\n",
      "Epoch 2/47\n",
      "\u001b[1m3187/3187\u001b[0m \u001b[32m━━━━━━━━━━━━━━━━━━━━\u001b[0m\u001b[37m\u001b[0m \u001b[1m7s\u001b[0m 2ms/step - accuracy: 0.9097 - loss: 0.2313 - val_accuracy: 0.9142 - val_loss: 0.2211\n",
      "Epoch 3/47\n",
      "\u001b[1m3187/3187\u001b[0m \u001b[32m━━━━━━━━━━━━━━━━━━━━\u001b[0m\u001b[37m\u001b[0m \u001b[1m7s\u001b[0m 2ms/step - accuracy: 0.9252 - loss: 0.1959 - val_accuracy: 0.9256 - val_loss: 0.1949\n",
      "Epoch 4/47\n",
      "\u001b[1m3187/3187\u001b[0m \u001b[32m━━━━━━━━━━━━━━━━━━━━\u001b[0m\u001b[37m\u001b[0m \u001b[1m6s\u001b[0m 2ms/step - accuracy: 0.9333 - loss: 0.1772 - val_accuracy: 0.9281 - val_loss: 0.1880\n",
      "Epoch 5/47\n",
      "\u001b[1m3187/3187\u001b[0m \u001b[32m━━━━━━━━━━━━━━━━━━━━\u001b[0m\u001b[37m\u001b[0m \u001b[1m7s\u001b[0m 2ms/step - accuracy: 0.9386 - loss: 0.1657 - val_accuracy: 0.9357 - val_loss: 0.1710\n",
      "Epoch 6/47\n",
      "\u001b[1m3187/3187\u001b[0m \u001b[32m━━━━━━━━━━━━━━━━━━━━\u001b[0m\u001b[37m\u001b[0m \u001b[1m8s\u001b[0m 2ms/step - accuracy: 0.9419 - loss: 0.1567 - val_accuracy: 0.9366 - val_loss: 0.1686\n",
      "Epoch 7/47\n",
      "\u001b[1m3187/3187\u001b[0m \u001b[32m━━━━━━━━━━━━━━━━━━━━\u001b[0m\u001b[37m\u001b[0m \u001b[1m7s\u001b[0m 2ms/step - accuracy: 0.9446 - loss: 0.1503 - val_accuracy: 0.9416 - val_loss: 0.1633\n",
      "Epoch 8/47\n",
      "\u001b[1m3187/3187\u001b[0m \u001b[32m━━━━━━━━━━━━━━━━━━━━\u001b[0m\u001b[37m\u001b[0m \u001b[1m7s\u001b[0m 2ms/step - accuracy: 0.9465 - loss: 0.1440 - val_accuracy: 0.9442 - val_loss: 0.1546\n",
      "Epoch 9/47\n",
      "\u001b[1m3187/3187\u001b[0m \u001b[32m━━━━━━━━━━━━━━━━━━━━\u001b[0m\u001b[37m\u001b[0m \u001b[1m6s\u001b[0m 2ms/step - accuracy: 0.9490 - loss: 0.1387 - val_accuracy: 0.9459 - val_loss: 0.1525\n",
      "Epoch 10/47\n",
      "\u001b[1m3187/3187\u001b[0m \u001b[32m━━━━━━━━━━━━━━━━━━━━\u001b[0m\u001b[37m\u001b[0m \u001b[1m7s\u001b[0m 2ms/step - accuracy: 0.9514 - loss: 0.1336 - val_accuracy: 0.9453 - val_loss: 0.1506\n",
      "Epoch 11/47\n",
      "\u001b[1m3187/3187\u001b[0m \u001b[32m━━━━━━━━━━━━━━━━━━━━\u001b[0m\u001b[37m\u001b[0m \u001b[1m7s\u001b[0m 2ms/step - accuracy: 0.9525 - loss: 0.1292 - val_accuracy: 0.9470 - val_loss: 0.1460\n",
      "Epoch 12/47\n",
      "\u001b[1m3187/3187\u001b[0m \u001b[32m━━━━━━━━━━━━━━━━━━━━\u001b[0m\u001b[37m\u001b[0m \u001b[1m7s\u001b[0m 2ms/step - accuracy: 0.9540 - loss: 0.1248 - val_accuracy: 0.9506 - val_loss: 0.1418\n",
      "Epoch 13/47\n",
      "\u001b[1m3187/3187\u001b[0m \u001b[32m━━━━━━━━━━━━━━━━━━━━\u001b[0m\u001b[37m\u001b[0m \u001b[1m7s\u001b[0m 2ms/step - accuracy: 0.9550 - loss: 0.1220 - val_accuracy: 0.9483 - val_loss: 0.1500\n",
      "Epoch 14/47\n",
      "\u001b[1m3187/3187\u001b[0m \u001b[32m━━━━━━━━━━━━━━━━━━━━\u001b[0m\u001b[37m\u001b[0m \u001b[1m7s\u001b[0m 2ms/step - accuracy: 0.9563 - loss: 0.1183 - val_accuracy: 0.9508 - val_loss: 0.1386\n",
      "Epoch 15/47\n",
      "\u001b[1m3187/3187\u001b[0m \u001b[32m━━━━━━━━━━━━━━━━━━━━\u001b[0m\u001b[37m\u001b[0m \u001b[1m7s\u001b[0m 2ms/step - accuracy: 0.9567 - loss: 0.1169 - val_accuracy: 0.9520 - val_loss: 0.1401\n",
      "Epoch 16/47\n",
      "\u001b[1m3187/3187\u001b[0m \u001b[32m━━━━━━━━━━━━━━━━━━━━\u001b[0m\u001b[37m\u001b[0m \u001b[1m7s\u001b[0m 2ms/step - accuracy: 0.9584 - loss: 0.1135 - val_accuracy: 0.9501 - val_loss: 0.1457\n",
      "Epoch 17/47\n",
      "\u001b[1m3187/3187\u001b[0m \u001b[32m━━━━━━━━━━━━━━━━━━━━\u001b[0m\u001b[37m\u001b[0m \u001b[1m7s\u001b[0m 2ms/step - accuracy: 0.9590 - loss: 0.1121 - val_accuracy: 0.9511 - val_loss: 0.1443\n",
      "Epoch 18/47\n",
      "\u001b[1m3187/3187\u001b[0m \u001b[32m━━━━━━━━━━━━━━━━━━━━\u001b[0m\u001b[37m\u001b[0m \u001b[1m8s\u001b[0m 2ms/step - accuracy: 0.9598 - loss: 0.1090 - val_accuracy: 0.9540 - val_loss: 0.1350\n",
      "Epoch 19/47\n",
      "\u001b[1m3187/3187\u001b[0m \u001b[32m━━━━━━━━━━━━━━━━━━━━\u001b[0m\u001b[37m\u001b[0m \u001b[1m8s\u001b[0m 3ms/step - accuracy: 0.9608 - loss: 0.1078 - val_accuracy: 0.9551 - val_loss: 0.1340\n",
      "Epoch 20/47\n",
      "\u001b[1m3187/3187\u001b[0m \u001b[32m━━━━━━━━━━━━━━━━━━━━\u001b[0m\u001b[37m\u001b[0m \u001b[1m8s\u001b[0m 3ms/step - accuracy: 0.9619 - loss: 0.1044 - val_accuracy: 0.9522 - val_loss: 0.1439\n",
      "Epoch 21/47\n",
      "\u001b[1m3187/3187\u001b[0m \u001b[32m━━━━━━━━━━━━━━━━━━━━\u001b[0m\u001b[37m\u001b[0m \u001b[1m7s\u001b[0m 2ms/step - accuracy: 0.9620 - loss: 0.1032 - val_accuracy: 0.9550 - val_loss: 0.1347\n",
      "Epoch 22/47\n",
      "\u001b[1m3187/3187\u001b[0m \u001b[32m━━━━━━━━━━━━━━━━━━━━\u001b[0m\u001b[37m\u001b[0m \u001b[1m8s\u001b[0m 2ms/step - accuracy: 0.9633 - loss: 0.1013 - val_accuracy: 0.9563 - val_loss: 0.1293\n",
      "Epoch 23/47\n",
      "\u001b[1m3187/3187\u001b[0m \u001b[32m━━━━━━━━━━━━━━━━━━━━\u001b[0m\u001b[37m\u001b[0m \u001b[1m8s\u001b[0m 2ms/step - accuracy: 0.9640 - loss: 0.0990 - val_accuracy: 0.9582 - val_loss: 0.1303\n",
      "Epoch 24/47\n",
      "\u001b[1m3187/3187\u001b[0m \u001b[32m━━━━━━━━━━━━━━━━━━━━\u001b[0m\u001b[37m\u001b[0m \u001b[1m7s\u001b[0m 2ms/step - accuracy: 0.9649 - loss: 0.0986 - val_accuracy: 0.9560 - val_loss: 0.1347\n",
      "Epoch 25/47\n",
      "\u001b[1m3187/3187\u001b[0m \u001b[32m━━━━━━━━━━━━━━━━━━━━\u001b[0m\u001b[37m\u001b[0m \u001b[1m6s\u001b[0m 2ms/step - accuracy: 0.9652 - loss: 0.0984 - val_accuracy: 0.9561 - val_loss: 0.1314\n",
      "Epoch 26/47\n",
      "\u001b[1m3187/3187\u001b[0m \u001b[32m━━━━━━━━━━━━━━━━━━━━\u001b[0m\u001b[37m\u001b[0m \u001b[1m7s\u001b[0m 2ms/step - accuracy: 0.9665 - loss: 0.0934 - val_accuracy: 0.9550 - val_loss: 0.1380\n",
      "Epoch 27/47\n",
      "\u001b[1m3187/3187\u001b[0m \u001b[32m━━━━━━━━━━━━━━━━━━━━\u001b[0m\u001b[37m\u001b[0m \u001b[1m7s\u001b[0m 2ms/step - accuracy: 0.9661 - loss: 0.0949 - val_accuracy: 0.9607 - val_loss: 0.1228\n",
      "Epoch 28/47\n",
      "\u001b[1m3187/3187\u001b[0m \u001b[32m━━━━━━━━━━━━━━━━━━━━\u001b[0m\u001b[37m\u001b[0m \u001b[1m7s\u001b[0m 2ms/step - accuracy: 0.9673 - loss: 0.0924 - val_accuracy: 0.9586 - val_loss: 0.1311\n",
      "Epoch 29/47\n",
      "\u001b[1m3187/3187\u001b[0m \u001b[32m━━━━━━━━━━━━━━━━━━━━\u001b[0m\u001b[37m\u001b[0m \u001b[1m7s\u001b[0m 2ms/step - accuracy: 0.9675 - loss: 0.0913 - val_accuracy: 0.9562 - val_loss: 0.1393\n",
      "Epoch 30/47\n",
      "\u001b[1m3187/3187\u001b[0m \u001b[32m━━━━━━━━━━━━━━━━━━━━\u001b[0m\u001b[37m\u001b[0m \u001b[1m7s\u001b[0m 2ms/step - accuracy: 0.9668 - loss: 0.0917 - val_accuracy: 0.9592 - val_loss: 0.1413\n",
      "Epoch 31/47\n",
      "\u001b[1m3187/3187\u001b[0m \u001b[32m━━━━━━━━━━━━━━━━━━━━\u001b[0m\u001b[37m\u001b[0m \u001b[1m7s\u001b[0m 2ms/step - accuracy: 0.9681 - loss: 0.0886 - val_accuracy: 0.9553 - val_loss: 0.1577\n",
      "Epoch 32/47\n",
      "\u001b[1m3187/3187\u001b[0m \u001b[32m━━━━━━━━━━━━━━━━━━━━\u001b[0m\u001b[37m\u001b[0m \u001b[1m7s\u001b[0m 2ms/step - accuracy: 0.9678 - loss: 0.0910 - val_accuracy: 0.9599 - val_loss: 0.1326\n",
      "Epoch 33/47\n",
      "\u001b[1m3187/3187\u001b[0m \u001b[32m━━━━━━━━━━━━━━━━━━━━\u001b[0m\u001b[37m\u001b[0m \u001b[1m7s\u001b[0m 2ms/step - accuracy: 0.9693 - loss: 0.0863 - val_accuracy: 0.9594 - val_loss: 0.1333\n",
      "Epoch 34/47\n",
      "\u001b[1m3187/3187\u001b[0m \u001b[32m━━━━━━━━━━━━━━━━━━━━\u001b[0m\u001b[37m\u001b[0m \u001b[1m7s\u001b[0m 2ms/step - accuracy: 0.9694 - loss: 0.0850 - val_accuracy: 0.9612 - val_loss: 0.1314\n",
      "Epoch 35/47\n",
      "\u001b[1m3187/3187\u001b[0m \u001b[32m━━━━━━━━━━━━━━━━━━━━\u001b[0m\u001b[37m\u001b[0m \u001b[1m7s\u001b[0m 2ms/step - accuracy: 0.9696 - loss: 0.0848 - val_accuracy: 0.9579 - val_loss: 0.1361\n",
      "Epoch 36/47\n",
      "\u001b[1m3187/3187\u001b[0m \u001b[32m━━━━━━━━━━━━━━━━━━━━\u001b[0m\u001b[37m\u001b[0m \u001b[1m7s\u001b[0m 2ms/step - accuracy: 0.9700 - loss: 0.0846 - val_accuracy: 0.9593 - val_loss: 0.1319\n",
      "Epoch 37/47\n",
      "\u001b[1m3187/3187\u001b[0m \u001b[32m━━━━━━━━━━━━━━━━━━━━\u001b[0m\u001b[37m\u001b[0m \u001b[1m7s\u001b[0m 2ms/step - accuracy: 0.9704 - loss: 0.0823 - val_accuracy: 0.9580 - val_loss: 0.1382\n",
      "Epoch 38/47\n",
      "\u001b[1m3187/3187\u001b[0m \u001b[32m━━━━━━━━━━━━━━━━━━━━\u001b[0m\u001b[37m\u001b[0m \u001b[1m7s\u001b[0m 2ms/step - accuracy: 0.9703 - loss: 0.0830 - val_accuracy: 0.9593 - val_loss: 0.1391\n",
      "Epoch 39/47\n",
      "\u001b[1m3187/3187\u001b[0m \u001b[32m━━━━━━━━━━━━━━━━━━━━\u001b[0m\u001b[37m\u001b[0m \u001b[1m6s\u001b[0m 2ms/step - accuracy: 0.9711 - loss: 0.0811 - val_accuracy: 0.9624 - val_loss: 0.1275\n",
      "Epoch 40/47\n",
      "\u001b[1m3187/3187\u001b[0m \u001b[32m━━━━━━━━━━━━━━━━━━━━\u001b[0m\u001b[37m\u001b[0m \u001b[1m7s\u001b[0m 2ms/step - accuracy: 0.9714 - loss: 0.0796 - val_accuracy: 0.9623 - val_loss: 0.1342\n",
      "Epoch 41/47\n",
      "\u001b[1m3187/3187\u001b[0m \u001b[32m━━━━━━━━━━━━━━━━━━━━\u001b[0m\u001b[37m\u001b[0m \u001b[1m7s\u001b[0m 2ms/step - accuracy: 0.9710 - loss: 0.0793 - val_accuracy: 0.9607 - val_loss: 0.1398\n",
      "Epoch 42/47\n",
      "\u001b[1m3187/3187\u001b[0m \u001b[32m━━━━━━━━━━━━━━━━━━━━\u001b[0m\u001b[37m\u001b[0m \u001b[1m7s\u001b[0m 2ms/step - accuracy: 0.9715 - loss: 0.0789 - val_accuracy: 0.9608 - val_loss: 0.1408\n",
      "Epoch 43/47\n",
      "\u001b[1m3187/3187\u001b[0m \u001b[32m━━━━━━━━━━━━━━━━━━━━\u001b[0m\u001b[37m\u001b[0m \u001b[1m7s\u001b[0m 2ms/step - accuracy: 0.9720 - loss: 0.0783 - val_accuracy: 0.9619 - val_loss: 0.1348\n",
      "Epoch 44/47\n",
      "\u001b[1m3187/3187\u001b[0m \u001b[32m━━━━━━━━━━━━━━━━━━━━\u001b[0m\u001b[37m\u001b[0m \u001b[1m7s\u001b[0m 2ms/step - accuracy: 0.9730 - loss: 0.0753 - val_accuracy: 0.9635 - val_loss: 0.1264\n",
      "Epoch 45/47\n",
      "\u001b[1m3187/3187\u001b[0m \u001b[32m━━━━━━━━━━━━━━━━━━━━\u001b[0m\u001b[37m\u001b[0m \u001b[1m7s\u001b[0m 2ms/step - accuracy: 0.9733 - loss: 0.0758 - val_accuracy: 0.9646 - val_loss: 0.1254\n",
      "Epoch 46/47\n",
      "\u001b[1m3187/3187\u001b[0m \u001b[32m━━━━━━━━━━━━━━━━━━━━\u001b[0m\u001b[37m\u001b[0m \u001b[1m6s\u001b[0m 2ms/step - accuracy: 0.9724 - loss: 0.0760 - val_accuracy: 0.9633 - val_loss: 0.1314\n",
      "Epoch 47/47\n",
      "\u001b[1m3187/3187\u001b[0m \u001b[32m━━━━━━━━━━━━━━━━━━━━\u001b[0m\u001b[37m\u001b[0m \u001b[1m7s\u001b[0m 2ms/step - accuracy: 0.9733 - loss: 0.0746 - val_accuracy: 0.9637 - val_loss: 0.1334\n"
     ]
    }
   ],
   "source": [
    "nn = Sequential([\n",
    "    Dense(256, activation='relu'),\n",
    "    Dense(64, activation='relu'),\n",
    "    Dense(16, activation='relu'),\n",
    "    Dense(6, activation='softmax'),\n",
    "])\n",
    "nn.compile(loss=\"sparse_categorical_crossentropy\",optimizer='adam', metrics=['accuracy'])\n",
    "history = nn.fit(x_train_norm, y_train, validation_data=(x_test_norm, y_test), epochs=best_epoch)"
   ]
  },
  {
   "cell_type": "code",
   "execution_count": 43,
   "id": "a332b561",
   "metadata": {
    "ExecuteTime": {
     "end_time": "2025-03-04T18:30:30.903924Z",
     "start_time": "2025-03-04T18:30:30.828295Z"
    },
    "execution": {
     "iopub.execute_input": "2025-03-06T13:19:51.510140Z",
     "iopub.status.busy": "2025-03-06T13:19:51.509755Z",
     "iopub.status.idle": "2025-03-06T13:19:51.725323Z",
     "shell.execute_reply": "2025-03-06T13:19:51.724081Z"
    },
    "papermill": {
     "duration": 0.611907,
     "end_time": "2025-03-06T13:19:51.727100",
     "exception": false,
     "start_time": "2025-03-06T13:19:51.115193",
     "status": "completed"
    },
    "tags": []
   },
   "outputs": [
    {
     "data": {
      "image/png": "[encoded data removed]",
      "text/plain": [
       "<Figure size 640x480 with 1 Axes>"
      ]
     },
     "metadata": {},
     "output_type": "display_data"
    }
   ],
   "source": [
    "# summarize history for accuracy\n",
    "plt.plot(history.history['accuracy'])\n",
    "plt.plot(history.history['val_accuracy'])\n",
    "plt.title('model accuracy')\n",
    "plt.ylabel('accuracy')\n",
    "plt.xlabel('epoch')\n",
    "plt.legend(['train', 'test'], loc='upper left')\n",
    "plt.show()"
   ]
  },
  {
   "cell_type": "markdown",
   "id": "389386cd",
   "metadata": {
    "papermill": {
     "duration": 0.322611,
     "end_time": "2025-03-06T13:19:52.384375",
     "exception": false,
     "start_time": "2025-03-06T13:19:52.061764",
     "status": "completed"
    },
    "tags": []
   },
   "source": [
    "We can see that the model accuracy un the test set is increasing with the number of epochs."
   ]
  },
  {
   "cell_type": "code",
   "execution_count": 44,
   "id": "ae868b7d",
   "metadata": {
    "ExecuteTime": {
     "end_time": "2025-03-04T18:30:31.817527Z",
     "start_time": "2025-03-04T18:30:30.910925Z"
    },
    "execution": {
     "iopub.execute_input": "2025-03-06T13:19:53.040161Z",
     "iopub.status.busy": "2025-03-06T13:19:53.039780Z",
     "iopub.status.idle": "2025-03-06T13:19:55.398415Z",
     "shell.execute_reply": "2025-03-06T13:19:55.397226Z"
    },
    "papermill": {
     "duration": 2.689052,
     "end_time": "2025-03-06T13:19:55.400250",
     "exception": false,
     "start_time": "2025-03-06T13:19:52.711198",
     "status": "completed"
    },
    "tags": []
   },
   "outputs": [
    {
     "name": "stdout",
     "output_type": "stream",
     "text": [
      "\u001b[1m1366/1366\u001b[0m \u001b[32m━━━━━━━━━━━━━━━━━━━━\u001b[0m\u001b[37m\u001b[0m \u001b[1m2s\u001b[0m 1ms/step\n",
      "Accuracy: 0.9636858725001144\n",
      "Classification report for test set\n",
      "              precision    recall  f1-score   support\n",
      "\n",
      "           0       0.90      0.92      0.91      6133\n",
      "           1       0.93      0.94      0.93      3121\n",
      "           2       0.89      0.83      0.86      3251\n",
      "           3       0.92      0.96      0.94      3707\n",
      "           4       1.00      0.99      0.99      3297\n",
      "           5       1.00      0.99      1.00     24193\n",
      "\n",
      "    accuracy                           0.96     43702\n",
      "   macro avg       0.94      0.94      0.94     43702\n",
      "weighted avg       0.96      0.96      0.96     43702\n",
      "\n"
     ]
    }
   ],
   "source": [
    "nn_pred = nn.predict(x_test_norm).argmax(-1)\n",
    "nn_score = accuracy_score(y_test, nn_pred)\n",
    "print(\"Accuracy:\", nn_score)\n",
    "print(\"Classification report for test set\")\n",
    "print(classification_report(y_test, nn_pred))"
   ]
  },
  {
   "cell_type": "code",
   "execution_count": 45,
   "id": "360cc896",
   "metadata": {
    "ExecuteTime": {
     "end_time": "2025-03-04T18:30:31.975134Z",
     "start_time": "2025-03-04T18:30:31.850052Z"
    },
    "execution": {
     "iopub.execute_input": "2025-03-06T13:19:56.126633Z",
     "iopub.status.busy": "2025-03-06T13:19:56.126248Z",
     "iopub.status.idle": "2025-03-06T13:19:56.449766Z",
     "shell.execute_reply": "2025-03-06T13:19:56.448601Z"
    },
    "papermill": {
     "duration": 0.654098,
     "end_time": "2025-03-06T13:19:56.451509",
     "exception": false,
     "start_time": "2025-03-06T13:19:55.797411",
     "status": "completed"
    },
    "tags": []
   },
   "outputs": [
    {
     "data": {
      "image/png": "[encoded data removed]",
      "text/plain": [
       "<Figure size 1000x600 with 2 Axes>"
      ]
     },
     "metadata": {},
     "output_type": "display_data"
    }
   ],
   "source": [
    "cm = confusion_matrix(y_test, nn_pred)\n",
    "plt.figure(figsize=(10, 6))\n",
    "sns.heatmap(cm, annot=True, fmt='d', cmap='Blues')\n",
    "plt.xlabel('Predicted')\n",
    "plt.ylabel('Actual')\n",
    "plt.title('Confusion Matrix for Neural Network Model')\n",
    "plt.show()"
   ]
  },
  {
   "cell_type": "markdown",
   "id": "9c3e2fc2",
   "metadata": {
    "papermill": {
     "duration": 0.325718,
     "end_time": "2025-03-06T13:19:57.107087",
     "exception": false,
     "start_time": "2025-03-06T13:19:56.781369",
     "status": "completed"
    },
    "tags": []
   },
   "source": [
    "We see that neural notwork gets high score but not high as XGBoost and random forest, we assume that's because the neural network is less suitable for tabular data then random forest and XGBoost."
   ]
  },
  {
   "cell_type": "markdown",
   "id": "df946341",
   "metadata": {
    "papermill": {
     "duration": 0.327585,
     "end_time": "2025-03-06T13:19:57.829839",
     "exception": false,
     "start_time": "2025-03-06T13:19:57.502254",
     "status": "completed"
    },
    "tags": []
   },
   "source": [
    "## Ensemble Learning Model"
   ]
  },
  {
   "cell_type": "markdown",
   "id": "245137dd",
   "metadata": {
    "papermill": {
     "duration": 0.332211,
     "end_time": "2025-03-06T13:19:58.488779",
     "exception": false,
     "start_time": "2025-03-06T13:19:58.156568",
     "status": "completed"
    },
    "tags": []
   },
   "source": [
    "With such relative high accuracy scores for the models, we can try to combine the models to get better results. We will use the voting classifier and to combine the models."
   ]
  },
  {
   "cell_type": "code",
   "execution_count": 46,
   "id": "c4f5dab4",
   "metadata": {
    "ExecuteTime": {
     "end_time": "2025-03-04T21:12:54.987089Z",
     "start_time": "2025-03-04T21:08:43.045Z"
    },
    "execution": {
     "iopub.execute_input": "2025-03-06T13:19:59.211892Z",
     "iopub.status.busy": "2025-03-06T13:19:59.211497Z",
     "iopub.status.idle": "2025-03-06T13:38:42.912056Z",
     "shell.execute_reply": "2025-03-06T13:38:42.910939Z"
    },
    "papermill": {
     "duration": 1124.098513,
     "end_time": "2025-03-06T13:38:42.913964",
     "exception": false,
     "start_time": "2025-03-06T13:19:58.815451",
     "status": "completed"
    },
    "tags": []
   },
   "outputs": [
    {
     "name": "stdout",
     "output_type": "stream",
     "text": [
      "\u001b[1m3187/3187\u001b[0m \u001b[32m━━━━━━━━━━━━━━━━━━━━\u001b[0m\u001b[37m\u001b[0m \u001b[1m6s\u001b[0m 2ms/step - accuracy: 0.8450 - loss: 0.4167\n",
      "\u001b[1m1366/1366\u001b[0m \u001b[32m━━━━━━━━━━━━━━━━━━━━\u001b[0m\u001b[37m\u001b[0m \u001b[1m2s\u001b[0m 1ms/step\n"
     ]
    }
   ],
   "source": [
    "from sklearn.ensemble import VotingClassifier\n",
    "from sklearn.base import BaseEstimator, ClassifierMixin\n",
    "\n",
    "# Define the neural network model function\n",
    "def create_nn_model():\n",
    "    nn = Sequential([\n",
    "        Dense(256, activation='relu'),\n",
    "        Dense(64, activation='relu'),\n",
    "        Dense(16, activation='relu'),\n",
    "        Dense(6, activation='softmax'),\n",
    "    ])\n",
    "    nn.compile(loss=\"sparse_categorical_crossentropy\", optimizer='adam', metrics=['accuracy'])\n",
    "    return nn\n",
    "\n",
    "# Custom wrapper for Keras model\n",
    "class KerasClassifierWrapper(BaseEstimator, ClassifierMixin):\n",
    "    def __init__(self, build_fn, **kwargs):\n",
    "        self.build_fn = build_fn\n",
    "        self.kwargs = kwargs\n",
    "        self.model = None\n",
    "\n",
    "    def fit(self, X, y):\n",
    "        self.model = self.build_fn(**self.kwargs)\n",
    "        self.model.fit(X, y, **self.kwargs)\n",
    "        return self\n",
    "\n",
    "    def predict(self, X):\n",
    "        return self.model.predict(X).argmax(axis=-1)\n",
    "\n",
    "    def predict_proba(self, X):\n",
    "        return self.model.predict(X)\n",
    "\n",
    "# Create the KerasClassifier wrapper for the neural network\n",
    "nn_model = KerasClassifierWrapper(build_fn=create_nn_model, epochs=best_epoch, batch_size=32, verbose=0)\n",
    "\n",
    "# Initialize individual models\n",
    "lr = LogisticRegression(multi_class=\"multinomial\", n_jobs=-1, random_state=RANDOM_SEED, max_iter=best_iter)\n",
    "svc = SVC(random_state=RANDOM_SEED, probability=True)\n",
    "rfc = RandomForestClassifier(max_depth=optimal_depth, n_jobs=-1, random_state=RANDOM_SEED)\n",
    "xgb = XGBClassifier(objective=\"multi:softmax\", n_estimators=300, max_depth=10, random_state=RANDOM_SEED)\n",
    "knn = KNeighborsClassifier(n_neighbors=best_K)\n",
    "\n",
    "# Create the voting classifier\n",
    "voting_clf = VotingClassifier(estimators=[\n",
    "    ('svc', svc),\n",
    "    ('rfc', rfc),\n",
    "    ('xgb', xgb),\n",
    "    ('knn', knn),\n",
    "    ('nn', nn_model)\n",
    "], voting='soft')\n",
    "\n",
    "# Train the voting classifier\n",
    "voting_clf.fit(x_train_norm, y_train)\n",
    "\n",
    "# Evaluate the voting classifier\n",
    "voting_pred = voting_clf.predict(x_test_norm)\n",
    "voting_score = accuracy_score(y_test, voting_pred)\n",
    "voting_report = classification_report(y_test, voting_pred)"
   ]
  },
  {
   "cell_type": "code",
   "execution_count": 47,
   "id": "661627f4",
   "metadata": {
    "ExecuteTime": {
     "end_time": "2025-03-04T21:12:55.050211Z",
     "start_time": "2025-03-04T21:12:55.035209Z"
    },
    "execution": {
     "iopub.execute_input": "2025-03-06T13:38:43.597553Z",
     "iopub.status.busy": "2025-03-06T13:38:43.597194Z",
     "iopub.status.idle": "2025-03-06T13:38:43.603646Z",
     "shell.execute_reply": "2025-03-06T13:38:43.602166Z"
    },
    "papermill": {
     "duration": 0.350148,
     "end_time": "2025-03-06T13:38:43.605767",
     "exception": false,
     "start_time": "2025-03-06T13:38:43.255619",
     "status": "completed"
    },
    "tags": []
   },
   "outputs": [
    {
     "name": "stdout",
     "output_type": "stream",
     "text": [
      "Ensemble Model Accuracy: 0.9853553613106951\n",
      "Classification Report for Ensemble Model:\n",
      "              precision    recall  f1-score   support\n",
      "\n",
      "           0       0.95      0.97      0.96      6133\n",
      "           1       0.97      0.96      0.96      3121\n",
      "           2       0.99      0.92      0.95      3251\n",
      "           3       0.96      0.98      0.97      3707\n",
      "           4       1.00      1.00      1.00      3297\n",
      "           5       1.00      1.00      1.00     24193\n",
      "\n",
      "    accuracy                           0.99     43702\n",
      "   macro avg       0.98      0.97      0.97     43702\n",
      "weighted avg       0.99      0.99      0.99     43702\n",
      "\n"
     ]
    }
   ],
   "source": [
    "print(\"Ensemble Model Accuracy:\", voting_score)\n",
    "print(\"Classification Report for Ensemble Model:\")\n",
    "print(voting_report)"
   ]
  },
  {
   "cell_type": "code",
   "execution_count": 48,
   "id": "c33914be",
   "metadata": {
    "ExecuteTime": {
     "end_time": "2025-03-04T21:12:55.174934Z",
     "start_time": "2025-03-04T21:12:55.053408Z"
    },
    "execution": {
     "iopub.execute_input": "2025-03-06T13:38:44.353658Z",
     "iopub.status.busy": "2025-03-06T13:38:44.353311Z",
     "iopub.status.idle": "2025-03-06T13:38:44.683152Z",
     "shell.execute_reply": "2025-03-06T13:38:44.681949Z"
    },
    "papermill": {
     "duration": 0.670947,
     "end_time": "2025-03-06T13:38:44.685044",
     "exception": false,
     "start_time": "2025-03-06T13:38:44.014097",
     "status": "completed"
    },
    "tags": []
   },
   "outputs": [
    {
     "data": {
      "image/png": "[encoded data removed]",
      "text/plain": [
       "<Figure size 1000x600 with 2 Axes>"
      ]
     },
     "metadata": {},
     "output_type": "display_data"
    }
   ],
   "source": [
    "# Plot the confusion matrix for the ensemble model\n",
    "cm = confusion_matrix(y_test, voting_pred)\n",
    "plt.figure(figsize=(10, 6))\n",
    "sns.heatmap(cm, annot=True, fmt='d', cmap='Blues')\n",
    "plt.xlabel('Predicted')\n",
    "plt.ylabel('Actual')\n",
    "plt.title('Confusion Matrix for Ensemble Model')\n",
    "plt.show()"
   ]
  },
  {
   "cell_type": "markdown",
   "id": "952f62fc",
   "metadata": {
    "papermill": {
     "duration": 0.333855,
     "end_time": "2025-03-06T13:38:45.356932",
     "exception": false,
     "start_time": "2025-03-06T13:38:45.023077",
     "status": "completed"
    },
    "tags": []
   },
   "source": [
    "AS we can see the ensemble model get high score from the neural network but still less than the XGBoost and Random forest models, that's maybe because all the models get wrong in the same samples."
   ]
  },
  {
   "cell_type": "markdown",
   "id": "654e9f1a",
   "metadata": {
    "papermill": {
     "duration": 0.404909,
     "end_time": "2025-03-06T13:38:46.099721",
     "exception": false,
     "start_time": "2025-03-06T13:38:45.694812",
     "status": "completed"
    },
    "tags": []
   },
   "source": [
    "## Summary"
   ]
  },
  {
   "cell_type": "code",
   "execution_count": 49,
   "id": "cab20e57",
   "metadata": {
    "ExecuteTime": {
     "end_time": "2025-03-04T21:12:55.533474Z",
     "start_time": "2025-03-04T21:12:55.222707Z"
    },
    "execution": {
     "iopub.execute_input": "2025-03-06T13:38:46.792140Z",
     "iopub.status.busy": "2025-03-06T13:38:46.791738Z",
     "iopub.status.idle": "2025-03-06T13:38:47.654803Z",
     "shell.execute_reply": "2025-03-06T13:38:47.653626Z"
    },
    "papermill": {
     "duration": 1.213385,
     "end_time": "2025-03-06T13:38:47.657148",
     "exception": false,
     "start_time": "2025-03-06T13:38:46.443763",
     "status": "completed"
    },
    "tags": []
   },
   "outputs": [
    {
     "data": {
      "image/png": "[encoded data removed]",
      "text/plain": [
       "<Figure size 1200x800 with 1 Axes>"
      ]
     },
     "metadata": {},
     "output_type": "display_data"
    }
   ],
   "source": [
    "import matplotlib.pyplot as plt\n",
    "from sklearn.metrics import precision_score, recall_score, f1_score\n",
    "\n",
    "# Function to calculate metrics\n",
    "def get_metrics(y_true, y_pred):\n",
    "    accuracy = accuracy_score(y_true, y_pred)\n",
    "    precision = precision_score(y_true, y_pred, average='weighted')\n",
    "    recall = recall_score(y_true, y_pred, average='weighted')\n",
    "    f1 = f1_score(y_true, y_pred, average='weighted')\n",
    "    return accuracy, precision, recall, f1\n",
    "\n",
    "# Calculate metrics for each model\n",
    "metrics = {\n",
    "    \"Logistic Regression\": get_metrics(y_test, lr_pred),\n",
    "    \"Support Vector Machine\": get_metrics(y_test, svc_pred),\n",
    "    \"Random Forest\": get_metrics(y_test, rfc_pred),\n",
    "    \"XGBoost\": get_metrics(y_test, xgb_pred),\n",
    "    \"Neural Network\": get_metrics(y_test, nn_pred),\n",
    "    \"KNN\": get_metrics(y_test, knn_pred),\n",
    "    \"Ensemble\": get_metrics(y_test, voting_pred)\n",
    "}\n",
    "\n",
    "# Create a DataFrame with the metrics\n",
    "metrics_df = pd.DataFrame(metrics, index=[\"Accuracy\", \"Precision\", \"Recall\", \"F1-Score\"])\n",
    "\n",
    "# Plot the metrics\n",
    "fig, ax = plt.subplots(figsize=(12, 8))\n",
    "metrics_df.T.plot(kind='bar', ax=ax)\n",
    "plt.title(\"Performance Metrics of Different Models\")\n",
    "plt.xlabel(\"Models\")\n",
    "plt.ylabel(\"Scores\")\n",
    "plt.xticks(rotation=45)\n",
    "plt.legend(loc='lower right')\n",
    "plt.grid(True)\n",
    "ax.set_ylim(0.85, 1.0)  # Set the y-axis limit to start from 0.85\n",
    "\n",
    "\n",
    "# Annotate each bar with the metric value\n",
    "for container in ax.containers:\n",
    "    ax.bar_label(container, fmt='%.2f')\n",
    "\n",
    "plt.show()"
   ]
  },
  {
   "cell_type": "code",
   "execution_count": 50,
   "id": "efe18a69",
   "metadata": {
    "ExecuteTime": {
     "end_time": "2025-03-04T21:12:55.750989Z",
     "start_time": "2025-03-04T21:12:55.580752Z"
    },
    "execution": {
     "iopub.execute_input": "2025-03-06T13:38:48.345460Z",
     "iopub.status.busy": "2025-03-06T13:38:48.345086Z",
     "iopub.status.idle": "2025-03-06T13:38:48.778874Z",
     "shell.execute_reply": "2025-03-06T13:38:48.777720Z"
    },
    "papermill": {
     "duration": 0.779228,
     "end_time": "2025-03-06T13:38:48.780777",
     "exception": false,
     "start_time": "2025-03-06T13:38:48.001549",
     "status": "completed"
    },
    "tags": []
   },
   "outputs": [
    {
     "data": {
      "text/html": [
       "<div>\n",
       "<style scoped>\n",
       "    .dataframe tbody tr th:only-of-type {\n",
       "        vertical-align: middle;\n",
       "    }\n",
       "\n",
       "    .dataframe tbody tr th {\n",
       "        vertical-align: top;\n",
       "    }\n",
       "\n",
       "    .dataframe thead th {\n",
       "        text-align: right;\n",
       "    }\n",
       "</style>\n",
       "<table border=\"1\" class=\"dataframe\">\n",
       "  <thead>\n",
       "    <tr style=\"text-align: right;\">\n",
       "      <th></th>\n",
       "      <th>Accuracy</th>\n",
       "      <th>Precision</th>\n",
       "      <th>Recall</th>\n",
       "      <th>F1-Score</th>\n",
       "    </tr>\n",
       "  </thead>\n",
       "  <tbody>\n",
       "    <tr>\n",
       "      <th>Logistic Regression</th>\n",
       "      <td>0.872660</td>\n",
       "      <td>0.872131</td>\n",
       "      <td>0.872660</td>\n",
       "      <td>0.869809</td>\n",
       "    </tr>\n",
       "    <tr>\n",
       "      <th>Support Vector Machine</th>\n",
       "      <td>0.899181</td>\n",
       "      <td>0.901217</td>\n",
       "      <td>0.899181</td>\n",
       "      <td>0.894072</td>\n",
       "    </tr>\n",
       "    <tr>\n",
       "      <th>Random Forest</th>\n",
       "      <td>0.991991</td>\n",
       "      <td>0.992027</td>\n",
       "      <td>0.991991</td>\n",
       "      <td>0.991981</td>\n",
       "    </tr>\n",
       "    <tr>\n",
       "      <th>XGBoost</th>\n",
       "      <td>0.996202</td>\n",
       "      <td>0.996210</td>\n",
       "      <td>0.996202</td>\n",
       "      <td>0.996200</td>\n",
       "    </tr>\n",
       "    <tr>\n",
       "      <th>Neural Network</th>\n",
       "      <td>0.963686</td>\n",
       "      <td>0.963745</td>\n",
       "      <td>0.963686</td>\n",
       "      <td>0.963603</td>\n",
       "    </tr>\n",
       "    <tr>\n",
       "      <th>KNN</th>\n",
       "      <td>0.960986</td>\n",
       "      <td>0.961006</td>\n",
       "      <td>0.960986</td>\n",
       "      <td>0.960987</td>\n",
       "    </tr>\n",
       "    <tr>\n",
       "      <th>Ensemble</th>\n",
       "      <td>0.985355</td>\n",
       "      <td>0.985462</td>\n",
       "      <td>0.985355</td>\n",
       "      <td>0.985306</td>\n",
       "    </tr>\n",
       "  </tbody>\n",
       "</table>\n",
       "</div>"
      ],
      "text/plain": [
       "                        Accuracy  Precision    Recall  F1-Score\n",
       "Logistic Regression     0.872660   0.872131  0.872660  0.869809\n",
       "Support Vector Machine  0.899181   0.901217  0.899181  0.894072\n",
       "Random Forest           0.991991   0.992027  0.991991  0.991981\n",
       "XGBoost                 0.996202   0.996210  0.996202  0.996200\n",
       "Neural Network          0.963686   0.963745  0.963686  0.963603\n",
       "KNN                     0.960986   0.961006  0.960986  0.960987\n",
       "Ensemble                0.985355   0.985462  0.985355  0.985306"
      ]
     },
     "execution_count": 50,
     "metadata": {},
     "output_type": "execute_result"
    }
   ],
   "source": [
    "# Function to calculate metrics\n",
    "def get_metrics(y_true, y_pred):\n",
    "    accuracy = accuracy_score(y_true, y_pred)\n",
    "    precision = precision_score(y_true, y_pred, average='weighted')\n",
    "    recall = recall_score(y_true, y_pred, average='weighted')\n",
    "    f1 = f1_score(y_true, y_pred, average='weighted')\n",
    "    return accuracy, precision, recall, f1\n",
    "\n",
    "# Calculate metrics for each model\n",
    "metrics = {\n",
    "    \"Logistic Regression\": get_metrics(y_test, lr_pred),\n",
    "    \"Support Vector Machine\": get_metrics(y_test, svc_pred),\n",
    "    \"Random Forest\": get_metrics(y_test, rfc_pred),\n",
    "    \"XGBoost\": get_metrics(y_test, xgb_pred),\n",
    "    \"Neural Network\": get_metrics(y_test, nn_pred),\n",
    "    \"KNN\": get_metrics(y_test, knn_pred),\n",
    "    \"Ensemble\": get_metrics(y_test, voting_pred)\n",
    "}\n",
    "\n",
    "# Create a DataFrame with the metrics\n",
    "metrics_df = pd.DataFrame(metrics, index=[\"Accuracy\", \"Precision\", \"Recall\", \"F1-Score\"])\n",
    "\n",
    "# Transpose the DataFrame\n",
    "metrics_df_transposed = metrics_df.T\n",
    "metrics_df_transposed"
   ]
  },
  {
   "cell_type": "markdown",
   "id": "879b803c",
   "metadata": {
    "papermill": {
     "duration": 0.366287,
     "end_time": "2025-03-06T13:38:49.551640",
     "exception": false,
     "start_time": "2025-03-06T13:38:49.185353",
     "status": "completed"
    },
    "tags": []
   },
   "source": [
    "We can see that the most accurate model to classify a Network transport type is the XGBoost model that gain close to 100% accuracy and also Random. Forest model that gain 99% accuracy and in third place the ensemble model with 98.59%. more over we can see that SVM and logistic regression models get low results with a significant gat between them and the other models, we assume because the other models can identify non-linear relations in the data."
   ]
  },
  {
   "cell_type": "markdown",
   "id": "10a4f4e6",
   "metadata": {
    "papermill": {
     "duration": 0.337212,
     "end_time": "2025-03-06T13:38:50.231581",
     "exception": false,
     "start_time": "2025-03-06T13:38:49.894369",
     "status": "completed"
    },
    "tags": []
   },
   "source": [
    "## From Model to Practical Application\n",
    "\n",
    "This traffic classification model has several practical applications in network management:\n",
    "\n",
    "**Security Monitoring:**\n",
    "Unexpected traffic patterns can indicate potential security issues. For example, if a device that normally only generates web browsing traffic suddenly shows patterns matching file transfer or remote access, this could indicate compromised security.\n",
    "\n",
    "**Capacity Planning:**\n",
    "Understanding the composition of network traffic helps administrators plan infrastructure upgrades based on actual usage patterns and trends.\n",
    "\n",
    "**Policy Enforcement:**\n",
    "Classification enables the enforcement of acceptable use policies by identifying applications that might be prohibited on corporate networks.\n"
   ]
  },
  {
   "cell_type": "markdown",
   "id": "c1f46a85",
   "metadata": {
    "papermill": {
     "duration": 0.341781,
     "end_time": "2025-03-06T13:38:50.913880",
     "exception": false,
     "start_time": "2025-03-06T13:38:50.572099",
     "status": "completed"
    },
    "tags": []
   },
   "source": [
    "## Conclusion and Future Work\n",
    "\n",
    "This project demonstrates the effectiveness of machine learning for network traffic classification using flow-level statistics. Our XGBOOST model achieved strong performance across different traffic types, with an overall accuracy of approximately 99.62%.\n",
    "\n",
    "The ability to classify encrypted traffic without deep packet inspection represents a significant advantage for modern networks where privacy concerns and encryption are increasingly important.\n",
    "\n",
    "**Key learnings:**\n",
    "- Flow-level statistics contain rich information about application behavior\n",
    "- Ensemble methods like Random Forest and XGBoost are well-suited to this classification task\n",
    "- Feature importance analysis reveals the network characteristics that best distinguish different applications\n",
    "\n",
    "**Future improvements could include:**\n",
    "- Incorporating temporal features to detect changes in behavior over time\n",
    "- Expanding the dataset to include more diverse network conditions and applications\n",
    "- Exploring deep learning approaches for capturing sequential patterns in traffic\n",
    "- Developing an online learning system that can adapt to evolving traffic patterns\n",
    "\n",
    "By continuing to refine these methods, we can build more intelligent networks that automatically optimize themselves based on the types of traffic they carry."
   ]
  }
 ],
 "metadata": {
  "kaggle": {
   "accelerator": "none",
   "dataSources": [
    {
     "datasetId": 4576950,
     "sourceId": 7813633,
     "sourceType": "datasetVersion"
    }
   ],
   "dockerImageVersionId": 30918,
   "isGpuEnabled": false,
   "isInternetEnabled": false,
   "language": "python",
   "sourceType": "notebook"
  },
  "kernelspec": {
   "display_name": "Python 3",
   "language": "python",
   "name": "python3"
  },
  "language_info": {
   "codemirror_mode": {
    "name": "ipython",
    "version": 3
   },
   "file_extension": ".py",
   "mimetype": "text/x-python",
   "name": "python",
   "nbconvert_exporter": "python",
   "pygments_lexer": "ipython3",
   "version": "3.10.12"
  },
  "papermill": {
   "default_parameters": {},
   "duration": 2262.041944,
   "end_time": "2025-03-06T13:38:53.346759",
   "environment_variables": {},
   "exception": null,
   "input_path": "__notebook__.ipynb",
   "output_path": "__notebook__.ipynb",
   "parameters": {},
   "start_time": "2025-03-06T13:01:11.304815",
   "version": "2.6.0"
  }
 },
 "nbformat": 4,
 "nbformat_minor": 5
}
